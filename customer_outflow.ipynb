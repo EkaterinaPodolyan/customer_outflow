{
 "cells": [
  {
   "cell_type": "markdown",
   "metadata": {
    "toc": true
   },
   "source": [
    "<h1>Содержание<span class=\"tocSkip\"></span></h1>\n",
    "<div class=\"toc\"><ul class=\"toc-item\"><li><span><a href=\"#Подготовка-данных\" data-toc-modified-id=\"Подготовка-данных-1\"><span class=\"toc-item-num\">1&nbsp;&nbsp;</span>Подготовка данных</a></span></li><li><span><a href=\"#Исследование-задачи\" data-toc-modified-id=\"Исследование-задачи-2\"><span class=\"toc-item-num\">2&nbsp;&nbsp;</span>Исследование задачи</a></span></li><li><span><a href=\"#Борьба-с-дисбалансом\" data-toc-modified-id=\"Борьба-с-дисбалансом-3\"><span class=\"toc-item-num\">3&nbsp;&nbsp;</span>Борьба с дисбалансом</a></span><ul class=\"toc-item\"><li><span><a href=\"#Попробуем-сбалансировать-взвешиванием\" data-toc-modified-id=\"Попробуем-сбалансировать-взвешиванием-3.1\"><span class=\"toc-item-num\">3.1&nbsp;&nbsp;</span>Попробуем сбалансировать взвешиванием</a></span></li><li><span><a href=\"#Применим-увеличение-выборки-для-борьбы-с-дисбалансом\" data-toc-modified-id=\"Применим-увеличение-выборки-для-борьбы-с-дисбалансом-3.2\"><span class=\"toc-item-num\">3.2&nbsp;&nbsp;</span>Применим увеличение выборки для борьбы с дисбалансом</a></span></li></ul></li><li><span><a href=\"#Тестирование-модели\" data-toc-modified-id=\"Тестирование-модели-4\"><span class=\"toc-item-num\">4&nbsp;&nbsp;</span>Тестирование модели</a></span></li><li><span><a href=\"#Общий-вывод\" data-toc-modified-id=\"Общий-вывод-5\"><span class=\"toc-item-num\">5&nbsp;&nbsp;</span>Общий вывод</a></span></li><li><span><a href=\"#Чек-лист-готовности-проекта\" data-toc-modified-id=\"Чек-лист-готовности-проекта-6\"><span class=\"toc-item-num\">6&nbsp;&nbsp;</span>Чек-лист готовности проекта</a></span></li></ul></div>"
   ]
  },
  {
   "cell_type": "markdown",
   "metadata": {},
   "source": [
    "# Отток клиентов"
   ]
  },
  {
   "cell_type": "markdown",
   "metadata": {},
   "source": [
    "Из «Бета-Банка» стали уходить клиенты. Каждый месяц. Немного, но заметно. Банковские маркетологи посчитали: сохранять текущих клиентов дешевле, чем привлекать новых.\n",
    "\n",
    "Нужно спрогнозировать, уйдёт клиент из банка в ближайшее время или нет. Вам предоставлены исторические данные о поведении клиентов и расторжении договоров с банком. \n",
    "\n",
    "Постройте модель с предельно большим значением *F1*-меры. Чтобы сдать проект успешно, нужно довести метрику до 0.59. Проверьте *F1*-меру на тестовой выборке самостоятельно.\n",
    "\n",
    "Дополнительно измеряйте *AUC-ROC*, сравнивайте её значение с *F1*-мерой."
   ]
  },
  {
   "cell_type": "markdown",
   "metadata": {},
   "source": [
    "## Подготовка данных"
   ]
  },
  {
   "cell_type": "code",
   "execution_count": 1,
   "metadata": {},
   "outputs": [],
   "source": [
    "import pandas as pd\n",
    "from sklearn.model_selection import train_test_split\n",
    "from sklearn.linear_model import LogisticRegression\n",
    "from sklearn.preprocessing import StandardScaler\n",
    "from sklearn.tree import DecisionTreeClassifier\n",
    "from sklearn.metrics import accuracy_score\n",
    "from sklearn.metrics import f1_score\n",
    "from sklearn.metrics import recall_score\n",
    "from sklearn.metrics import precision_score\n",
    "from sklearn.ensemble import RandomForestClassifier\n",
    "from sklearn.linear_model import LinearRegression\n",
    "from sklearn.metrics import confusion_matrix\n",
    "from sklearn.metrics import roc_auc_score\n",
    "from sklearn.metrics import roc_curve\n",
    "import matplotlib.pyplot as plt\n",
    "from sklearn.utils import shuffle"
   ]
  },
  {
   "cell_type": "code",
   "execution_count": 2,
   "metadata": {},
   "outputs": [],
   "source": [
    "data = pd.read_csv('data.csv')"
   ]
  },
  {
   "cell_type": "code",
   "execution_count": 3,
   "metadata": {},
   "outputs": [
    {
     "data": {
      "text/html": [
       "<div>\n",
       "<style scoped>\n",
       "    .dataframe tbody tr th:only-of-type {\n",
       "        vertical-align: middle;\n",
       "    }\n",
       "\n",
       "    .dataframe tbody tr th {\n",
       "        vertical-align: top;\n",
       "    }\n",
       "\n",
       "    .dataframe thead th {\n",
       "        text-align: right;\n",
       "    }\n",
       "</style>\n",
       "<table border=\"1\" class=\"dataframe\">\n",
       "  <thead>\n",
       "    <tr style=\"text-align: right;\">\n",
       "      <th></th>\n",
       "      <th>RowNumber</th>\n",
       "      <th>CustomerId</th>\n",
       "      <th>Surname</th>\n",
       "      <th>CreditScore</th>\n",
       "      <th>Geography</th>\n",
       "      <th>Gender</th>\n",
       "      <th>Age</th>\n",
       "      <th>Tenure</th>\n",
       "      <th>Balance</th>\n",
       "      <th>NumOfProducts</th>\n",
       "      <th>HasCrCard</th>\n",
       "      <th>IsActiveMember</th>\n",
       "      <th>EstimatedSalary</th>\n",
       "      <th>Exited</th>\n",
       "    </tr>\n",
       "  </thead>\n",
       "  <tbody>\n",
       "    <tr>\n",
       "      <th>0</th>\n",
       "      <td>1</td>\n",
       "      <td>15634602</td>\n",
       "      <td>Hargrave</td>\n",
       "      <td>619</td>\n",
       "      <td>France</td>\n",
       "      <td>Female</td>\n",
       "      <td>42</td>\n",
       "      <td>2.0</td>\n",
       "      <td>0.00</td>\n",
       "      <td>1</td>\n",
       "      <td>1</td>\n",
       "      <td>1</td>\n",
       "      <td>101348.88</td>\n",
       "      <td>1</td>\n",
       "    </tr>\n",
       "    <tr>\n",
       "      <th>1</th>\n",
       "      <td>2</td>\n",
       "      <td>15647311</td>\n",
       "      <td>Hill</td>\n",
       "      <td>608</td>\n",
       "      <td>Spain</td>\n",
       "      <td>Female</td>\n",
       "      <td>41</td>\n",
       "      <td>1.0</td>\n",
       "      <td>83807.86</td>\n",
       "      <td>1</td>\n",
       "      <td>0</td>\n",
       "      <td>1</td>\n",
       "      <td>112542.58</td>\n",
       "      <td>0</td>\n",
       "    </tr>\n",
       "    <tr>\n",
       "      <th>2</th>\n",
       "      <td>3</td>\n",
       "      <td>15619304</td>\n",
       "      <td>Onio</td>\n",
       "      <td>502</td>\n",
       "      <td>France</td>\n",
       "      <td>Female</td>\n",
       "      <td>42</td>\n",
       "      <td>8.0</td>\n",
       "      <td>159660.80</td>\n",
       "      <td>3</td>\n",
       "      <td>1</td>\n",
       "      <td>0</td>\n",
       "      <td>113931.57</td>\n",
       "      <td>1</td>\n",
       "    </tr>\n",
       "    <tr>\n",
       "      <th>3</th>\n",
       "      <td>4</td>\n",
       "      <td>15701354</td>\n",
       "      <td>Boni</td>\n",
       "      <td>699</td>\n",
       "      <td>France</td>\n",
       "      <td>Female</td>\n",
       "      <td>39</td>\n",
       "      <td>1.0</td>\n",
       "      <td>0.00</td>\n",
       "      <td>2</td>\n",
       "      <td>0</td>\n",
       "      <td>0</td>\n",
       "      <td>93826.63</td>\n",
       "      <td>0</td>\n",
       "    </tr>\n",
       "    <tr>\n",
       "      <th>4</th>\n",
       "      <td>5</td>\n",
       "      <td>15737888</td>\n",
       "      <td>Mitchell</td>\n",
       "      <td>850</td>\n",
       "      <td>Spain</td>\n",
       "      <td>Female</td>\n",
       "      <td>43</td>\n",
       "      <td>2.0</td>\n",
       "      <td>125510.82</td>\n",
       "      <td>1</td>\n",
       "      <td>1</td>\n",
       "      <td>1</td>\n",
       "      <td>79084.10</td>\n",
       "      <td>0</td>\n",
       "    </tr>\n",
       "  </tbody>\n",
       "</table>\n",
       "</div>"
      ],
      "text/plain": [
       "   RowNumber  CustomerId   Surname  CreditScore Geography  Gender  Age  \\\n",
       "0          1    15634602  Hargrave          619    France  Female   42   \n",
       "1          2    15647311      Hill          608     Spain  Female   41   \n",
       "2          3    15619304      Onio          502    France  Female   42   \n",
       "3          4    15701354      Boni          699    France  Female   39   \n",
       "4          5    15737888  Mitchell          850     Spain  Female   43   \n",
       "\n",
       "   Tenure    Balance  NumOfProducts  HasCrCard  IsActiveMember  \\\n",
       "0     2.0       0.00              1          1               1   \n",
       "1     1.0   83807.86              1          0               1   \n",
       "2     8.0  159660.80              3          1               0   \n",
       "3     1.0       0.00              2          0               0   \n",
       "4     2.0  125510.82              1          1               1   \n",
       "\n",
       "   EstimatedSalary  Exited  \n",
       "0        101348.88       1  \n",
       "1        112542.58       0  \n",
       "2        113931.57       1  \n",
       "3         93826.63       0  \n",
       "4         79084.10       0  "
      ]
     },
     "execution_count": 3,
     "metadata": {},
     "output_type": "execute_result"
    }
   ],
   "source": [
    "pd.set_option('display.max_columns', 50)\n",
    "data.head()"
   ]
  },
  {
   "cell_type": "code",
   "execution_count": 4,
   "metadata": {},
   "outputs": [
    {
     "name": "stdout",
     "output_type": "stream",
     "text": [
      "<class 'pandas.core.frame.DataFrame'>\n",
      "RangeIndex: 10000 entries, 0 to 9999\n",
      "Data columns (total 14 columns):\n",
      " #   Column           Non-Null Count  Dtype  \n",
      "---  ------           --------------  -----  \n",
      " 0   RowNumber        10000 non-null  int64  \n",
      " 1   CustomerId       10000 non-null  int64  \n",
      " 2   Surname          10000 non-null  object \n",
      " 3   CreditScore      10000 non-null  int64  \n",
      " 4   Geography        10000 non-null  object \n",
      " 5   Gender           10000 non-null  object \n",
      " 6   Age              10000 non-null  int64  \n",
      " 7   Tenure           9091 non-null   float64\n",
      " 8   Balance          10000 non-null  float64\n",
      " 9   NumOfProducts    10000 non-null  int64  \n",
      " 10  HasCrCard        10000 non-null  int64  \n",
      " 11  IsActiveMember   10000 non-null  int64  \n",
      " 12  EstimatedSalary  10000 non-null  float64\n",
      " 13  Exited           10000 non-null  int64  \n",
      "dtypes: float64(3), int64(8), object(3)\n",
      "memory usage: 1.1+ MB\n"
     ]
    }
   ],
   "source": [
    "data.info()"
   ]
  },
  {
   "cell_type": "code",
   "execution_count": 5,
   "metadata": {},
   "outputs": [
    {
     "data": {
      "text/plain": [
       "array(['Female', 'Male'], dtype=object)"
      ]
     },
     "execution_count": 5,
     "metadata": {},
     "output_type": "execute_result"
    }
   ],
   "source": [
    "data['Gender'].unique()"
   ]
  },
  {
   "cell_type": "code",
   "execution_count": 6,
   "metadata": {},
   "outputs": [
    {
     "data": {
      "text/plain": [
       "array(['France', 'Spain', 'Germany'], dtype=object)"
      ]
     },
     "execution_count": 6,
     "metadata": {},
     "output_type": "execute_result"
    }
   ],
   "source": [
    "data['Geography'].unique()"
   ]
  },
  {
   "cell_type": "markdown",
   "metadata": {},
   "source": [
    "Как видим, пол является строчным типом данных, нужно будет с помощью техники прямого кодирования перевести его в дамми-переменные. Географическая принадлежность тоже строчная, кроме того имеет всего три уникальных значения, этот столбец тоже стоит перевести в дамми-переменную."
   ]
  },
  {
   "cell_type": "code",
   "execution_count": 7,
   "metadata": {},
   "outputs": [
    {
     "name": "stdout",
     "output_type": "stream",
     "text": [
      "<class 'pandas.core.frame.DataFrame'>\n",
      "RangeIndex: 10000 entries, 0 to 9999\n",
      "Data columns (total 15 columns):\n",
      " #   Column             Non-Null Count  Dtype  \n",
      "---  ------             --------------  -----  \n",
      " 0   RowNumber          10000 non-null  int64  \n",
      " 1   CustomerId         10000 non-null  int64  \n",
      " 2   Surname            10000 non-null  object \n",
      " 3   CreditScore        10000 non-null  int64  \n",
      " 4   Age                10000 non-null  int64  \n",
      " 5   Tenure             9091 non-null   float64\n",
      " 6   Balance            10000 non-null  float64\n",
      " 7   NumOfProducts      10000 non-null  int64  \n",
      " 8   HasCrCard          10000 non-null  int64  \n",
      " 9   IsActiveMember     10000 non-null  int64  \n",
      " 10  EstimatedSalary    10000 non-null  float64\n",
      " 11  Exited             10000 non-null  int64  \n",
      " 12  Gender_Male        10000 non-null  uint8  \n",
      " 13  Geography_Germany  10000 non-null  uint8  \n",
      " 14  Geography_Spain    10000 non-null  uint8  \n",
      "dtypes: float64(3), int64(8), object(1), uint8(3)\n",
      "memory usage: 966.9+ KB\n"
     ]
    }
   ],
   "source": [
    "data = pd.get_dummies(data, drop_first = True, columns = ['Gender', 'Geography'])\n",
    "data.info()"
   ]
  },
  {
   "cell_type": "markdown",
   "metadata": {},
   "source": [
    " Преобразовали"
   ]
  },
  {
   "cell_type": "code",
   "execution_count": 8,
   "metadata": {},
   "outputs": [
    {
     "data": {
      "text/html": [
       "<div>\n",
       "<style scoped>\n",
       "    .dataframe tbody tr th:only-of-type {\n",
       "        vertical-align: middle;\n",
       "    }\n",
       "\n",
       "    .dataframe tbody tr th {\n",
       "        vertical-align: top;\n",
       "    }\n",
       "\n",
       "    .dataframe thead th {\n",
       "        text-align: right;\n",
       "    }\n",
       "</style>\n",
       "<table border=\"1\" class=\"dataframe\">\n",
       "  <thead>\n",
       "    <tr style=\"text-align: right;\">\n",
       "      <th></th>\n",
       "      <th>RowNumber</th>\n",
       "      <th>CustomerId</th>\n",
       "      <th>CreditScore</th>\n",
       "      <th>Age</th>\n",
       "      <th>Tenure</th>\n",
       "      <th>Balance</th>\n",
       "      <th>NumOfProducts</th>\n",
       "      <th>HasCrCard</th>\n",
       "      <th>IsActiveMember</th>\n",
       "      <th>EstimatedSalary</th>\n",
       "      <th>Exited</th>\n",
       "      <th>Gender_Male</th>\n",
       "      <th>Geography_Germany</th>\n",
       "      <th>Geography_Spain</th>\n",
       "    </tr>\n",
       "  </thead>\n",
       "  <tbody>\n",
       "    <tr>\n",
       "      <th>count</th>\n",
       "      <td>10000.00000</td>\n",
       "      <td>1.000000e+04</td>\n",
       "      <td>10000.000000</td>\n",
       "      <td>10000.000000</td>\n",
       "      <td>9091.000000</td>\n",
       "      <td>10000.000000</td>\n",
       "      <td>10000.000000</td>\n",
       "      <td>10000.00000</td>\n",
       "      <td>10000.000000</td>\n",
       "      <td>10000.000000</td>\n",
       "      <td>10000.000000</td>\n",
       "      <td>10000.000000</td>\n",
       "      <td>10000.000000</td>\n",
       "      <td>10000.000000</td>\n",
       "    </tr>\n",
       "    <tr>\n",
       "      <th>mean</th>\n",
       "      <td>5000.50000</td>\n",
       "      <td>1.569094e+07</td>\n",
       "      <td>650.528800</td>\n",
       "      <td>38.921800</td>\n",
       "      <td>4.997690</td>\n",
       "      <td>76485.889288</td>\n",
       "      <td>1.530200</td>\n",
       "      <td>0.70550</td>\n",
       "      <td>0.515100</td>\n",
       "      <td>100090.239881</td>\n",
       "      <td>0.203700</td>\n",
       "      <td>0.545700</td>\n",
       "      <td>0.250900</td>\n",
       "      <td>0.247700</td>\n",
       "    </tr>\n",
       "    <tr>\n",
       "      <th>std</th>\n",
       "      <td>2886.89568</td>\n",
       "      <td>7.193619e+04</td>\n",
       "      <td>96.653299</td>\n",
       "      <td>10.487806</td>\n",
       "      <td>2.894723</td>\n",
       "      <td>62397.405202</td>\n",
       "      <td>0.581654</td>\n",
       "      <td>0.45584</td>\n",
       "      <td>0.499797</td>\n",
       "      <td>57510.492818</td>\n",
       "      <td>0.402769</td>\n",
       "      <td>0.497932</td>\n",
       "      <td>0.433553</td>\n",
       "      <td>0.431698</td>\n",
       "    </tr>\n",
       "    <tr>\n",
       "      <th>min</th>\n",
       "      <td>1.00000</td>\n",
       "      <td>1.556570e+07</td>\n",
       "      <td>350.000000</td>\n",
       "      <td>18.000000</td>\n",
       "      <td>0.000000</td>\n",
       "      <td>0.000000</td>\n",
       "      <td>1.000000</td>\n",
       "      <td>0.00000</td>\n",
       "      <td>0.000000</td>\n",
       "      <td>11.580000</td>\n",
       "      <td>0.000000</td>\n",
       "      <td>0.000000</td>\n",
       "      <td>0.000000</td>\n",
       "      <td>0.000000</td>\n",
       "    </tr>\n",
       "    <tr>\n",
       "      <th>25%</th>\n",
       "      <td>2500.75000</td>\n",
       "      <td>1.562853e+07</td>\n",
       "      <td>584.000000</td>\n",
       "      <td>32.000000</td>\n",
       "      <td>2.000000</td>\n",
       "      <td>0.000000</td>\n",
       "      <td>1.000000</td>\n",
       "      <td>0.00000</td>\n",
       "      <td>0.000000</td>\n",
       "      <td>51002.110000</td>\n",
       "      <td>0.000000</td>\n",
       "      <td>0.000000</td>\n",
       "      <td>0.000000</td>\n",
       "      <td>0.000000</td>\n",
       "    </tr>\n",
       "    <tr>\n",
       "      <th>50%</th>\n",
       "      <td>5000.50000</td>\n",
       "      <td>1.569074e+07</td>\n",
       "      <td>652.000000</td>\n",
       "      <td>37.000000</td>\n",
       "      <td>5.000000</td>\n",
       "      <td>97198.540000</td>\n",
       "      <td>1.000000</td>\n",
       "      <td>1.00000</td>\n",
       "      <td>1.000000</td>\n",
       "      <td>100193.915000</td>\n",
       "      <td>0.000000</td>\n",
       "      <td>1.000000</td>\n",
       "      <td>0.000000</td>\n",
       "      <td>0.000000</td>\n",
       "    </tr>\n",
       "    <tr>\n",
       "      <th>75%</th>\n",
       "      <td>7500.25000</td>\n",
       "      <td>1.575323e+07</td>\n",
       "      <td>718.000000</td>\n",
       "      <td>44.000000</td>\n",
       "      <td>7.000000</td>\n",
       "      <td>127644.240000</td>\n",
       "      <td>2.000000</td>\n",
       "      <td>1.00000</td>\n",
       "      <td>1.000000</td>\n",
       "      <td>149388.247500</td>\n",
       "      <td>0.000000</td>\n",
       "      <td>1.000000</td>\n",
       "      <td>1.000000</td>\n",
       "      <td>0.000000</td>\n",
       "    </tr>\n",
       "    <tr>\n",
       "      <th>max</th>\n",
       "      <td>10000.00000</td>\n",
       "      <td>1.581569e+07</td>\n",
       "      <td>850.000000</td>\n",
       "      <td>92.000000</td>\n",
       "      <td>10.000000</td>\n",
       "      <td>250898.090000</td>\n",
       "      <td>4.000000</td>\n",
       "      <td>1.00000</td>\n",
       "      <td>1.000000</td>\n",
       "      <td>199992.480000</td>\n",
       "      <td>1.000000</td>\n",
       "      <td>1.000000</td>\n",
       "      <td>1.000000</td>\n",
       "      <td>1.000000</td>\n",
       "    </tr>\n",
       "  </tbody>\n",
       "</table>\n",
       "</div>"
      ],
      "text/plain": [
       "         RowNumber    CustomerId   CreditScore           Age       Tenure  \\\n",
       "count  10000.00000  1.000000e+04  10000.000000  10000.000000  9091.000000   \n",
       "mean    5000.50000  1.569094e+07    650.528800     38.921800     4.997690   \n",
       "std     2886.89568  7.193619e+04     96.653299     10.487806     2.894723   \n",
       "min        1.00000  1.556570e+07    350.000000     18.000000     0.000000   \n",
       "25%     2500.75000  1.562853e+07    584.000000     32.000000     2.000000   \n",
       "50%     5000.50000  1.569074e+07    652.000000     37.000000     5.000000   \n",
       "75%     7500.25000  1.575323e+07    718.000000     44.000000     7.000000   \n",
       "max    10000.00000  1.581569e+07    850.000000     92.000000    10.000000   \n",
       "\n",
       "             Balance  NumOfProducts    HasCrCard  IsActiveMember  \\\n",
       "count   10000.000000   10000.000000  10000.00000    10000.000000   \n",
       "mean    76485.889288       1.530200      0.70550        0.515100   \n",
       "std     62397.405202       0.581654      0.45584        0.499797   \n",
       "min         0.000000       1.000000      0.00000        0.000000   \n",
       "25%         0.000000       1.000000      0.00000        0.000000   \n",
       "50%     97198.540000       1.000000      1.00000        1.000000   \n",
       "75%    127644.240000       2.000000      1.00000        1.000000   \n",
       "max    250898.090000       4.000000      1.00000        1.000000   \n",
       "\n",
       "       EstimatedSalary        Exited   Gender_Male  Geography_Germany  \\\n",
       "count     10000.000000  10000.000000  10000.000000       10000.000000   \n",
       "mean     100090.239881      0.203700      0.545700           0.250900   \n",
       "std       57510.492818      0.402769      0.497932           0.433553   \n",
       "min          11.580000      0.000000      0.000000           0.000000   \n",
       "25%       51002.110000      0.000000      0.000000           0.000000   \n",
       "50%      100193.915000      0.000000      1.000000           0.000000   \n",
       "75%      149388.247500      0.000000      1.000000           1.000000   \n",
       "max      199992.480000      1.000000      1.000000           1.000000   \n",
       "\n",
       "       Geography_Spain  \n",
       "count     10000.000000  \n",
       "mean          0.247700  \n",
       "std           0.431698  \n",
       "min           0.000000  \n",
       "25%           0.000000  \n",
       "50%           0.000000  \n",
       "75%           0.000000  \n",
       "max           1.000000  "
      ]
     },
     "execution_count": 8,
     "metadata": {},
     "output_type": "execute_result"
    }
   ],
   "source": [
    "data.describe()"
   ]
  },
  {
   "cell_type": "markdown",
   "metadata": {},
   "source": [
    "Похоже, что к столбцам 'CreditScore', 'Balance', 'Estimated Salary' нужно будет применить масштабирование, чтобы избежать перекоса в значимости признаков."
   ]
  },
  {
   "cell_type": "code",
   "execution_count": 9,
   "metadata": {},
   "outputs": [
    {
     "data": {
      "text/plain": [
       "RowNumber              0\n",
       "CustomerId             0\n",
       "Surname                0\n",
       "CreditScore            0\n",
       "Age                    0\n",
       "Tenure               909\n",
       "Balance                0\n",
       "NumOfProducts          0\n",
       "HasCrCard              0\n",
       "IsActiveMember         0\n",
       "EstimatedSalary        0\n",
       "Exited                 0\n",
       "Gender_Male            0\n",
       "Geography_Germany      0\n",
       "Geography_Spain        0\n",
       "dtype: int64"
      ]
     },
     "execution_count": 9,
     "metadata": {},
     "output_type": "execute_result"
    }
   ],
   "source": [
    "data.isna().sum()"
   ]
  },
  {
   "cell_type": "markdown",
   "metadata": {},
   "source": [
    "Имеются пропуски в столбце 'Tenure'. Их меньше 10%, значит можно удалить строки с этими значениями"
   ]
  },
  {
   "cell_type": "code",
   "execution_count": 10,
   "metadata": {},
   "outputs": [
    {
     "data": {
      "text/plain": [
       "RowNumber            0\n",
       "CustomerId           0\n",
       "Surname              0\n",
       "CreditScore          0\n",
       "Age                  0\n",
       "Tenure               0\n",
       "Balance              0\n",
       "NumOfProducts        0\n",
       "HasCrCard            0\n",
       "IsActiveMember       0\n",
       "EstimatedSalary      0\n",
       "Exited               0\n",
       "Gender_Male          0\n",
       "Geography_Germany    0\n",
       "Geography_Spain      0\n",
       "dtype: int64"
      ]
     },
     "execution_count": 10,
     "metadata": {},
     "output_type": "execute_result"
    }
   ],
   "source": [
    "data = data.dropna(subset = ['Tenure'])\n",
    "data.isna().sum()"
   ]
  },
  {
   "cell_type": "markdown",
   "metadata": {},
   "source": [
    "Поскольку личные данные не влияют на прогноз ухода клиента из банка, то лучше удалить столбцы 'Surname' и 'CustomerID' из данных. Номер строки здесь тоже лишний, уберём и этот столбец."
   ]
  },
  {
   "cell_type": "code",
   "execution_count": 12,
   "metadata": {},
   "outputs": [
    {
     "data": {
      "text/html": [
       "<div>\n",
       "<style scoped>\n",
       "    .dataframe tbody tr th:only-of-type {\n",
       "        vertical-align: middle;\n",
       "    }\n",
       "\n",
       "    .dataframe tbody tr th {\n",
       "        vertical-align: top;\n",
       "    }\n",
       "\n",
       "    .dataframe thead th {\n",
       "        text-align: right;\n",
       "    }\n",
       "</style>\n",
       "<table border=\"1\" class=\"dataframe\">\n",
       "  <thead>\n",
       "    <tr style=\"text-align: right;\">\n",
       "      <th></th>\n",
       "      <th>CreditScore</th>\n",
       "      <th>Age</th>\n",
       "      <th>Tenure</th>\n",
       "      <th>Balance</th>\n",
       "      <th>NumOfProducts</th>\n",
       "      <th>HasCrCard</th>\n",
       "      <th>IsActiveMember</th>\n",
       "      <th>EstimatedSalary</th>\n",
       "      <th>Exited</th>\n",
       "      <th>Gender_Male</th>\n",
       "      <th>Geography_Germany</th>\n",
       "      <th>Geography_Spain</th>\n",
       "    </tr>\n",
       "  </thead>\n",
       "  <tbody>\n",
       "    <tr>\n",
       "      <th>0</th>\n",
       "      <td>619</td>\n",
       "      <td>42</td>\n",
       "      <td>2.0</td>\n",
       "      <td>0.00</td>\n",
       "      <td>1</td>\n",
       "      <td>1</td>\n",
       "      <td>1</td>\n",
       "      <td>101348.88</td>\n",
       "      <td>1</td>\n",
       "      <td>0</td>\n",
       "      <td>0</td>\n",
       "      <td>0</td>\n",
       "    </tr>\n",
       "    <tr>\n",
       "      <th>1</th>\n",
       "      <td>608</td>\n",
       "      <td>41</td>\n",
       "      <td>1.0</td>\n",
       "      <td>83807.86</td>\n",
       "      <td>1</td>\n",
       "      <td>0</td>\n",
       "      <td>1</td>\n",
       "      <td>112542.58</td>\n",
       "      <td>0</td>\n",
       "      <td>0</td>\n",
       "      <td>0</td>\n",
       "      <td>1</td>\n",
       "    </tr>\n",
       "    <tr>\n",
       "      <th>2</th>\n",
       "      <td>502</td>\n",
       "      <td>42</td>\n",
       "      <td>8.0</td>\n",
       "      <td>159660.80</td>\n",
       "      <td>3</td>\n",
       "      <td>1</td>\n",
       "      <td>0</td>\n",
       "      <td>113931.57</td>\n",
       "      <td>1</td>\n",
       "      <td>0</td>\n",
       "      <td>0</td>\n",
       "      <td>0</td>\n",
       "    </tr>\n",
       "    <tr>\n",
       "      <th>3</th>\n",
       "      <td>699</td>\n",
       "      <td>39</td>\n",
       "      <td>1.0</td>\n",
       "      <td>0.00</td>\n",
       "      <td>2</td>\n",
       "      <td>0</td>\n",
       "      <td>0</td>\n",
       "      <td>93826.63</td>\n",
       "      <td>0</td>\n",
       "      <td>0</td>\n",
       "      <td>0</td>\n",
       "      <td>0</td>\n",
       "    </tr>\n",
       "    <tr>\n",
       "      <th>4</th>\n",
       "      <td>850</td>\n",
       "      <td>43</td>\n",
       "      <td>2.0</td>\n",
       "      <td>125510.82</td>\n",
       "      <td>1</td>\n",
       "      <td>1</td>\n",
       "      <td>1</td>\n",
       "      <td>79084.10</td>\n",
       "      <td>0</td>\n",
       "      <td>0</td>\n",
       "      <td>0</td>\n",
       "      <td>1</td>\n",
       "    </tr>\n",
       "  </tbody>\n",
       "</table>\n",
       "</div>"
      ],
      "text/plain": [
       "   CreditScore  Age  Tenure    Balance  NumOfProducts  HasCrCard  \\\n",
       "0          619   42     2.0       0.00              1          1   \n",
       "1          608   41     1.0   83807.86              1          0   \n",
       "2          502   42     8.0  159660.80              3          1   \n",
       "3          699   39     1.0       0.00              2          0   \n",
       "4          850   43     2.0  125510.82              1          1   \n",
       "\n",
       "   IsActiveMember  EstimatedSalary  Exited  Gender_Male  Geography_Germany  \\\n",
       "0               1        101348.88       1            0                  0   \n",
       "1               1        112542.58       0            0                  0   \n",
       "2               0        113931.57       1            0                  0   \n",
       "3               0         93826.63       0            0                  0   \n",
       "4               1         79084.10       0            0                  0   \n",
       "\n",
       "   Geography_Spain  \n",
       "0                0  \n",
       "1                1  \n",
       "2                0  \n",
       "3                0  \n",
       "4                1  "
      ]
     },
     "execution_count": 12,
     "metadata": {},
     "output_type": "execute_result"
    }
   ],
   "source": [
    "data = data.drop(['Surname', 'CustomerId', 'RowNumber'], axis = 1)\n",
    "data.head()"
   ]
  },
  {
   "cell_type": "markdown",
   "metadata": {},
   "source": [
    "## Исследование задачи"
   ]
  },
  {
   "cell_type": "markdown",
   "metadata": {},
   "source": [
    "Поскольку цель задачи - прогноз ухода клиента из банка, то целевым признаком в нашем датасете будет столбец \"Exitet\". Разделим данные на target и features. Разделим выборку на тренировочную, валидационную и тестовую в пропорции 3:1:1"
   ]
  },
  {
   "cell_type": "code",
   "execution_count": 13,
   "metadata": {},
   "outputs": [],
   "source": [
    "\n",
    "data_train, data_test_valid = train_test_split(data, test_size = 0.4, random_state = 12345)"
   ]
  },
  {
   "cell_type": "code",
   "execution_count": 14,
   "metadata": {},
   "outputs": [],
   "source": [
    "features_train = data_train.drop('Exited', axis = 1)\n",
    "target_train = data_train['Exited']"
   ]
  },
  {
   "cell_type": "code",
   "execution_count": 15,
   "metadata": {},
   "outputs": [],
   "source": [
    "features_test_valid = data_test_valid.drop('Exited', axis = 1)\n",
    "target_test_valid = data_test_valid['Exited']"
   ]
  },
  {
   "cell_type": "code",
   "execution_count": 16,
   "metadata": {},
   "outputs": [],
   "source": [
    "features_valid, features_test, target_valid, target_test = train_test_split(features_test_valid, target_test_valid, test_size = 0.5, random_state = 12345)"
   ]
  },
  {
   "cell_type": "markdown",
   "metadata": {},
   "source": [
    "Применю к столбцам 'CreditScore', 'Balance', 'Estimated Salary' масштабирование, чтобы избежать перекоса в значимости признаков."
   ]
  },
  {
   "cell_type": "code",
   "execution_count": 17,
   "metadata": {},
   "outputs": [
    {
     "name": "stdout",
     "output_type": "stream",
     "text": [
      "      CreditScore   Balance  EstimatedSalary\n",
      "9344     0.809075  0.554904         0.019508\n",
      "3796    -1.152518  0.480609         0.056167\n",
      "7462    -0.398853 -1.237830         0.848738\n",
      "1508    -0.749875 -1.237830        -0.894953\n",
      "4478    -1.028628 -1.237830        -1.284516\n"
     ]
    },
    {
     "name": "stderr",
     "output_type": "stream",
     "text": [
      "/tmp/ipykernel_92/2021575078.py:6: SettingWithCopyWarning: \n",
      "A value is trying to be set on a copy of a slice from a DataFrame.\n",
      "Try using .loc[row_indexer,col_indexer] = value instead\n",
      "\n",
      "See the caveats in the documentation: https://pandas.pydata.org/pandas-docs/stable/user_guide/indexing.html#returning-a-view-versus-a-copy\n",
      "  features_valid[list_of_sc] = scaler.transform(features_valid[list_of_sc])\n",
      "/opt/conda/lib/python3.9/site-packages/pandas/core/indexing.py:1738: SettingWithCopyWarning: \n",
      "A value is trying to be set on a copy of a slice from a DataFrame.\n",
      "Try using .loc[row_indexer,col_indexer] = value instead\n",
      "\n",
      "See the caveats in the documentation: https://pandas.pydata.org/pandas-docs/stable/user_guide/indexing.html#returning-a-view-versus-a-copy\n",
      "  self._setitem_single_column(loc, value[:, i].tolist(), pi)\n",
      "/tmp/ipykernel_92/2021575078.py:7: SettingWithCopyWarning: \n",
      "A value is trying to be set on a copy of a slice from a DataFrame.\n",
      "Try using .loc[row_indexer,col_indexer] = value instead\n",
      "\n",
      "See the caveats in the documentation: https://pandas.pydata.org/pandas-docs/stable/user_guide/indexing.html#returning-a-view-versus-a-copy\n",
      "  features_test[list_of_sc] = scaler.transform(features_test[list_of_sc])\n",
      "/opt/conda/lib/python3.9/site-packages/pandas/core/indexing.py:1738: SettingWithCopyWarning: \n",
      "A value is trying to be set on a copy of a slice from a DataFrame.\n",
      "Try using .loc[row_indexer,col_indexer] = value instead\n",
      "\n",
      "See the caveats in the documentation: https://pandas.pydata.org/pandas-docs/stable/user_guide/indexing.html#returning-a-view-versus-a-copy\n",
      "  self._setitem_single_column(loc, value[:, i].tolist(), pi)\n"
     ]
    }
   ],
   "source": [
    "list_of_sc = ['CreditScore', 'Balance', 'EstimatedSalary']\n",
    "scaler = StandardScaler()\n",
    "scaler.fit(features_train[list_of_sc])\n",
    "\n",
    "features_train[list_of_sc] = scaler.transform(features_train[list_of_sc])\n",
    "features_valid[list_of_sc] = scaler.transform(features_valid[list_of_sc]) \n",
    "features_test[list_of_sc] = scaler.transform(features_test[list_of_sc])\n",
    "print(features_train[list_of_sc].head())\n",
    "pd.options.mode.chained_assignment = None"
   ]
  },
  {
   "cell_type": "markdown",
   "metadata": {},
   "source": [
    "Обучим модель решающего дерева, подобрав оптимальную глубину"
   ]
  },
  {
   "cell_type": "code",
   "execution_count": 18,
   "metadata": {},
   "outputs": [
    {
     "name": "stdout",
     "output_type": "stream",
     "text": [
      "Лучшая глубина дерева: 7\n",
      "Лучшее качество: 0.5773524720893142\n"
     ]
    }
   ],
   "source": [
    "\n",
    "best_tree_f1 = 0\n",
    "best_depth_tree = 0\n",
    "for depth in range(1, 15):\n",
    "    tree_model = DecisionTreeClassifier(max_depth = depth, random_state = 12345)\n",
    "    tree_model.fit(features_train, target_train)\n",
    "    tree_predicted = tree_model.predict(features_valid)\n",
    "    tree_f1 = f1_score(target_valid, tree_predicted)\n",
    "    if tree_f1 > best_tree_f1:\n",
    "        best_tree_f1 = tree_f1\n",
    "        best_depth_tree = depth\n",
    "\n",
    "print(\"Лучшая глубина дерева:\", best_depth_tree)\n",
    "print(\"Лучшее качество:\", best_tree_f1)"
   ]
  },
  {
   "cell_type": "markdown",
   "metadata": {},
   "source": [
    "Теперь обучим модель с оптимальными гиперпараметрами"
   ]
  },
  {
   "cell_type": "code",
   "execution_count": 19,
   "metadata": {},
   "outputs": [],
   "source": [
    "tree_model = DecisionTreeClassifier(max_depth = 9, random_state = 12345)\n",
    "tree_model.fit(features_train, target_train)\n",
    "tree_predicted_valid = tree_model.predict(features_valid)"
   ]
  },
  {
   "cell_type": "markdown",
   "metadata": {},
   "source": [
    "accuracy для нашей модели"
   ]
  },
  {
   "cell_type": "code",
   "execution_count": 20,
   "metadata": {},
   "outputs": [
    {
     "name": "stdout",
     "output_type": "stream",
     "text": [
      "0.8366336633663366\n"
     ]
    }
   ],
   "source": [
    "accuracy_tree_valid = accuracy_score(target_valid, tree_predicted_valid)\n",
    "print(accuracy_tree_valid)"
   ]
  },
  {
   "cell_type": "markdown",
   "metadata": {},
   "source": [
    "Посмотрим, какие у нашей модели метрики F1, Recall, Precision"
   ]
  },
  {
   "cell_type": "code",
   "execution_count": 21,
   "metadata": {},
   "outputs": [
    {
     "name": "stdout",
     "output_type": "stream",
     "text": [
      "F1 - 0.5437788018433181\n",
      "Recall -  0.46949602122015915\n",
      "Precision -  0.6459854014598541\n"
     ]
    }
   ],
   "source": [
    "print(\"F1 -\", f1_score(target_valid, tree_predicted_valid))\n",
    "print('Recall - ', recall_score(target_valid, tree_predicted_valid))\n",
    "print('Precision - ', precision_score(target_valid, tree_predicted_valid))"
   ]
  },
  {
   "cell_type": "markdown",
   "metadata": {},
   "source": [
    "Построим матрицу ошибок"
   ]
  },
  {
   "cell_type": "code",
   "execution_count": 22,
   "metadata": {},
   "outputs": [
    {
     "name": "stdout",
     "output_type": "stream",
     "text": [
      "[[1344   97]\n",
      " [ 200  177]]\n"
     ]
    }
   ],
   "source": [
    "print(confusion_matrix(target_valid, tree_predicted_valid))"
   ]
  },
  {
   "cell_type": "markdown",
   "metadata": {},
   "source": [
    "Попробуем модель случайного леса. Подберём гиперпараметры"
   ]
  },
  {
   "cell_type": "code",
   "execution_count": 23,
   "metadata": {},
   "outputs": [
    {
     "name": "stdout",
     "output_type": "stream",
     "text": [
      "Лучшая глубина  9\n",
      "Лучшее количество 50\n",
      "Лучшее качество 0.5831903945111492\n"
     ]
    }
   ],
   "source": [
    "best_forest_f1 = 0\n",
    "best_forest_estim = 0\n",
    "best_forest_depth = 0\n",
    "for depth in range(1, 11):\n",
    "    for estim in range(50, 200, 10):\n",
    "        forest_model = RandomForestClassifier(max_depth = depth, n_estimators = estim, random_state = 12345)\n",
    "        forest_model.fit(features_train, target_train)\n",
    "        forest_predicted_valid = forest_model.predict(features_valid)\n",
    "        forest_f1 = f1_score(target_valid, forest_predicted_valid)\n",
    "        if forest_f1 > best_forest_f1:\n",
    "            best_forest_estim = estim\n",
    "            best_forest_depth = depth\n",
    "            best_forest_f1 = forest_f1\n",
    "print(\"Лучшая глубина \" , best_forest_depth)\n",
    "print(\"Лучшее количество\", best_forest_estim)\n",
    "print(\"Лучшее качество\", best_forest_f1)"
   ]
  },
  {
   "cell_type": "markdown",
   "metadata": {},
   "source": [
    "Применим оптимальные параметры"
   ]
  },
  {
   "cell_type": "code",
   "execution_count": 24,
   "metadata": {},
   "outputs": [],
   "source": [
    "forest_model = RandomForestClassifier(max_depth = best_forest_depth, n_estimators = best_forest_estim, random_state = 12345)\n",
    "forest_model.fit(features_train, target_train)\n",
    "forest_predicted_valid = forest_model.predict(features_valid)"
   ]
  },
  {
   "cell_type": "markdown",
   "metadata": {},
   "source": [
    "accuracy для леса с оптимальными параметрами"
   ]
  },
  {
   "cell_type": "code",
   "execution_count": 25,
   "metadata": {},
   "outputs": [
    {
     "name": "stdout",
     "output_type": "stream",
     "text": [
      "0.8663366336633663\n"
     ]
    }
   ],
   "source": [
    "accuracy_forest_valid = accuracy_score(target_valid, forest_predicted_valid)\n",
    "print(accuracy_forest_valid)"
   ]
  },
  {
   "cell_type": "markdown",
   "metadata": {},
   "source": [
    "Смотрим метрики F1, Recall, Precision для леса"
   ]
  },
  {
   "cell_type": "code",
   "execution_count": 26,
   "metadata": {},
   "outputs": [
    {
     "name": "stdout",
     "output_type": "stream",
     "text": [
      "F1: 0.5831903945111492\n",
      "Recall 0.4509283819628647\n",
      "Precision 0.8252427184466019\n"
     ]
    }
   ],
   "source": [
    "print(\"F1:\", f1_score(target_valid, forest_predicted_valid))\n",
    "print(\"Recall\", recall_score(target_valid, forest_predicted_valid))\n",
    "print(\"Precision\", precision_score(target_valid, forest_predicted_valid))"
   ]
  },
  {
   "cell_type": "markdown",
   "metadata": {},
   "source": [
    "Матрица ошибок для случайного леса"
   ]
  },
  {
   "cell_type": "code",
   "execution_count": 27,
   "metadata": {},
   "outputs": [
    {
     "name": "stdout",
     "output_type": "stream",
     "text": [
      "[[1405   36]\n",
      " [ 207  170]]\n"
     ]
    }
   ],
   "source": [
    "print(confusion_matrix(target_valid, forest_predicted_valid))"
   ]
  },
  {
   "cell_type": "markdown",
   "metadata": {},
   "source": [
    "логистическая регрессия"
   ]
  },
  {
   "cell_type": "code",
   "execution_count": 28,
   "metadata": {},
   "outputs": [],
   "source": [
    "regression_model = LogisticRegression(random_state = 12345, solver = 'liblinear')\n",
    "regression_model.fit(features_train, target_train)\n",
    "regression_predicted_valid = regression_model.predict(features_valid)"
   ]
  },
  {
   "cell_type": "markdown",
   "metadata": {},
   "source": [
    "accuracy для логистической регрессии"
   ]
  },
  {
   "cell_type": "code",
   "execution_count": 29,
   "metadata": {},
   "outputs": [
    {
     "name": "stdout",
     "output_type": "stream",
     "text": [
      "Accuracy для регрессии: 0.8091309130913091\n"
     ]
    }
   ],
   "source": [
    "regression_accuracy = accuracy_score(target_valid, regression_predicted_valid)\n",
    "print(\"Accuracy для регрессии:\", regression_accuracy)"
   ]
  },
  {
   "cell_type": "markdown",
   "metadata": {},
   "source": [
    "Метрики F1, Recall, Precision для регрессии"
   ]
  },
  {
   "cell_type": "code",
   "execution_count": 30,
   "metadata": {},
   "outputs": [
    {
     "name": "stdout",
     "output_type": "stream",
     "text": [
      "F1: 0.3046092184368738\n",
      "Recall 0.20159151193633953\n",
      "Precision 0.6229508196721312\n"
     ]
    }
   ],
   "source": [
    "print(\"F1:\",f1_score(target_valid, regression_predicted_valid))\n",
    "print(\"Recall\", recall_score(target_valid, regression_predicted_valid))\n",
    "print(\"Precision\", precision_score(target_valid, regression_predicted_valid))"
   ]
  },
  {
   "cell_type": "markdown",
   "metadata": {},
   "source": [
    "матрица ошибок для регрессии"
   ]
  },
  {
   "cell_type": "code",
   "execution_count": 31,
   "metadata": {},
   "outputs": [
    {
     "name": "stdout",
     "output_type": "stream",
     "text": [
      "[[1395   46]\n",
      " [ 301   76]]\n"
     ]
    }
   ],
   "source": [
    "print(confusion_matrix(target_valid, regression_predicted_valid))"
   ]
  },
  {
   "cell_type": "markdown",
   "metadata": {},
   "source": [
    "Вывод:\n",
    "После изучения метрик случайного леса, решающего дерева и регрессии, можно прийти к выводу, что лучшее F1, Precision, Accuracy у случайного леса, в то время, как Recall выше у решающего дерева. К тому же, если изучить матрицы ошибок, становится понятно, что есть внушительный перекос в балансе классов.Значит, использование accuracy будет неинформативным."
   ]
  },
  {
   "cell_type": "markdown",
   "metadata": {},
   "source": [
    "## Борьба с дисбалансом"
   ]
  },
  {
   "cell_type": "markdown",
   "metadata": {},
   "source": [
    "Проверим наличие дисбаланса по столбцу 'Exitet'"
   ]
  },
  {
   "cell_type": "code",
   "execution_count": 32,
   "metadata": {},
   "outputs": [
    {
     "name": "stdout",
     "output_type": "stream",
     "text": [
      "0    0.796062\n",
      "1    0.203938\n",
      "Name: Exited, dtype: float64\n"
     ]
    },
    {
     "data": {
      "text/plain": [
       "<AxesSubplot:>"
      ]
     },
     "execution_count": 32,
     "metadata": {},
     "output_type": "execute_result"
    },
    {
     "data": {
      "image/png": "[encoded data removed]",
      "text/plain": [
       "<Figure size 432x288 with 1 Axes>"
      ]
     },
     "metadata": {
      "needs_background": "light"
     },
     "output_type": "display_data"
    }
   ],
   "source": [
    "class_frequency = data['Exited'].value_counts(normalize = True)\n",
    "print(class_frequency)\n",
    "class_frequency.plot(kind = 'bar')"
   ]
  },
  {
   "cell_type": "markdown",
   "metadata": {},
   "source": [
    "Как видим, есть достаточно большой дисбаланс по целевому признаку"
   ]
  },
  {
   "cell_type": "markdown",
   "metadata": {},
   "source": [
    "### Попробуем сбалансировать взвешиванием"
   ]
  },
  {
   "cell_type": "markdown",
   "metadata": {},
   "source": [
    "Сначала дерево решений"
   ]
  },
  {
   "cell_type": "code",
   "execution_count": 33,
   "metadata": {},
   "outputs": [
    {
     "name": "stdout",
     "output_type": "stream",
     "text": [
      "Лучшая глубина взвешенного дерева: 5\n",
      "Лучшее качество взвешенного дерева: 0.5735449735449736\n"
     ]
    }
   ],
   "source": [
    "best_tree_f1_1 = 0\n",
    "best_depth_tree1 = 0\n",
    "for depth in range (1, 15):\n",
    "    tree_model1 = DecisionTreeClassifier(max_depth = depth, random_state = 12345, class_weight='balanced')\n",
    "    tree_model1.fit(features_train, target_train)\n",
    "    tree_predicted1 = tree_model1.predict(features_valid)\n",
    "    tree_f1_1 = f1_score(target_valid, tree_predicted1)\n",
    "    if tree_f1_1 > best_tree_f1_1:\n",
    "        best_tree_f1_1 = tree_f1_1\n",
    "        best_depth_tree1 =  depth\n",
    "print(\"Лучшая глубина взвешенного дерева:\", best_depth_tree1)\n",
    "print(\"Лучшее качество взвешенного дерева:\", best_tree_f1_1)\n",
    "    "
   ]
  },
  {
   "cell_type": "markdown",
   "metadata": {},
   "source": [
    "обучим модель на лучшей глубине"
   ]
  },
  {
   "cell_type": "code",
   "execution_count": 34,
   "metadata": {},
   "outputs": [],
   "source": [
    "tree_model_1 = DecisionTreeClassifier(max_depth = best_depth_tree1, random_state = 12345, class_weight = 'balanced')\n",
    "tree_model_1.fit(features_train, target_train)\n",
    "tree_predicted_1 = tree_model_1.predict(features_valid)"
   ]
  },
  {
   "cell_type": "markdown",
   "metadata": {},
   "source": [
    "Посмотрим на метрики F1, Recall, Precision."
   ]
  },
  {
   "cell_type": "code",
   "execution_count": 35,
   "metadata": {},
   "outputs": [
    {
     "name": "stdout",
     "output_type": "stream",
     "text": [
      "F1-tree  -  0.5735449735449736\n",
      "Recall-tree 0.7188328912466844\n",
      "Precision-tree 0.477112676056338\n"
     ]
    }
   ],
   "source": [
    "print(\"F1-tree  - \", f1_score(target_valid, tree_predicted_1))\n",
    "print(\"Recall-tree\", recall_score(target_valid, tree_predicted_1))\n",
    "print(\"Precision-tree\", precision_score(target_valid, tree_predicted_1))"
   ]
  },
  {
   "cell_type": "markdown",
   "metadata": {},
   "source": [
    "Посчитаем AUC_ROC."
   ]
  },
  {
   "cell_type": "code",
   "execution_count": 36,
   "metadata": {},
   "outputs": [],
   "source": [
    "tree_probabilities_valid = tree_model_1.predict_proba(features_valid)\n",
    "tree_probabilities_one_valid = tree_probabilities_valid[:, 1]"
   ]
  },
  {
   "cell_type": "code",
   "execution_count": 37,
   "metadata": {},
   "outputs": [
    {
     "name": "stdout",
     "output_type": "stream",
     "text": [
      "0.8396523192522141\n"
     ]
    }
   ],
   "source": [
    "auc_roc = roc_auc_score(target_valid, tree_probabilities_one_valid)\n",
    "print(auc_roc)"
   ]
  },
  {
   "cell_type": "markdown",
   "metadata": {},
   "source": [
    "Сделаем всё то же для случайного леса"
   ]
  },
  {
   "cell_type": "code",
   "execution_count": 38,
   "metadata": {},
   "outputs": [
    {
     "name": "stdout",
     "output_type": "stream",
     "text": [
      "Лучшая глубина дерева -  10\n",
      "Лучшее количество оценок -  200\n"
     ]
    }
   ],
   "source": [
    "forest_best_depth1 = 0\n",
    "forest_best_estim1 = 0\n",
    "forest_best_f1_1 = 0\n",
    "for depth in range(1, 11):\n",
    "    for est in range(50, 201, 10):\n",
    "        forest_model1 = RandomForestClassifier(random_state = 12345, max_depth = depth, n_estimators = est, class_weight = 'balanced')\n",
    "        forest_model1.fit(features_train, target_train)\n",
    "        forest_predicted_valid = forest_model1.predict(features_valid)\n",
    "        forest_f1_1 = f1_score(target_valid, forest_predicted_valid)\n",
    "        if forest_best_f1_1 < forest_f1_1:\n",
    "            forest_best_depth1 = depth\n",
    "            forest_best_estim1 = est\n",
    "print(\"Лучшая глубина дерева - \", forest_best_depth1)\n",
    "print(\"Лучшее количество оценок - \", forest_best_estim1)"
   ]
  },
  {
   "cell_type": "markdown",
   "metadata": {},
   "source": [
    "применим гиперпараметры"
   ]
  },
  {
   "cell_type": "code",
   "execution_count": 39,
   "metadata": {},
   "outputs": [],
   "source": [
    "forest_model_1 = RandomForestClassifier(random_state = 12345, n_estimators = forest_best_estim1, max_depth = forest_best_depth1, class_weight = 'balanced')\n",
    "forest_model_1.fit(features_train, target_train)\n",
    "forest_predicted_valid_1 = forest_model_1.predict(features_valid)"
   ]
  },
  {
   "cell_type": "markdown",
   "metadata": {},
   "source": [
    "метрики F1, Recall, Precision для случайного леса"
   ]
  },
  {
   "cell_type": "code",
   "execution_count": 40,
   "metadata": {},
   "outputs": [
    {
     "name": "stdout",
     "output_type": "stream",
     "text": [
      "F1 - forest - 0.6353887399463807\n",
      "Recall - forest - 0.6286472148541115\n",
      "Precision - forest - 0.6422764227642277\n"
     ]
    }
   ],
   "source": [
    "print(\"F1 - forest -\", f1_score(target_valid, forest_predicted_valid_1))\n",
    "print(\"Recall - forest -\", recall_score(target_valid, forest_predicted_valid_1))\n",
    "print(\"Precision - forest -\", precision_score(target_valid, forest_predicted_valid_1))"
   ]
  },
  {
   "cell_type": "markdown",
   "metadata": {},
   "source": [
    "Построим ROC-кривую для случайного леса и изобразим её на графике, добавим график ROC-кривой случайной модели.\n",
    "Посчитаем AUC_ROC."
   ]
  },
  {
   "cell_type": "code",
   "execution_count": 41,
   "metadata": {},
   "outputs": [],
   "source": [
    "forest_probabilities_valid = forest_model_1.predict_proba(features_valid)\n",
    "forest_probabilities_one_valid = forest_probabilities_valid[:, 1]"
   ]
  },
  {
   "cell_type": "code",
   "execution_count": 42,
   "metadata": {},
   "outputs": [
    {
     "name": "stdout",
     "output_type": "stream",
     "text": [
      "0.8693141551788564\n"
     ]
    }
   ],
   "source": [
    "auc_roc = roc_auc_score(target_valid, forest_probabilities_one_valid)\n",
    "print(auc_roc)"
   ]
  },
  {
   "cell_type": "markdown",
   "metadata": {},
   "source": [
    "Логистическая регрессия"
   ]
  },
  {
   "cell_type": "code",
   "execution_count": 43,
   "metadata": {},
   "outputs": [],
   "source": [
    "regression_model_1 = LogisticRegression(random_state = 12345, solver = 'liblinear', class_weight = 'balanced')\n",
    "regression_model_1.fit(features_train, target_train)\n",
    "regression_predicted_valid_1 = regression_model_1.predict(features_valid) "
   ]
  },
  {
   "cell_type": "markdown",
   "metadata": {},
   "source": [
    "метрики F1, Recall, Precision для логистической регрессии"
   ]
  },
  {
   "cell_type": "code",
   "execution_count": 44,
   "metadata": {},
   "outputs": [
    {
     "name": "stdout",
     "output_type": "stream",
     "text": [
      "F1 - regression - 0.5101289134438306\n",
      "Recall - regression - 0.7347480106100795\n",
      "Precision - regression - 0.3906911142454161\n"
     ]
    }
   ],
   "source": [
    "print(\"F1 - regression -\", f1_score(target_valid, regression_predicted_valid_1))\n",
    "print(\"Recall - regression -\", recall_score(target_valid, regression_predicted_valid_1))\n",
    "print(\"Precision - regression -\", precision_score(target_valid, regression_predicted_valid_1))"
   ]
  },
  {
   "cell_type": "markdown",
   "metadata": {},
   "source": [
    "Посчитаем AUC_ROC."
   ]
  },
  {
   "cell_type": "code",
   "execution_count": 45,
   "metadata": {},
   "outputs": [],
   "source": [
    "regression_probabilities_valid = regression_model_1.predict_proba(features_valid)\n",
    "regression_probabilities_one_valid = regression_probabilities_valid[:, 1]"
   ]
  },
  {
   "cell_type": "code",
   "execution_count": 46,
   "metadata": {},
   "outputs": [
    {
     "name": "stdout",
     "output_type": "stream",
     "text": [
      "0.777527026803152\n"
     ]
    }
   ],
   "source": [
    "auc_roc = roc_auc_score(target_valid, regression_probabilities_one_valid)\n",
    "print(auc_roc)"
   ]
  },
  {
   "cell_type": "markdown",
   "metadata": {},
   "source": [
    "дерево решений до взвешивания:  \n",
    "F1 - 0.5437788018433181  \n",
    "Recall -  0.46949602122015915    \n",
    "Precision -  0.6459854014598541   \n",
    "\n",
    "после:      \n",
    "F1-tree  -  0.5735449735449736   \n",
    "Recall-tree 0.7188328912466844   \n",
    "Precision-tree 0.477112676056338   \n",
    "   \n",
    "лес до взвешивания:     \n",
    "F1: 0.5831903945111492   \n",
    "Recall 0.4509283819628647   \n",
    "Precision 0.8252427184466019   \n",
    "после:      \n",
    "F1 - forest - 0.6353887399463807   \n",
    "Recall - forest - 0.6286472148541115   \n",
    "Precision - forest - 0.6422764227642277   \n",
    "   \n",
    "регрессия до взвешивания:   \n",
    "F1: 0.3046092184368738     \n",
    "Recall 0.20159151193633953   \n",
    "Precision 0.6229508196721312      \n",
    "после:      \n",
    "F1 - regression - 0.5101289134438306    \n",
    "Recall - regression - 0.7347480106100795   \n",
    "Precision - regression - 0.3906911142454161   \n",
    "\n",
    "Если сравнивать модели до взвешивания и после, можно сказать, что во всех трёх случаях после взвешивания значительно улучшились показатели F1  и Recall. Наблюдается уменьшение метрики Precision, но, поскольку среднее гармоническое полноты и точность - F1 выросла, то можно сказать, что взвешивание положительно сказалось на результатах."
   ]
  },
  {
   "cell_type": "markdown",
   "metadata": {},
   "source": [
    "### Применим увеличение выборки для борьбы с дисбалансом"
   ]
  },
  {
   "cell_type": "markdown",
   "metadata": {},
   "source": [
    "Поскольку отношение  класса \"0\" к классу \"1\" в пропорции 0,8 к 0,2, то для баланса необходимо увеличить класс \"1\" в четыре раза"
   ]
  },
  {
   "cell_type": "markdown",
   "metadata": {},
   "source": [
    "Разделим обучающую выборку на отрицательные и положительные объекты. Скопируем  необходимое количество раз положительные объекты и создадим новую обучающую выборку, перемешаем данные. Для этого напишем функцию upsample"
   ]
  },
  {
   "cell_type": "code",
   "execution_count": 47,
   "metadata": {},
   "outputs": [],
   "source": [
    "def upsample(features, target, repeat):\n",
    "    features_zeros = features[target == 0]\n",
    "    features_ones = features[target == 1]\n",
    "    target_zeros = target[target == 0]\n",
    "    target_ones = target[target == 1]\n",
    "    \n",
    "    features_upsampled = pd.concat([features_zeros] + [features_ones]*repeat)\n",
    "    target_upsampled = pd.concat([target_zeros] + [target_ones]*repeat)\n",
    "    \n",
    "    features_upsampled, target_upsampled = shuffle(features_upsampled, target_upsampled, random_state = 12345)\n",
    "    \n",
    "    return features_upsampled, target_upsampled"
   ]
  },
  {
   "cell_type": "markdown",
   "metadata": {},
   "source": [
    "Вызовем функцию с необходимыми параметрами"
   ]
  },
  {
   "cell_type": "code",
   "execution_count": 48,
   "metadata": {},
   "outputs": [],
   "source": [
    "features_upsampled, target_upsampled = upsample(features_train, target_train, 4)"
   ]
  },
  {
   "cell_type": "markdown",
   "metadata": {},
   "source": [
    "Смотрим на баланс"
   ]
  },
  {
   "cell_type": "code",
   "execution_count": 49,
   "metadata": {},
   "outputs": [
    {
     "name": "stdout",
     "output_type": "stream",
     "text": [
      "(8832, 11)\n",
      "(8832,)\n"
     ]
    }
   ],
   "source": [
    "print(features_upsampled.shape)\n",
    "print(target_upsampled.shape)"
   ]
  },
  {
   "cell_type": "markdown",
   "metadata": {},
   "source": [
    "Обучим модели дерева решений, случайного леса и логистической регрессии. Посмотрим на метрики F1, Recall, Precision.Посчитаем AUC_ROC. "
   ]
  },
  {
   "cell_type": "markdown",
   "metadata": {},
   "source": [
    "Регрессия"
   ]
  },
  {
   "cell_type": "code",
   "execution_count": 50,
   "metadata": {},
   "outputs": [],
   "source": [
    "regression_model = LogisticRegression(random_state = 12345, solver = 'liblinear')\n",
    "regression_model.fit(features_upsampled, target_upsampled)\n",
    "regression_predicted_valid = regression_model.predict(features_valid)\n"
   ]
  },
  {
   "cell_type": "code",
   "execution_count": 51,
   "metadata": {},
   "outputs": [
    {
     "name": "stdout",
     "output_type": "stream",
     "text": [
      "F1 для регрессии: 0.5072463768115941\n",
      "Recall для регрессии: 0.7427055702917772\n",
      "Precision для регрессии 0.38514442916093533\n"
     ]
    }
   ],
   "source": [
    "print(\"F1 для регрессии:\", f1_score(target_valid, regression_predicted_valid))\n",
    "print(\"Recall для регрессии:\", recall_score(target_valid, regression_predicted_valid))\n",
    "print(\"Precision для регрессии\", precision_score(target_valid, regression_predicted_valid))"
   ]
  },
  {
   "cell_type": "code",
   "execution_count": 52,
   "metadata": {},
   "outputs": [
    {
     "name": "stdout",
     "output_type": "stream",
     "text": [
      "ROC-AUC для регрессии 0.777527026803152\n"
     ]
    }
   ],
   "source": [
    "regression_probabilities_valid = regression_model.predict_proba(features_valid)\n",
    "regression_provabilities_one_valid = regression_probabilities_valid[:,1]\n",
    "print(\"ROC-AUC для регрессии\", roc_auc_score(target_valid, regression_probabilities_one_valid))"
   ]
  },
  {
   "cell_type": "markdown",
   "metadata": {},
   "source": [
    "Дерево решений"
   ]
  },
  {
   "cell_type": "code",
   "execution_count": 53,
   "metadata": {},
   "outputs": [
    {
     "name": "stdout",
     "output_type": "stream",
     "text": [
      "Лучшая глубина увеличенного дерева: 5\n",
      "Лучшее качество увеличенного дерева: 0.5735449735449736\n"
     ]
    }
   ],
   "source": [
    "best_tree_f1_2 = 0\n",
    "best_depth_tree2 = 0\n",
    "for depth in range (1, 15):\n",
    "    tree_model2 = DecisionTreeClassifier(max_depth = depth, random_state = 12345)\n",
    "    tree_model2.fit(features_upsampled, target_upsampled)\n",
    "    tree_predicted2 = tree_model2.predict(features_valid)\n",
    "    tree_f1_2 = f1_score(target_valid, tree_predicted2)\n",
    "    if tree_f1_2 > best_tree_f1_2:\n",
    "        best_tree_f1_2 = tree_f1_2\n",
    "        best_depth_tree2 =  depth\n",
    "print(\"Лучшая глубина увеличенного дерева:\", best_depth_tree2)\n",
    "print(\"Лучшее качество увеличенного дерева:\", best_tree_f1_2)"
   ]
  },
  {
   "cell_type": "code",
   "execution_count": 54,
   "metadata": {},
   "outputs": [],
   "source": [
    "tree_model_2 = DecisionTreeClassifier(max_depth = best_depth_tree2, random_state = 12345)\n",
    "tree_model_2.fit(features_upsampled, target_upsampled)\n",
    "tree_predicted_2 = tree_model_2.predict(features_valid)"
   ]
  },
  {
   "cell_type": "code",
   "execution_count": 55,
   "metadata": {},
   "outputs": [
    {
     "name": "stdout",
     "output_type": "stream",
     "text": [
      "F1-tree  -   0.5735449735449736\n",
      "Recall-tree 0.7188328912466844\n",
      "Precision-tree 0.477112676056338\n"
     ]
    }
   ],
   "source": [
    "print(\"F1-tree  -  \", f1_score(target_valid, tree_predicted_2))\n",
    "print(\"Recall-tree\", recall_score(target_valid, tree_predicted_2))\n",
    "print(\"Precision-tree\", precision_score(target_valid, tree_predicted_2))"
   ]
  },
  {
   "cell_type": "code",
   "execution_count": 56,
   "metadata": {},
   "outputs": [],
   "source": [
    "tree_probabilities_valid_2 = tree_model_2.predict_proba(features_valid)\n",
    "tree_probabilities_one_valid_2 = tree_probabilities_valid_2[:, 1]"
   ]
  },
  {
   "cell_type": "code",
   "execution_count": 57,
   "metadata": {},
   "outputs": [
    {
     "name": "stdout",
     "output_type": "stream",
     "text": [
      "AUC-ROC-tree 0.8396523192522141\n"
     ]
    }
   ],
   "source": [
    "auc_roc = roc_auc_score(target_valid, tree_probabilities_one_valid_2)\n",
    "print(\"AUC-ROC-tree\", auc_roc)"
   ]
  },
  {
   "cell_type": "markdown",
   "metadata": {},
   "source": [
    "Случайный лес"
   ]
  },
  {
   "cell_type": "code",
   "execution_count": 58,
   "metadata": {},
   "outputs": [
    {
     "name": "stdout",
     "output_type": "stream",
     "text": [
      "Лучшая глубина дерева -  10\n",
      "Лучшее количество оценок -  200\n"
     ]
    }
   ],
   "source": [
    "forest_best_depth2 = 0\n",
    "forest_best_estim2 = 0\n",
    "forest_best_f1_2 = 0\n",
    "for depth in range(1, 11):\n",
    "    for est in range(50, 201, 10):\n",
    "        forest_model2 = RandomForestClassifier(random_state = 12345, max_depth = depth, n_estimators = est)\n",
    "        forest_model2.fit(features_upsampled, target_upsampled)\n",
    "        forest_predicted_valid_2 = forest_model2.predict(features_valid)\n",
    "        forest_f1_2 = f1_score(target_valid, forest_predicted_valid_2)\n",
    "        if forest_best_f1_2 < forest_f1_2:\n",
    "            forest_best_depth2 = depth\n",
    "            forest_best_estim2 = est\n",
    "print(\"Лучшая глубина дерева - \", forest_best_depth2)\n",
    "print(\"Лучшее количество оценок - \", forest_best_estim2)"
   ]
  },
  {
   "cell_type": "code",
   "execution_count": 59,
   "metadata": {},
   "outputs": [],
   "source": [
    "forest_model_2 = RandomForestClassifier(random_state = 12345, n_estimators = forest_best_estim2, max_depth = forest_best_depth2)\n",
    "forest_model_2.fit(features_upsampled, target_upsampled)\n",
    "forest_predicted_valid_2 = forest_model_2.predict(features_valid)"
   ]
  },
  {
   "cell_type": "code",
   "execution_count": 60,
   "metadata": {},
   "outputs": [
    {
     "name": "stdout",
     "output_type": "stream",
     "text": [
      "F1 - forest для увеличенного леса 0.6272189349112426\n",
      "Recall - forest для увеличенного леса 0.7029177718832891\n",
      "Precision - forest для увеличенного леса 0.5662393162393162\n"
     ]
    }
   ],
   "source": [
    "print(\"F1 - forest для увеличенного леса\", f1_score(target_valid, forest_predicted_valid_2))\n",
    "print(\"Recall - forest для увеличенного леса\", recall_score(target_valid, forest_predicted_valid_2))\n",
    "print(\"Precision - forest для увеличенного леса\", precision_score(target_valid, forest_predicted_valid_2))"
   ]
  },
  {
   "cell_type": "code",
   "execution_count": 61,
   "metadata": {},
   "outputs": [],
   "source": [
    "forest_probabilities_valid_2 = forest_model_2.predict_proba(features_valid)\n",
    "forest_probabilities_one_valid_2 = forest_probabilities_valid_2[:, 1]"
   ]
  },
  {
   "cell_type": "code",
   "execution_count": 62,
   "metadata": {},
   "outputs": [
    {
     "name": "stdout",
     "output_type": "stream",
     "text": [
      "ROC-AUC для увеличенного случайного леса 0.8682409982752177\n"
     ]
    }
   ],
   "source": [
    "\n",
    "auc_roc = roc_auc_score(target_valid, forest_probabilities_one_valid_2)\n",
    "print(\"ROC-AUC для увеличенного случайного леса\", auc_roc)"
   ]
  },
  {
   "cell_type": "markdown",
   "metadata": {},
   "source": [
    "дерево решений до увеличения:  \n",
    "F1 - 0.5437788018433181  \n",
    "Recall -  0.46949602122015915    \n",
    "Precision -  0.6459854014598541   \n",
    "\n",
    "после взвешивания:      \n",
    "F1-tree  -  0.5735449735449736   \n",
    "Recall-tree 0.7188328912466844   \n",
    "Precision-tree 0.477112676056338  \n",
    "\n",
    "после увеличения:\n",
    "F1-tree  -   0.5735449735449736\n",
    "Recall-tree 0.7188328912466844\n",
    "Precision-tree 0.477112676056338\n",
    "   \n",
    "лес до увеличения:     \n",
    "F1: 0.5831903945111492   \n",
    "Recall 0.4509283819628647   \n",
    "Precision 0.8252427184466019   \n",
    "после взвешивания:      \n",
    "F1 - forest - 0.6353887399463807   \n",
    "Recall - forest - 0.6286472148541115   \n",
    "Precision - forest - 0.6422764227642277  \n",
    "\n",
    "после увеличения:   \n",
    "F1 - forest для увеличенного леса 0.6272189349112426\n",
    "Recall - forest для увеличенного леса 0.7029177718832891\n",
    "Precision - forest для увеличенного леса 0.5662393162393162\n",
    "   \n",
    "регрессия до увеличения:   \n",
    "F1: 0.3046092184368738     \n",
    "Recall 0.20159151193633953   \n",
    "Precision 0.6229508196721312   \n",
    "\n",
    "после взвешивания:      \n",
    "F1 - regression - 0.5101289134438306    \n",
    "Recall - regression - 0.7347480106100795   \n",
    "Precision - regression - 0.3906911142454161 \n",
    "\n",
    "после увеличения:   \n",
    "F1 для регрессии: 0.5072463768115941\n",
    "Recall для регрессии: 0.7427055702917772\n",
    "Precision для регрессии 0.3851444291609353\n",
    "\n",
    "Если сравнивать модели до увеличения и после, можно сказать, что во всех трёх случаях после увеличения, также как и после взвешивания, улучшились показатели F1  и Recall и уменьшилась Precision, но F1 выросла, то есть увеличение положительно сказалось на результатах.   \n",
    "Если сравнивать увеличение с взвешиванием, то можно сказать, что ощутимая разница заметна только для случайного леса, где Recall выше у увеличенного леса, а Precision - у взвешенного.\n"
   ]
  },
  {
   "cell_type": "markdown",
   "metadata": {},
   "source": [
    "Разделим обучающую выборку на отрицательные и положительные объекты. Случайным образом отбросим часть из отрицательных объектов, создадим новую выборку, перемешаем данные. Для этого напишем функцию downsample"
   ]
  },
  {
   "cell_type": "code",
   "execution_count": 63,
   "metadata": {},
   "outputs": [],
   "source": [
    "def downsample(features, target, fraction):\n",
    "    features_zeros = features[target == 0]\n",
    "    features_once = features[target == 1]\n",
    "    target_zeros = target[target == 0]\n",
    "    target_once = target[target == 1]\n",
    "    \n",
    "    features_downsampled = pd.concat([features_zeros.sample(frac = fraction, random_state  = 12345)] + [features_once])\n",
    "    target_downsampled = pd.concat([target_zeros.sample(frac = fraction, random_state = 12345)]+[target_once])\n",
    "    \n",
    "    features_downsampled, target_downsampled = shuffle(features_downsampled, target_downsampled, random_state = 12345)\n",
    "    \n",
    "    return features_downsampled, target_downsampled"
   ]
  },
  {
   "cell_type": "code",
   "execution_count": 64,
   "metadata": {},
   "outputs": [],
   "source": [
    "features_downsampled, target_downsampled = downsample(features_train, target_train, 0.25)"
   ]
  },
  {
   "cell_type": "markdown",
   "metadata": {},
   "source": [
    "Посмотрим на баланс"
   ]
  },
  {
   "cell_type": "code",
   "execution_count": 65,
   "metadata": {},
   "outputs": [
    {
     "name": "stdout",
     "output_type": "stream",
     "text": [
      "(2208, 11)\n",
      "(2208,)\n"
     ]
    }
   ],
   "source": [
    "print(features_downsampled.shape)\n",
    "print(target_downsampled.shape)"
   ]
  },
  {
   "cell_type": "markdown",
   "metadata": {},
   "source": [
    "Регрессия для уменьшенной выборки"
   ]
  },
  {
   "cell_type": "code",
   "execution_count": 66,
   "metadata": {},
   "outputs": [],
   "source": [
    "regression_model_3 = LogisticRegression(random_state = 12345, solver = 'liblinear')\n",
    "regression_model_3.fit(features_downsampled, target_downsampled)\n",
    "regression_predicted_valid_3= regression_model_3.predict(features_valid)\n"
   ]
  },
  {
   "cell_type": "code",
   "execution_count": 67,
   "metadata": {},
   "outputs": [
    {
     "name": "stdout",
     "output_type": "stream",
     "text": [
      "F1 для уменьшенной регрессии: 0.5035971223021583\n",
      "Recall для уменьшенной регрессии: 0.7427055702917772\n",
      "Precision для уменьшенной регрессии: 0.38095238095238093\n"
     ]
    }
   ],
   "source": [
    "print(\"F1 для уменьшенной регрессии:\", f1_score(target_valid, regression_predicted_valid_3))\n",
    "print(\"Recall для уменьшенной регрессии:\", recall_score(target_valid, regression_predicted_valid_3))\n",
    "print(\"Precision для уменьшенной регрессии:\", precision_score(target_valid, regression_predicted_valid_3))"
   ]
  },
  {
   "cell_type": "code",
   "execution_count": 68,
   "metadata": {},
   "outputs": [
    {
     "name": "stdout",
     "output_type": "stream",
     "text": [
      "ROC-AUC_log: 0.7756623476549774\n"
     ]
    }
   ],
   "source": [
    "probabilities_valid_3 = regression_model_3.predict_proba(features_valid)\n",
    "probabilities_one_valid_3 = probabilities_valid_3[:, 1]\n",
    "print(\"ROC-AUC_log:\", roc_auc_score(target_valid, probabilities_one_valid_3))"
   ]
  },
  {
   "cell_type": "markdown",
   "metadata": {},
   "source": [
    "Дерево решений для уменьшенной выборки"
   ]
  },
  {
   "cell_type": "code",
   "execution_count": 69,
   "metadata": {},
   "outputs": [
    {
     "name": "stdout",
     "output_type": "stream",
     "text": [
      "Лучшая глубина уменьшенного дерева: 6\n",
      "Лучшее качество уменьшенного дерева: 0.5636704119850188\n"
     ]
    }
   ],
   "source": [
    "best_tree_f1_3 = 0\n",
    "best_depth_tree3 = 0\n",
    "for depth in range (1, 15):\n",
    "    tree_model3 = DecisionTreeClassifier(max_depth = depth, random_state = 12345)\n",
    "    tree_model3.fit(features_downsampled, target_downsampled)\n",
    "    tree_predicted3 = tree_model3.predict(features_valid)\n",
    "    tree_f1_3 = f1_score(target_valid, tree_predicted3)\n",
    "    if tree_f1_3 > best_tree_f1_3:\n",
    "        best_tree_f1_3 = tree_f1_3\n",
    "        best_depth_tree3 =  depth\n",
    "print(\"Лучшая глубина уменьшенного дерева:\", best_depth_tree3)\n",
    "print(\"Лучшее качество уменьшенного дерева:\", best_tree_f1_3)"
   ]
  },
  {
   "cell_type": "code",
   "execution_count": 70,
   "metadata": {},
   "outputs": [],
   "source": [
    "tree_model_3 = DecisionTreeClassifier(max_depth = best_depth_tree3, random_state = 12345)\n",
    "tree_model_3.fit(features_downsampled, target_downsampled)\n",
    "tree_predicted_3 = tree_model_3.predict(features_valid)"
   ]
  },
  {
   "cell_type": "code",
   "execution_count": 71,
   "metadata": {},
   "outputs": [
    {
     "name": "stdout",
     "output_type": "stream",
     "text": [
      "F1-tree уменьшенное-   0.5636704119850188\n",
      "Recall-tree уменьшунное 0.7984084880636605\n",
      "Precision-tree уменьшенное 0.4356005788712012\n"
     ]
    }
   ],
   "source": [
    "print(\"F1-tree уменьшенное-  \", f1_score(target_valid, tree_predicted_3))\n",
    "print(\"Recall-tree уменьшунное\", recall_score(target_valid, tree_predicted_3))\n",
    "print(\"Precision-tree уменьшенное\", precision_score(target_valid, tree_predicted_3))"
   ]
  },
  {
   "cell_type": "code",
   "execution_count": 72,
   "metadata": {},
   "outputs": [],
   "source": [
    "tree_probabilities_valid_3 = tree_model_3.predict_proba(features_valid)\n",
    "tree_probabilities_one_valid_3 = tree_probabilities_valid_3[:, 1]"
   ]
  },
  {
   "cell_type": "code",
   "execution_count": 73,
   "metadata": {},
   "outputs": [
    {
     "name": "stdout",
     "output_type": "stream",
     "text": [
      "AUC-ROC-tree уменьшенное 0.8343500405885245\n"
     ]
    }
   ],
   "source": [
    "auc_roc = roc_auc_score(target_valid, tree_probabilities_one_valid_3)\n",
    "print(\"AUC-ROC-tree уменьшенное\", auc_roc)"
   ]
  },
  {
   "cell_type": "markdown",
   "metadata": {},
   "source": [
    "Случайный лес для уменьшенной выборки"
   ]
  },
  {
   "cell_type": "code",
   "execution_count": 74,
   "metadata": {},
   "outputs": [
    {
     "name": "stdout",
     "output_type": "stream",
     "text": [
      "Лучшая глубина уменьшенного дерева -  10\n",
      "Лучшее количество оценок уменьшенного дерева-  200\n"
     ]
    }
   ],
   "source": [
    "forest_best_depth3 = 0\n",
    "forest_best_estim3 = 0\n",
    "forest_best_f1_3 = 0\n",
    "for depth in range(1, 11):\n",
    "    for est in range(50, 201, 10):\n",
    "        forest_model3 = RandomForestClassifier(random_state = 12345, max_depth = depth, n_estimators = est)\n",
    "        forest_model3.fit(features_downsampled, target_downsampled)\n",
    "        forest_predicted_valid_3 = forest_model3.predict(features_valid)\n",
    "        forest_f1_3 = f1_score(target_valid, forest_predicted_valid_3)\n",
    "        if forest_best_f1_3 < forest_f1_3:\n",
    "            forest_best_depth3 = depth\n",
    "            forest_best_estim3 = est\n",
    "print(\"Лучшая глубина уменьшенного дерева - \", forest_best_depth3)\n",
    "print(\"Лучшее количество оценок уменьшенного дерева- \", forest_best_estim3)"
   ]
  },
  {
   "cell_type": "code",
   "execution_count": 75,
   "metadata": {},
   "outputs": [],
   "source": [
    "forest_model_3 = RandomForestClassifier(random_state = 12345, n_estimators = forest_best_estim3, max_depth = forest_best_depth3)\n",
    "forest_model_3.fit(features_downsampled, target_downsampled)\n",
    "forest_predicted_valid_3 = forest_model_3.predict(features_valid)"
   ]
  },
  {
   "cell_type": "code",
   "execution_count": 76,
   "metadata": {},
   "outputs": [
    {
     "name": "stdout",
     "output_type": "stream",
     "text": [
      "F1 - forest для уменьшенного леса 0.5988142292490118\n",
      "Recall - forest для уменьшенного леса 0.8037135278514589\n",
      "Precision - forest для уменьшенного леса 0.47716535433070867\n"
     ]
    }
   ],
   "source": [
    "print(\"F1 - forest для уменьшенного леса\", f1_score(target_valid, forest_predicted_valid_3))\n",
    "print(\"Recall - forest для уменьшенного леса\", recall_score(target_valid, forest_predicted_valid_3))\n",
    "print(\"Precision - forest для уменьшенного леса\", precision_score(target_valid, forest_predicted_valid_3))"
   ]
  },
  {
   "cell_type": "code",
   "execution_count": 77,
   "metadata": {},
   "outputs": [],
   "source": [
    "forest_probabilities_valid_3 = forest_model_3.predict_proba(features_valid)\n",
    "forest_probabilities_one_valid_3 = forest_probabilities_valid_3[:, 1]"
   ]
  },
  {
   "cell_type": "code",
   "execution_count": 78,
   "metadata": {},
   "outputs": [
    {
     "name": "stdout",
     "output_type": "stream",
     "text": [
      "ROC-AUC для уменьшенного случайного леса 0.8678341926565143\n"
     ]
    }
   ],
   "source": [
    "auc_roc = roc_auc_score(target_valid, forest_probabilities_one_valid_3)\n",
    "print(\"ROC-AUC для уменьшенного случайного леса\", auc_roc)"
   ]
  },
  {
   "cell_type": "markdown",
   "metadata": {},
   "source": [
    "Вывод:   \n",
    "Для борьбы с дисбалансом классов были использованы методы взвешивания, увеличения и уменьшения.   \n",
    "Получены следующие результаты:   \n",
    " Взвешивание   \n",
    "   регрессия:   \n",
    "F1 - regression - 0.5101289134438306\n",
    "Recall - regression - 0.7347480106100795\n",
    "Precision - regression - 0.3906911142454161\n",
    "AUC-ROC - 0.777527026803152   \n",
    "   дерево решений:   \n",
    "F1-tree  -  0.5735449735449736   \n",
    "Recall-tree 0.7188328912466844   \n",
    "Precision-tree 0.477112676056338   \n",
    "AUC-ROC-tree 0.8396523192522141   \n",
    "   случайный лес:   \n",
    "F1 - forest - 0.6353887399463807\n",
    "Recall - forest - 0.6286472148541115\n",
    "Precision - forest - 0.6422764227642277  \n",
    "AUC-ROC - 0.762987012987013  \n",
    "\n",
    "  Увеличение   \n",
    "регрессия:   \n",
    "F1 для регрессии: 0.5072463768115941\n",
    "Recall для регрессии: 0.7427055702917772\n",
    "Precision для регрессии 0.38514442916093533    \n",
    "ROC-AUC для регрессии 0.777527026803152\n",
    "   дерево решений:   \n",
    "F1-tree  -   0.5735449735449736\n",
    "Recall-tree 0.7188328912466844\n",
    "Precision-tree 0.477112676056338\n",
    "UC-ROC-tree 0.8310244134068074\n",
    "   случайный лес:   \n",
    "F1 - forest для увеличенного леса 0.6272189349112426\n",
    "Recall - forest для увеличенного леса 0.7029177718832891\n",
    "Precision - forest для увеличенного леса 0.5662393162393162\n",
    "ROC-AUC для увеличенного случайного леса 0.8682409982752177  \n",
    "\n",
    "   Уменьшение\n",
    "регрессия:   \n",
    "F1 для уменьшенной регрессии: 0.5035971223021583\n",
    "Recall для уменьшенной регрессии: 0.7427055702917772\n",
    "Precision для уменьшенной регрессии: 0.38095238095238093  \n",
    "ROC-AUC для уменьшенной регрессии: 0.7756623476549774\n",
    "   дерево решений:   \n",
    "F1-tree уменьшенное-   0.5636704119850188\n",
    "Recall-tree уменьшунное 0.7984084880636605\n",
    "Precision-tree уменьшенное 0.4356005788712012\n",
    "AUC-ROC-tree уменьшенное 0.8343500405885245\n",
    "   случайный лес:   \n",
    "F1 - forest для уменьшенного леса 0.5988142292490118\n",
    "Recall - forest для уменьшенного леса 0.8037135278514589\n",
    "Precision - forest для уменьшенного леса 0.47716535433070867\n",
    "ROC-AUC для уменьшенного случайного леса 0.8678341926565143   \n",
    "\n",
    "В нашем случае самое низкое значение F1-меры у регрессии при любом изменении выборки. При этом лучшее значение F1-меры(>0,63) дала модель случайного леса взвешенных классов.Логично  будеть использовать её для тестирования. ROC_AUC у нас получилось в диапазоне от 0,76 до 0,87."
   ]
  },
  {
   "cell_type": "markdown",
   "metadata": {},
   "source": [
    "## Тестирование модели"
   ]
  },
  {
   "cell_type": "markdown",
   "metadata": {},
   "source": [
    "Тестирование проводим на модели случайного леса взвешенных классов. Оптимальными параметрами были: глубина дерева -  10 количество оценок -  200."
   ]
  },
  {
   "cell_type": "code",
   "execution_count": 79,
   "metadata": {},
   "outputs": [],
   "source": [
    "test_model = RandomForestClassifier(class_weight = 'balanced', random_state = 12345, n_estimators = 200, max_depth = 10)\n",
    "test_model.fit(features_train, target_train)\n",
    "test_predicted = test_model.predict(features_test)"
   ]
  },
  {
   "cell_type": "code",
   "execution_count": 80,
   "metadata": {},
   "outputs": [
    {
     "name": "stdout",
     "output_type": "stream",
     "text": [
      "F1 при тестировании: 0.6180257510729614\n",
      "Recall при тестировании:  0.6153846153846154\n",
      "Precision при тестировании 0.6206896551724138\n"
     ]
    }
   ],
   "source": [
    "print(\"F1 при тестировании:\", f1_score(target_test, test_predicted))\n",
    "print(\"Recall при тестировании: \", recall_score(target_test, test_predicted))\n",
    "print(\"Precision при тестировании\", precision_score(target_test, test_predicted))"
   ]
  },
  {
   "cell_type": "markdown",
   "metadata": {},
   "source": [
    "Построим ROC-кривую и изобразим её на графике, добавим график ROC-кривой случайной модели. Посчитаем AUC_ROC"
   ]
  },
  {
   "cell_type": "code",
   "execution_count": 81,
   "metadata": {},
   "outputs": [],
   "source": [
    "test_probabilities = test_model.predict_proba(features_test)\n",
    "test_probabilities_one = test_probabilities[:, 1]"
   ]
  },
  {
   "cell_type": "code",
   "execution_count": 82,
   "metadata": {},
   "outputs": [
    {
     "name": "stdout",
     "output_type": "stream",
     "text": [
      "ROC-AUC при тестировании 0.860917037347555\n"
     ]
    }
   ],
   "source": [
    "fpr,tpr, thresholds = roc_curve(target_test, test_probabilities_one)\n",
    "auc_roc = roc_auc_score(target_test, test_probabilities_one)\n",
    "print(\"ROC-AUC при тестировании\", auc_roc)"
   ]
  },
  {
   "cell_type": "code",
   "execution_count": 83,
   "metadata": {},
   "outputs": [
    {
     "data": {
      "image/png": "[encoded data removed]",
      "text/plain": [
       "<Figure size 432x288 with 1 Axes>"
      ]
     },
     "metadata": {
      "needs_background": "light"
     },
     "output_type": "display_data"
    }
   ],
   "source": [
    "plt.figure()\n",
    "plt.plot(fpr, tpr)\n",
    "#построем кривую для случайной модели\n",
    "plt.plot([0, 1], [0, 1], linestyle='--')\n",
    "\n",
    "# применим функции plt.xlim() и plt.ylim(), чтобы установить границы осей от 0 до 1 \n",
    "plt.xlim([0.0, 1.0])\n",
    "plt.ylim([0.0, 1.0])\n",
    "\n",
    "#подпишем оси и добавим заголовок\n",
    "plt.xlabel('False Positive Rate')\n",
    "plt.ylabel('True Positive Rate')\n",
    "\n",
    "plt.title(\"ROC-кривая при тестировании\")\n",
    "plt.show()"
   ]
  },
  {
   "cell_type": "markdown",
   "metadata": {},
   "source": [
    "Вывод   \n",
    "В результате тестирования, нами получено значение F1-меры выше>61, что лучше, чем 0,59. ROC-AUC, полученное при тестировании, равно 0.8609. Качество ROC-кривой очевидно выше, чем у случайной модели."
   ]
  },
  {
   "cell_type": "markdown",
   "metadata": {},
   "source": [
    "## Общий вывод\n",
    "В результате подготовки данных, при помощи техники прямого кодирования в дамми-переменные были переведены столбцы с географической принадлежностью и полом. К столбцам 'CreditScore', 'Balance', 'Estimated Salary' было применено масштабирование, чтобы избежать перекоса в значимости признаков. Также были удалены избыточные для исследования данные, столбцы 'Surname' и 'CustomerID' и номер строки.   \n",
    "В результате исследования данных был выделен целевой признак - столбец \"Exitet\". Выборка была разделена на тренировочную, валидационную и тестовую в пропорции 3:1:1. Были изучены модели случайного леса, решающего дерева и регрессии без учета дисбаланса. Лучшие результаты F1, Precision, Accuracy показала модель случайного леса, в то время, как Recall - решающее дерево. Был выявлен внушительный перекос в балансе классов.   \n",
    "Для борьбы с дисбалансом были использованы методы взвешивания, увеличения и уменьшения выборки. Лучший результат F1 показала модель случайного леса взвешенных классов. Она была использована для тестирования.   \n",
    "В результате тестирования получили значения F1 больше 0,61, что соответствует поставленной задаче. ROC-AUC, полученное при тестировании, равно 0.857. Качество ROC-кривой получилось значительно выше, чем у случайной модели."
   ]
  }
 ],
 "metadata": {
  "ExecuteTimeLog": [
   {
    "duration": 515,
    "start_time": "2023-04-20T14:58:02.778Z"
   },
   {
    "duration": 88,
    "start_time": "2023-04-20T14:58:30.144Z"
   },
   {
    "duration": 43,
    "start_time": "2023-04-20T14:59:04.651Z"
   },
   {
    "duration": 23,
    "start_time": "2023-04-20T14:59:47.553Z"
   },
   {
    "duration": 78,
    "start_time": "2023-04-20T15:00:51.979Z"
   },
   {
    "duration": 15,
    "start_time": "2023-04-20T15:01:10.611Z"
   },
   {
    "duration": 47,
    "start_time": "2023-04-20T15:12:10.562Z"
   },
   {
    "duration": 6,
    "start_time": "2023-04-20T15:18:18.129Z"
   },
   {
    "duration": 5,
    "start_time": "2023-04-20T15:18:46.355Z"
   },
   {
    "duration": 42,
    "start_time": "2023-04-20T18:02:47.493Z"
   },
   {
    "duration": 355,
    "start_time": "2023-04-20T18:03:05.459Z"
   },
   {
    "duration": 333,
    "start_time": "2023-04-20T18:03:05.816Z"
   },
   {
    "duration": 17,
    "start_time": "2023-04-20T18:03:06.151Z"
   },
   {
    "duration": 12,
    "start_time": "2023-04-20T18:03:06.169Z"
   },
   {
    "duration": 14,
    "start_time": "2023-04-20T18:03:06.183Z"
   },
   {
    "duration": 9,
    "start_time": "2023-04-20T18:03:06.199Z"
   },
   {
    "duration": 38,
    "start_time": "2023-04-20T18:03:06.209Z"
   },
   {
    "duration": 6,
    "start_time": "2023-04-20T18:03:06.248Z"
   },
   {
    "duration": 56,
    "start_time": "2023-04-20T18:03:46.584Z"
   },
   {
    "duration": 45,
    "start_time": "2023-04-21T16:09:39.596Z"
   },
   {
    "duration": 376,
    "start_time": "2023-04-21T16:09:53.613Z"
   },
   {
    "duration": 171,
    "start_time": "2023-04-21T16:09:53.992Z"
   },
   {
    "duration": 18,
    "start_time": "2023-04-21T16:09:54.164Z"
   },
   {
    "duration": 18,
    "start_time": "2023-04-21T16:09:54.184Z"
   },
   {
    "duration": 4,
    "start_time": "2023-04-21T16:09:54.205Z"
   },
   {
    "duration": 13,
    "start_time": "2023-04-21T16:09:54.210Z"
   },
   {
    "duration": 5,
    "start_time": "2023-04-21T16:09:54.224Z"
   },
   {
    "duration": 6,
    "start_time": "2023-04-21T16:09:54.230Z"
   },
   {
    "duration": 24,
    "start_time": "2023-04-21T16:09:54.238Z"
   },
   {
    "duration": 5,
    "start_time": "2023-04-21T16:09:54.264Z"
   },
   {
    "duration": 790,
    "start_time": "2023-04-21T16:10:31.774Z"
   },
   {
    "duration": 769,
    "start_time": "2023-04-21T16:11:01.734Z"
   },
   {
    "duration": 47,
    "start_time": "2023-04-21T16:12:58.329Z"
   },
   {
    "duration": 19,
    "start_time": "2023-04-21T16:13:05.263Z"
   },
   {
    "duration": 16,
    "start_time": "2023-04-21T16:13:42.947Z"
   },
   {
    "duration": 1827,
    "start_time": "2023-04-21T16:16:08.035Z"
   },
   {
    "duration": 88,
    "start_time": "2023-04-21T16:16:09.864Z"
   },
   {
    "duration": 23,
    "start_time": "2023-04-21T16:16:09.953Z"
   },
   {
    "duration": 14,
    "start_time": "2023-04-21T16:16:09.978Z"
   },
   {
    "duration": 5,
    "start_time": "2023-04-21T16:16:09.994Z"
   },
   {
    "duration": 14,
    "start_time": "2023-04-21T16:16:10.000Z"
   },
   {
    "duration": 14,
    "start_time": "2023-04-21T16:16:10.016Z"
   },
   {
    "duration": 46,
    "start_time": "2023-04-21T16:16:10.055Z"
   },
   {
    "duration": 6,
    "start_time": "2023-04-21T16:16:10.103Z"
   },
   {
    "duration": 107,
    "start_time": "2023-04-21T16:17:08.763Z"
   },
   {
    "duration": 1068,
    "start_time": "2023-04-21T16:17:37.772Z"
   },
   {
    "duration": 51,
    "start_time": "2023-04-21T16:17:38.842Z"
   },
   {
    "duration": 21,
    "start_time": "2023-04-21T16:17:38.895Z"
   },
   {
    "duration": 13,
    "start_time": "2023-04-21T16:17:38.918Z"
   },
   {
    "duration": 8,
    "start_time": "2023-04-21T16:17:38.933Z"
   },
   {
    "duration": 13,
    "start_time": "2023-04-21T16:17:38.943Z"
   },
   {
    "duration": 23,
    "start_time": "2023-04-21T16:17:38.958Z"
   },
   {
    "duration": 44,
    "start_time": "2023-04-21T16:17:38.982Z"
   },
   {
    "duration": 6,
    "start_time": "2023-04-21T16:17:39.028Z"
   },
   {
    "duration": 98,
    "start_time": "2023-04-21T17:59:26.305Z"
   },
   {
    "duration": 10,
    "start_time": "2023-04-21T18:00:29.732Z"
   },
   {
    "duration": 10,
    "start_time": "2023-04-21T18:00:37.244Z"
   },
   {
    "duration": 3,
    "start_time": "2023-04-21T18:00:54.453Z"
   },
   {
    "duration": 14,
    "start_time": "2023-04-21T18:00:59.319Z"
   },
   {
    "duration": 68,
    "start_time": "2023-04-21T18:01:30.352Z"
   },
   {
    "duration": 12,
    "start_time": "2023-04-21T19:00:42.475Z"
   },
   {
    "duration": 7,
    "start_time": "2023-04-21T19:00:54.209Z"
   },
   {
    "duration": 11,
    "start_time": "2023-04-21T19:01:13.532Z"
   },
   {
    "duration": 8,
    "start_time": "2023-04-21T19:06:57.300Z"
   },
   {
    "duration": 8,
    "start_time": "2023-04-21T19:07:51.020Z"
   },
   {
    "duration": 8,
    "start_time": "2023-04-21T19:07:55.530Z"
   },
   {
    "duration": 8,
    "start_time": "2023-04-21T19:08:34.036Z"
   },
   {
    "duration": 8,
    "start_time": "2023-04-21T19:08:35.609Z"
   },
   {
    "duration": 10,
    "start_time": "2023-04-22T03:25:38.810Z"
   },
   {
    "duration": 42,
    "start_time": "2023-04-22T03:25:38.822Z"
   },
   {
    "duration": 14,
    "start_time": "2023-04-22T03:25:38.868Z"
   },
   {
    "duration": 55,
    "start_time": "2023-04-22T03:25:38.884Z"
   },
   {
    "duration": 79,
    "start_time": "2023-04-22T03:25:38.942Z"
   },
   {
    "duration": 188,
    "start_time": "2023-04-22T03:25:39.023Z"
   },
   {
    "duration": 56,
    "start_time": "2023-04-22T03:25:39.214Z"
   },
   {
    "duration": 99,
    "start_time": "2023-04-22T03:25:39.272Z"
   },
   {
    "duration": 77,
    "start_time": "2023-04-22T03:25:39.373Z"
   },
   {
    "duration": 8,
    "start_time": "2023-04-22T03:25:39.452Z"
   },
   {
    "duration": 29,
    "start_time": "2023-04-22T03:25:39.462Z"
   },
   {
    "duration": 11,
    "start_time": "2023-04-22T03:26:10.590Z"
   },
   {
    "duration": 9,
    "start_time": "2023-04-22T03:26:26.392Z"
   },
   {
    "duration": 9,
    "start_time": "2023-04-22T03:26:47.892Z"
   },
   {
    "duration": 9,
    "start_time": "2023-04-22T03:27:10.177Z"
   },
   {
    "duration": 6,
    "start_time": "2023-04-22T03:29:11.726Z"
   },
   {
    "duration": 21,
    "start_time": "2023-04-22T03:29:11.733Z"
   },
   {
    "duration": 32,
    "start_time": "2023-04-22T03:29:11.757Z"
   },
   {
    "duration": 15,
    "start_time": "2023-04-22T03:29:11.791Z"
   },
   {
    "duration": 5,
    "start_time": "2023-04-22T03:29:11.807Z"
   },
   {
    "duration": 15,
    "start_time": "2023-04-22T03:29:11.814Z"
   },
   {
    "duration": 20,
    "start_time": "2023-04-22T03:29:11.831Z"
   },
   {
    "duration": 72,
    "start_time": "2023-04-22T03:29:11.853Z"
   },
   {
    "duration": 70,
    "start_time": "2023-04-22T03:29:11.927Z"
   },
   {
    "duration": 6,
    "start_time": "2023-04-22T03:29:11.999Z"
   },
   {
    "duration": 15,
    "start_time": "2023-04-22T03:29:12.007Z"
   },
   {
    "duration": 8,
    "start_time": "2023-04-22T03:33:11.281Z"
   },
   {
    "duration": 1260,
    "start_time": "2023-04-22T04:45:43.608Z"
   },
   {
    "duration": 6,
    "start_time": "2023-04-22T04:46:08.668Z"
   },
   {
    "duration": 14,
    "start_time": "2023-04-22T06:40:21.307Z"
   },
   {
    "duration": 10,
    "start_time": "2023-04-22T06:40:35.749Z"
   },
   {
    "duration": 48,
    "start_time": "2023-04-23T04:31:13.342Z"
   },
   {
    "duration": 1064,
    "start_time": "2023-04-23T04:31:27.311Z"
   },
   {
    "duration": 75,
    "start_time": "2023-04-23T04:31:28.377Z"
   },
   {
    "duration": 18,
    "start_time": "2023-04-23T04:31:28.453Z"
   },
   {
    "duration": 12,
    "start_time": "2023-04-23T04:31:28.472Z"
   },
   {
    "duration": 4,
    "start_time": "2023-04-23T04:31:28.485Z"
   },
   {
    "duration": 7,
    "start_time": "2023-04-23T04:31:28.490Z"
   },
   {
    "duration": 22,
    "start_time": "2023-04-23T04:31:28.498Z"
   },
   {
    "duration": 50,
    "start_time": "2023-04-23T04:31:28.521Z"
   },
   {
    "duration": 63,
    "start_time": "2023-04-23T04:31:28.573Z"
   },
   {
    "duration": 5,
    "start_time": "2023-04-23T04:31:28.638Z"
   },
   {
    "duration": 6,
    "start_time": "2023-04-23T04:31:28.644Z"
   },
   {
    "duration": 8,
    "start_time": "2023-04-23T04:31:28.651Z"
   },
   {
    "duration": 12,
    "start_time": "2023-04-23T04:31:28.660Z"
   },
   {
    "duration": 72,
    "start_time": "2023-04-23T04:31:28.674Z"
   },
   {
    "duration": 0,
    "start_time": "2023-04-23T04:31:28.748Z"
   },
   {
    "duration": 0,
    "start_time": "2023-04-23T04:31:28.750Z"
   },
   {
    "duration": 0,
    "start_time": "2023-04-23T04:31:28.751Z"
   },
   {
    "duration": 1196,
    "start_time": "2023-04-23T04:31:48.467Z"
   },
   {
    "duration": 5,
    "start_time": "2023-04-23T04:32:03.566Z"
   },
   {
    "duration": 5,
    "start_time": "2023-04-23T04:32:52.987Z"
   },
   {
    "duration": 4,
    "start_time": "2023-04-23T04:33:08.975Z"
   },
   {
    "duration": 494,
    "start_time": "2023-04-23T04:33:39.812Z"
   },
   {
    "duration": 95,
    "start_time": "2023-04-23T04:33:52.141Z"
   },
   {
    "duration": 1194,
    "start_time": "2023-04-24T07:03:41.665Z"
   },
   {
    "duration": 80,
    "start_time": "2023-04-24T07:03:42.862Z"
   },
   {
    "duration": 21,
    "start_time": "2023-04-24T07:03:42.943Z"
   },
   {
    "duration": 12,
    "start_time": "2023-04-24T07:03:42.966Z"
   },
   {
    "duration": 5,
    "start_time": "2023-04-24T07:03:42.980Z"
   },
   {
    "duration": 12,
    "start_time": "2023-04-24T07:03:42.987Z"
   },
   {
    "duration": 27,
    "start_time": "2023-04-24T07:03:43.000Z"
   },
   {
    "duration": 48,
    "start_time": "2023-04-24T07:03:43.029Z"
   },
   {
    "duration": 61,
    "start_time": "2023-04-24T07:03:43.084Z"
   },
   {
    "duration": 6,
    "start_time": "2023-04-24T07:03:43.147Z"
   },
   {
    "duration": 29,
    "start_time": "2023-04-24T07:03:43.155Z"
   },
   {
    "duration": 4,
    "start_time": "2023-04-24T07:03:43.186Z"
   },
   {
    "duration": 14,
    "start_time": "2023-04-24T07:03:43.192Z"
   },
   {
    "duration": 563,
    "start_time": "2023-04-24T07:03:43.208Z"
   },
   {
    "duration": 107,
    "start_time": "2023-04-24T07:33:51.913Z"
   },
   {
    "duration": 20,
    "start_time": "2023-04-24T07:34:01.363Z"
   },
   {
    "duration": 26,
    "start_time": "2023-04-24T07:34:12.423Z"
   },
   {
    "duration": 20,
    "start_time": "2023-04-24T07:35:13.008Z"
   },
   {
    "duration": 1067,
    "start_time": "2023-04-24T07:35:20.837Z"
   },
   {
    "duration": 41,
    "start_time": "2023-04-24T07:35:21.906Z"
   },
   {
    "duration": 19,
    "start_time": "2023-04-24T07:35:21.949Z"
   },
   {
    "duration": 15,
    "start_time": "2023-04-24T07:35:21.969Z"
   },
   {
    "duration": 24,
    "start_time": "2023-04-24T07:35:21.985Z"
   },
   {
    "duration": 53,
    "start_time": "2023-04-24T07:35:22.011Z"
   },
   {
    "duration": 37,
    "start_time": "2023-04-24T07:35:22.066Z"
   },
   {
    "duration": 84,
    "start_time": "2023-04-24T07:35:22.105Z"
   },
   {
    "duration": 56,
    "start_time": "2023-04-24T07:35:22.191Z"
   },
   {
    "duration": 7,
    "start_time": "2023-04-24T07:35:22.251Z"
   },
   {
    "duration": 31,
    "start_time": "2023-04-24T07:35:22.259Z"
   },
   {
    "duration": 6,
    "start_time": "2023-04-24T07:35:22.291Z"
   },
   {
    "duration": 33,
    "start_time": "2023-04-24T07:35:22.298Z"
   },
   {
    "duration": 149,
    "start_time": "2023-04-24T07:35:22.333Z"
   },
   {
    "duration": 0,
    "start_time": "2023-04-24T07:35:22.483Z"
   },
   {
    "duration": 0,
    "start_time": "2023-04-24T07:35:22.484Z"
   },
   {
    "duration": 16,
    "start_time": "2023-04-24T07:38:35.781Z"
   },
   {
    "duration": 4,
    "start_time": "2023-04-24T07:38:51.124Z"
   },
   {
    "duration": 20,
    "start_time": "2023-04-24T07:38:57.193Z"
   },
   {
    "duration": 12,
    "start_time": "2023-04-24T07:39:12.178Z"
   },
   {
    "duration": 20,
    "start_time": "2023-04-24T07:39:13.434Z"
   },
   {
    "duration": 17,
    "start_time": "2023-04-24T07:45:59.203Z"
   },
   {
    "duration": 15,
    "start_time": "2023-04-24T07:46:47.537Z"
   },
   {
    "duration": 1107,
    "start_time": "2023-04-24T07:47:10.134Z"
   },
   {
    "duration": 47,
    "start_time": "2023-04-24T07:47:11.243Z"
   },
   {
    "duration": 22,
    "start_time": "2023-04-24T07:47:11.292Z"
   },
   {
    "duration": 40,
    "start_time": "2023-04-24T07:47:11.317Z"
   },
   {
    "duration": 21,
    "start_time": "2023-04-24T07:47:11.359Z"
   },
   {
    "duration": 31,
    "start_time": "2023-04-24T07:47:11.382Z"
   },
   {
    "duration": 35,
    "start_time": "2023-04-24T07:47:11.415Z"
   },
   {
    "duration": 57,
    "start_time": "2023-04-24T07:47:11.453Z"
   },
   {
    "duration": 74,
    "start_time": "2023-04-24T07:47:11.512Z"
   },
   {
    "duration": 7,
    "start_time": "2023-04-24T07:47:11.590Z"
   },
   {
    "duration": 8,
    "start_time": "2023-04-24T07:47:11.599Z"
   },
   {
    "duration": 40,
    "start_time": "2023-04-24T07:47:11.609Z"
   },
   {
    "duration": 51,
    "start_time": "2023-04-24T07:47:11.651Z"
   },
   {
    "duration": 23,
    "start_time": "2023-04-24T07:47:11.704Z"
   },
   {
    "duration": 137,
    "start_time": "2023-04-24T07:47:11.728Z"
   },
   {
    "duration": 0,
    "start_time": "2023-04-24T07:47:11.867Z"
   },
   {
    "duration": 0,
    "start_time": "2023-04-24T07:47:11.869Z"
   },
   {
    "duration": 0,
    "start_time": "2023-04-24T07:47:11.871Z"
   },
   {
    "duration": 12,
    "start_time": "2023-04-24T07:47:28.024Z"
   },
   {
    "duration": 1023,
    "start_time": "2023-04-24T07:47:43.647Z"
   },
   {
    "duration": 39,
    "start_time": "2023-04-24T07:47:44.672Z"
   },
   {
    "duration": 19,
    "start_time": "2023-04-24T07:47:44.713Z"
   },
   {
    "duration": 13,
    "start_time": "2023-04-24T07:47:44.733Z"
   },
   {
    "duration": 4,
    "start_time": "2023-04-24T07:47:44.748Z"
   },
   {
    "duration": 10,
    "start_time": "2023-04-24T07:47:44.753Z"
   },
   {
    "duration": 20,
    "start_time": "2023-04-24T07:47:44.764Z"
   },
   {
    "duration": 45,
    "start_time": "2023-04-24T07:47:44.785Z"
   },
   {
    "duration": 72,
    "start_time": "2023-04-24T07:47:44.832Z"
   },
   {
    "duration": 6,
    "start_time": "2023-04-24T07:47:44.907Z"
   },
   {
    "duration": 10,
    "start_time": "2023-04-24T07:47:44.915Z"
   },
   {
    "duration": 22,
    "start_time": "2023-04-24T07:47:44.926Z"
   },
   {
    "duration": 13,
    "start_time": "2023-04-24T07:47:44.949Z"
   },
   {
    "duration": 17,
    "start_time": "2023-04-24T07:47:44.965Z"
   },
   {
    "duration": 124,
    "start_time": "2023-04-24T07:47:44.984Z"
   },
   {
    "duration": 0,
    "start_time": "2023-04-24T07:47:45.110Z"
   },
   {
    "duration": 0,
    "start_time": "2023-04-24T07:47:45.111Z"
   },
   {
    "duration": 0,
    "start_time": "2023-04-24T07:47:45.113Z"
   },
   {
    "duration": 16,
    "start_time": "2023-04-24T07:48:33.902Z"
   },
   {
    "duration": 1111,
    "start_time": "2023-04-24T10:14:44.796Z"
   },
   {
    "duration": 166,
    "start_time": "2023-04-24T10:14:45.909Z"
   },
   {
    "duration": 22,
    "start_time": "2023-04-24T10:14:46.077Z"
   },
   {
    "duration": 13,
    "start_time": "2023-04-24T10:14:46.101Z"
   },
   {
    "duration": 4,
    "start_time": "2023-04-24T10:14:46.116Z"
   },
   {
    "duration": 6,
    "start_time": "2023-04-24T10:14:46.122Z"
   },
   {
    "duration": 21,
    "start_time": "2023-04-24T10:14:46.129Z"
   },
   {
    "duration": 80,
    "start_time": "2023-04-24T10:14:46.152Z"
   },
   {
    "duration": 73,
    "start_time": "2023-04-24T10:14:46.234Z"
   },
   {
    "duration": 7,
    "start_time": "2023-04-24T10:14:46.310Z"
   },
   {
    "duration": 11,
    "start_time": "2023-04-24T10:14:46.319Z"
   },
   {
    "duration": 14,
    "start_time": "2023-04-24T10:14:46.331Z"
   },
   {
    "duration": 4,
    "start_time": "2023-04-24T10:14:46.347Z"
   },
   {
    "duration": 15,
    "start_time": "2023-04-24T10:14:46.352Z"
   },
   {
    "duration": 114,
    "start_time": "2023-04-24T10:14:46.393Z"
   },
   {
    "duration": 0,
    "start_time": "2023-04-24T10:14:46.509Z"
   },
   {
    "duration": 0,
    "start_time": "2023-04-24T10:14:46.510Z"
   },
   {
    "duration": 17,
    "start_time": "2023-04-24T10:15:05.758Z"
   },
   {
    "duration": 4,
    "start_time": "2023-04-24T10:16:58.094Z"
   },
   {
    "duration": 3,
    "start_time": "2023-04-24T10:17:16.804Z"
   },
   {
    "duration": 14,
    "start_time": "2023-04-24T10:17:39.221Z"
   },
   {
    "duration": 17,
    "start_time": "2023-04-24T10:18:59.011Z"
   },
   {
    "duration": 1089,
    "start_time": "2023-04-24T11:08:52.624Z"
   },
   {
    "duration": 43,
    "start_time": "2023-04-24T11:08:53.716Z"
   },
   {
    "duration": 22,
    "start_time": "2023-04-24T11:08:53.761Z"
   },
   {
    "duration": 17,
    "start_time": "2023-04-24T11:08:53.784Z"
   },
   {
    "duration": 5,
    "start_time": "2023-04-24T11:08:53.807Z"
   },
   {
    "duration": 17,
    "start_time": "2023-04-24T11:08:53.814Z"
   },
   {
    "duration": 21,
    "start_time": "2023-04-24T11:08:53.832Z"
   },
   {
    "duration": 59,
    "start_time": "2023-04-24T11:08:53.854Z"
   },
   {
    "duration": 58,
    "start_time": "2023-04-24T11:08:53.915Z"
   },
   {
    "duration": 6,
    "start_time": "2023-04-24T11:08:53.975Z"
   },
   {
    "duration": 20,
    "start_time": "2023-04-24T11:08:53.983Z"
   },
   {
    "duration": 14,
    "start_time": "2023-04-24T11:08:54.009Z"
   },
   {
    "duration": 8,
    "start_time": "2023-04-24T11:08:54.024Z"
   },
   {
    "duration": 7,
    "start_time": "2023-04-24T11:08:54.035Z"
   },
   {
    "duration": 137,
    "start_time": "2023-04-24T11:08:54.043Z"
   },
   {
    "duration": 0,
    "start_time": "2023-04-24T11:08:54.182Z"
   },
   {
    "duration": 15,
    "start_time": "2023-04-24T11:10:37.625Z"
   },
   {
    "duration": 10,
    "start_time": "2023-04-24T11:12:07.153Z"
   },
   {
    "duration": 11,
    "start_time": "2023-04-24T11:12:18.728Z"
   },
   {
    "duration": 5,
    "start_time": "2023-04-24T11:17:34.366Z"
   },
   {
    "duration": 17,
    "start_time": "2023-04-24T11:17:34.890Z"
   },
   {
    "duration": 5,
    "start_time": "2023-04-24T11:18:05.026Z"
   },
   {
    "duration": 9,
    "start_time": "2023-04-24T11:18:56.300Z"
   },
   {
    "duration": 4,
    "start_time": "2023-04-24T11:19:11.862Z"
   },
   {
    "duration": 5,
    "start_time": "2023-04-24T11:20:03.319Z"
   },
   {
    "duration": 22,
    "start_time": "2023-04-24T11:20:15.700Z"
   },
   {
    "duration": 3,
    "start_time": "2023-04-24T11:21:31.821Z"
   },
   {
    "duration": 298,
    "start_time": "2023-04-24T11:21:36.589Z"
   },
   {
    "duration": 293,
    "start_time": "2023-04-24T11:22:04.068Z"
   },
   {
    "duration": 290,
    "start_time": "2023-04-24T11:22:09.189Z"
   },
   {
    "duration": 293,
    "start_time": "2023-04-24T11:22:49.624Z"
   },
   {
    "duration": 302,
    "start_time": "2023-04-24T11:23:08.723Z"
   },
   {
    "duration": 31,
    "start_time": "2023-04-24T12:03:09.445Z"
   },
   {
    "duration": 27,
    "start_time": "2023-04-24T12:05:17.751Z"
   },
   {
    "duration": 9,
    "start_time": "2023-04-24T12:14:56.514Z"
   },
   {
    "duration": 12,
    "start_time": "2023-04-24T12:15:53.463Z"
   },
   {
    "duration": 52,
    "start_time": "2023-04-24T12:17:20.443Z"
   },
   {
    "duration": 18,
    "start_time": "2023-04-24T12:17:24.009Z"
   },
   {
    "duration": 4,
    "start_time": "2023-04-24T12:17:34.859Z"
   },
   {
    "duration": 12,
    "start_time": "2023-04-24T12:17:42.319Z"
   },
   {
    "duration": 63,
    "start_time": "2023-04-24T12:18:43.993Z"
   },
   {
    "duration": 57,
    "start_time": "2023-04-24T12:18:51.020Z"
   },
   {
    "duration": 11,
    "start_time": "2023-04-24T12:18:56.776Z"
   },
   {
    "duration": 50,
    "start_time": "2023-04-24T17:33:38.610Z"
   },
   {
    "duration": 1137,
    "start_time": "2023-04-24T17:33:50.139Z"
   },
   {
    "duration": 82,
    "start_time": "2023-04-24T17:33:51.279Z"
   },
   {
    "duration": 26,
    "start_time": "2023-04-24T17:33:51.363Z"
   },
   {
    "duration": 40,
    "start_time": "2023-04-24T17:33:51.391Z"
   },
   {
    "duration": 21,
    "start_time": "2023-04-24T17:33:51.433Z"
   },
   {
    "duration": 29,
    "start_time": "2023-04-24T17:33:51.456Z"
   },
   {
    "duration": 37,
    "start_time": "2023-04-24T17:33:51.487Z"
   },
   {
    "duration": 57,
    "start_time": "2023-04-24T17:33:51.526Z"
   },
   {
    "duration": 77,
    "start_time": "2023-04-24T17:33:51.585Z"
   },
   {
    "duration": 6,
    "start_time": "2023-04-24T17:33:51.664Z"
   },
   {
    "duration": 32,
    "start_time": "2023-04-24T17:33:51.671Z"
   },
   {
    "duration": 28,
    "start_time": "2023-04-24T17:33:51.704Z"
   },
   {
    "duration": 28,
    "start_time": "2023-04-24T17:33:51.733Z"
   },
   {
    "duration": 24,
    "start_time": "2023-04-24T17:33:51.764Z"
   },
   {
    "duration": 22,
    "start_time": "2023-04-24T17:33:51.790Z"
   },
   {
    "duration": 12,
    "start_time": "2023-04-24T17:33:51.814Z"
   },
   {
    "duration": 354,
    "start_time": "2023-04-24T17:33:51.828Z"
   },
   {
    "duration": 41,
    "start_time": "2023-04-24T17:33:52.184Z"
   },
   {
    "duration": 10,
    "start_time": "2023-04-24T17:33:52.228Z"
   },
   {
    "duration": 1499,
    "start_time": "2023-04-24T17:33:52.240Z"
   },
   {
    "duration": 582,
    "start_time": "2023-04-24T17:34:07.381Z"
   },
   {
    "duration": 5,
    "start_time": "2023-04-24T18:25:07.097Z"
   },
   {
    "duration": 309,
    "start_time": "2023-04-24T18:25:48.446Z"
   },
   {
    "duration": 296,
    "start_time": "2023-04-24T18:42:04.525Z"
   },
   {
    "duration": 291,
    "start_time": "2023-04-24T19:02:28.978Z"
   },
   {
    "duration": 21,
    "start_time": "2023-04-24T19:02:46.650Z"
   },
   {
    "duration": 90,
    "start_time": "2023-04-24T19:04:54.305Z"
   },
   {
    "duration": 12,
    "start_time": "2023-04-24T19:05:14.590Z"
   },
   {
    "duration": 7491,
    "start_time": "2023-04-24T19:05:25.899Z"
   },
   {
    "duration": 75639,
    "start_time": "2023-04-24T19:06:29.069Z"
   },
   {
    "duration": 11,
    "start_time": "2023-04-24T19:09:00.190Z"
   },
   {
    "duration": 74218,
    "start_time": "2023-04-24T19:09:06.443Z"
   },
   {
    "duration": 74214,
    "start_time": "2023-04-24T19:11:40.552Z"
   },
   {
    "duration": 512,
    "start_time": "2023-04-24T19:16:25.357Z"
   },
   {
    "duration": 557,
    "start_time": "2023-04-24T19:16:37.000Z"
   },
   {
    "duration": 68,
    "start_time": "2023-04-25T04:47:52.977Z"
   },
   {
    "duration": 1029,
    "start_time": "2023-04-25T04:49:22.409Z"
   },
   {
    "duration": 182,
    "start_time": "2023-04-25T04:49:23.441Z"
   },
   {
    "duration": 28,
    "start_time": "2023-04-25T04:49:23.625Z"
   },
   {
    "duration": 15,
    "start_time": "2023-04-25T04:49:23.655Z"
   },
   {
    "duration": 8,
    "start_time": "2023-04-25T04:49:23.673Z"
   },
   {
    "duration": 16,
    "start_time": "2023-04-25T04:49:23.683Z"
   },
   {
    "duration": 21,
    "start_time": "2023-04-25T04:49:23.701Z"
   },
   {
    "duration": 44,
    "start_time": "2023-04-25T04:49:23.723Z"
   },
   {
    "duration": 64,
    "start_time": "2023-04-25T04:49:23.769Z"
   },
   {
    "duration": 6,
    "start_time": "2023-04-25T04:49:23.835Z"
   },
   {
    "duration": 7,
    "start_time": "2023-04-25T04:49:23.842Z"
   },
   {
    "duration": 17,
    "start_time": "2023-04-25T04:49:23.850Z"
   },
   {
    "duration": 30,
    "start_time": "2023-04-25T04:49:23.869Z"
   },
   {
    "duration": 9,
    "start_time": "2023-04-25T04:49:23.903Z"
   },
   {
    "duration": 11,
    "start_time": "2023-04-25T04:49:23.914Z"
   },
   {
    "duration": 13,
    "start_time": "2023-04-25T04:49:23.927Z"
   },
   {
    "duration": 294,
    "start_time": "2023-04-25T04:49:23.942Z"
   },
   {
    "duration": 27,
    "start_time": "2023-04-25T04:49:24.237Z"
   },
   {
    "duration": 4,
    "start_time": "2023-04-25T04:49:24.266Z"
   },
   {
    "duration": 27,
    "start_time": "2023-04-25T04:49:24.272Z"
   },
   {
    "duration": 63102,
    "start_time": "2023-04-25T04:49:24.300Z"
   },
   {
    "duration": 590,
    "start_time": "2023-04-25T04:50:27.404Z"
   },
   {
    "duration": 4,
    "start_time": "2023-04-25T04:50:27.996Z"
   },
   {
    "duration": 458,
    "start_time": "2023-04-25T04:50:28.002Z"
   },
   {
    "duration": 5,
    "start_time": "2023-04-25T04:50:51.931Z"
   },
   {
    "duration": 6,
    "start_time": "2023-04-25T05:01:29.264Z"
   },
   {
    "duration": 6,
    "start_time": "2023-04-25T05:02:02.222Z"
   },
   {
    "duration": 9,
    "start_time": "2023-04-25T05:02:48.695Z"
   },
   {
    "duration": 5,
    "start_time": "2023-04-25T05:21:08.928Z"
   },
   {
    "duration": 12001,
    "start_time": "2023-04-25T05:22:35.693Z"
   },
   {
    "duration": 10860,
    "start_time": "2023-04-25T05:26:29.139Z"
   },
   {
    "duration": 11588,
    "start_time": "2023-04-25T05:29:01.914Z"
   },
   {
    "duration": 17235,
    "start_time": "2023-04-25T05:30:09.067Z"
   },
   {
    "duration": 5,
    "start_time": "2023-04-25T05:56:49.568Z"
   },
   {
    "duration": 12574,
    "start_time": "2023-04-25T05:57:02.721Z"
   },
   {
    "duration": 8659,
    "start_time": "2023-04-25T05:57:38.236Z"
   },
   {
    "duration": 2,
    "start_time": "2023-04-25T05:59:42.320Z"
   },
   {
    "duration": 796,
    "start_time": "2023-04-25T06:02:42.999Z"
   },
   {
    "duration": 3,
    "start_time": "2023-04-25T06:04:16.239Z"
   },
   {
    "duration": 4,
    "start_time": "2023-04-25T06:04:59.370Z"
   },
   {
    "duration": 773,
    "start_time": "2023-04-25T06:05:12.726Z"
   },
   {
    "duration": 4,
    "start_time": "2023-04-25T06:05:23.946Z"
   },
   {
    "duration": 715,
    "start_time": "2023-04-25T06:05:33.479Z"
   },
   {
    "duration": 4,
    "start_time": "2023-04-25T06:05:36.410Z"
   },
   {
    "duration": 947,
    "start_time": "2023-04-25T06:06:04.548Z"
   },
   {
    "duration": 3,
    "start_time": "2023-04-25T06:06:12.702Z"
   },
   {
    "duration": 9724,
    "start_time": "2023-04-25T06:06:19.478Z"
   },
   {
    "duration": 1096,
    "start_time": "2023-04-25T06:06:29.297Z"
   },
   {
    "duration": 4,
    "start_time": "2023-04-25T06:06:30.396Z"
   },
   {
    "duration": 7,
    "start_time": "2023-04-25T06:06:38.953Z"
   },
   {
    "duration": 810,
    "start_time": "2023-04-25T06:06:59.690Z"
   },
   {
    "duration": 4,
    "start_time": "2023-04-25T06:07:02.362Z"
   },
   {
    "duration": 11038,
    "start_time": "2023-04-25T06:07:12.262Z"
   },
   {
    "duration": 1090,
    "start_time": "2023-04-25T06:07:23.303Z"
   },
   {
    "duration": 3,
    "start_time": "2023-04-25T06:07:24.396Z"
   },
   {
    "duration": 9407,
    "start_time": "2023-04-25T06:07:31.295Z"
   },
   {
    "duration": 895,
    "start_time": "2023-04-25T06:07:43.211Z"
   },
   {
    "duration": 5,
    "start_time": "2023-04-25T06:07:46.618Z"
   },
   {
    "duration": 10946,
    "start_time": "2023-04-25T06:08:43.153Z"
   },
   {
    "duration": 1201,
    "start_time": "2023-04-26T04:32:25.349Z"
   },
   {
    "duration": 103,
    "start_time": "2023-04-26T04:32:26.552Z"
   },
   {
    "duration": 24,
    "start_time": "2023-04-26T04:32:26.657Z"
   },
   {
    "duration": 14,
    "start_time": "2023-04-26T04:32:26.683Z"
   },
   {
    "duration": 5,
    "start_time": "2023-04-26T04:32:26.699Z"
   },
   {
    "duration": 9,
    "start_time": "2023-04-26T04:32:26.705Z"
   },
   {
    "duration": 21,
    "start_time": "2023-04-26T04:32:26.716Z"
   },
   {
    "duration": 44,
    "start_time": "2023-04-26T04:32:26.739Z"
   },
   {
    "duration": 67,
    "start_time": "2023-04-26T04:32:26.785Z"
   },
   {
    "duration": 7,
    "start_time": "2023-04-26T04:32:26.855Z"
   },
   {
    "duration": 10,
    "start_time": "2023-04-26T04:32:26.864Z"
   },
   {
    "duration": 23,
    "start_time": "2023-04-26T04:32:26.876Z"
   },
   {
    "duration": 18,
    "start_time": "2023-04-26T04:32:26.901Z"
   },
   {
    "duration": 19,
    "start_time": "2023-04-26T04:32:26.920Z"
   },
   {
    "duration": 13,
    "start_time": "2023-04-26T04:32:26.940Z"
   },
   {
    "duration": 9,
    "start_time": "2023-04-26T04:32:26.954Z"
   },
   {
    "duration": 256,
    "start_time": "2023-04-26T04:32:26.965Z"
   },
   {
    "duration": 28,
    "start_time": "2023-04-26T04:32:27.222Z"
   },
   {
    "duration": 4,
    "start_time": "2023-04-26T04:32:27.252Z"
   },
   {
    "duration": 13,
    "start_time": "2023-04-26T04:32:27.257Z"
   },
   {
    "duration": 67943,
    "start_time": "2023-04-26T04:32:27.271Z"
   },
   {
    "duration": 535,
    "start_time": "2023-04-26T04:33:35.216Z"
   },
   {
    "duration": 3,
    "start_time": "2023-04-26T04:33:35.753Z"
   },
   {
    "duration": 29,
    "start_time": "2023-04-26T04:33:35.758Z"
   },
   {
    "duration": 17552,
    "start_time": "2023-04-26T04:33:35.788Z"
   },
   {
    "duration": 1494,
    "start_time": "2023-04-26T04:33:53.342Z"
   },
   {
    "duration": 96,
    "start_time": "2023-04-26T04:33:54.839Z"
   },
   {
    "duration": 193,
    "start_time": "2023-04-26T04:33:54.939Z"
   },
   {
    "duration": 0,
    "start_time": "2023-04-26T04:33:55.133Z"
   },
   {
    "duration": 1771,
    "start_time": "2023-04-26T04:34:14.565Z"
   },
   {
    "duration": 5,
    "start_time": "2023-04-26T04:34:17.913Z"
   },
   {
    "duration": 5,
    "start_time": "2023-04-26T04:34:29.677Z"
   },
   {
    "duration": 5,
    "start_time": "2023-04-26T04:36:28.809Z"
   },
   {
    "duration": 11,
    "start_time": "2023-04-26T04:58:50.273Z"
   },
   {
    "duration": 54,
    "start_time": "2023-04-26T09:59:12.000Z"
   },
   {
    "duration": 1110,
    "start_time": "2023-04-26T10:00:24.997Z"
   },
   {
    "duration": 69,
    "start_time": "2023-04-26T10:00:32.971Z"
   },
   {
    "duration": 1213,
    "start_time": "2023-04-26T10:01:12.233Z"
   },
   {
    "duration": 91,
    "start_time": "2023-04-26T10:01:13.448Z"
   },
   {
    "duration": 27,
    "start_time": "2023-04-26T10:01:13.541Z"
   },
   {
    "duration": 15,
    "start_time": "2023-04-26T10:01:13.569Z"
   },
   {
    "duration": 20,
    "start_time": "2023-04-26T10:01:13.585Z"
   },
   {
    "duration": 20,
    "start_time": "2023-04-26T10:01:13.606Z"
   },
   {
    "duration": 43,
    "start_time": "2023-04-26T10:01:13.627Z"
   },
   {
    "duration": 44,
    "start_time": "2023-04-26T10:01:13.672Z"
   },
   {
    "duration": 62,
    "start_time": "2023-04-26T10:01:13.717Z"
   },
   {
    "duration": 6,
    "start_time": "2023-04-26T10:01:13.780Z"
   },
   {
    "duration": 28,
    "start_time": "2023-04-26T10:01:13.788Z"
   },
   {
    "duration": 46,
    "start_time": "2023-04-26T10:01:13.817Z"
   },
   {
    "duration": 19,
    "start_time": "2023-04-26T10:01:13.865Z"
   },
   {
    "duration": 13,
    "start_time": "2023-04-26T10:01:13.887Z"
   },
   {
    "duration": 19,
    "start_time": "2023-04-26T10:01:13.902Z"
   },
   {
    "duration": 18,
    "start_time": "2023-04-26T10:01:13.923Z"
   },
   {
    "duration": 339,
    "start_time": "2023-04-26T10:01:13.943Z"
   },
   {
    "duration": 30,
    "start_time": "2023-04-26T10:01:14.283Z"
   },
   {
    "duration": 4,
    "start_time": "2023-04-26T10:01:14.314Z"
   },
   {
    "duration": 11,
    "start_time": "2023-04-26T10:01:14.319Z"
   },
   {
    "duration": 7,
    "start_time": "2023-04-26T10:01:14.360Z"
   },
   {
    "duration": 77435,
    "start_time": "2023-04-26T10:01:14.368Z"
   },
   {
    "duration": 586,
    "start_time": "2023-04-26T10:02:31.805Z"
   },
   {
    "duration": 4,
    "start_time": "2023-04-26T10:02:32.393Z"
   },
   {
    "duration": 22,
    "start_time": "2023-04-26T10:02:32.398Z"
   },
   {
    "duration": 34333,
    "start_time": "2023-04-26T10:02:32.422Z"
   },
   {
    "duration": 3392,
    "start_time": "2023-04-26T10:03:06.763Z"
   },
   {
    "duration": 97,
    "start_time": "2023-04-26T10:03:10.161Z"
   },
   {
    "duration": 14,
    "start_time": "2023-04-26T10:03:10.263Z"
   },
   {
    "duration": 564,
    "start_time": "2023-04-26T10:03:10.278Z"
   },
   {
    "duration": 6,
    "start_time": "2023-04-26T10:03:10.858Z"
   },
   {
    "duration": 78878,
    "start_time": "2023-04-26T10:03:10.867Z"
   },
   {
    "duration": 612,
    "start_time": "2023-04-26T10:04:29.747Z"
   },
   {
    "duration": 5,
    "start_time": "2023-04-26T10:04:30.362Z"
   },
   {
    "duration": 25,
    "start_time": "2023-04-26T10:04:30.368Z"
   },
   {
    "duration": 128,
    "start_time": "2023-04-26T10:08:11.135Z"
   },
   {
    "duration": 6,
    "start_time": "2023-04-26T10:09:04.464Z"
   },
   {
    "duration": 5,
    "start_time": "2023-04-26T10:10:44.211Z"
   },
   {
    "duration": 152,
    "start_time": "2023-04-26T11:04:44.422Z"
   },
   {
    "duration": 344,
    "start_time": "2023-04-26T11:04:56.019Z"
   },
   {
    "duration": 25,
    "start_time": "2023-04-26T11:19:36.441Z"
   },
   {
    "duration": 53,
    "start_time": "2023-04-26T14:56:23.227Z"
   },
   {
    "duration": 1153,
    "start_time": "2023-04-26T14:56:40.929Z"
   },
   {
    "duration": 191,
    "start_time": "2023-04-26T14:56:42.083Z"
   },
   {
    "duration": 23,
    "start_time": "2023-04-26T14:56:42.275Z"
   },
   {
    "duration": 15,
    "start_time": "2023-04-26T14:56:42.300Z"
   },
   {
    "duration": 5,
    "start_time": "2023-04-26T14:56:42.317Z"
   },
   {
    "duration": 6,
    "start_time": "2023-04-26T14:56:42.324Z"
   },
   {
    "duration": 21,
    "start_time": "2023-04-26T14:56:42.332Z"
   },
   {
    "duration": 85,
    "start_time": "2023-04-26T14:56:42.355Z"
   },
   {
    "duration": 78,
    "start_time": "2023-04-26T14:56:42.441Z"
   },
   {
    "duration": 7,
    "start_time": "2023-04-26T14:56:42.522Z"
   },
   {
    "duration": 11,
    "start_time": "2023-04-26T14:56:42.531Z"
   },
   {
    "duration": 14,
    "start_time": "2023-04-26T14:56:42.544Z"
   },
   {
    "duration": 32,
    "start_time": "2023-04-26T14:56:42.559Z"
   },
   {
    "duration": 5,
    "start_time": "2023-04-26T14:56:42.593Z"
   },
   {
    "duration": 6,
    "start_time": "2023-04-26T14:56:42.599Z"
   },
   {
    "duration": 7,
    "start_time": "2023-04-26T14:56:42.606Z"
   },
   {
    "duration": 326,
    "start_time": "2023-04-26T14:56:42.614Z"
   },
   {
    "duration": 28,
    "start_time": "2023-04-26T14:56:42.942Z"
   },
   {
    "duration": 4,
    "start_time": "2023-04-26T14:56:42.972Z"
   },
   {
    "duration": 9,
    "start_time": "2023-04-26T14:56:42.990Z"
   },
   {
    "duration": 6,
    "start_time": "2023-04-26T14:56:43.001Z"
   },
   {
    "duration": 81231,
    "start_time": "2023-04-26T14:56:43.009Z"
   },
   {
    "duration": 626,
    "start_time": "2023-04-26T14:58:04.243Z"
   },
   {
    "duration": 6,
    "start_time": "2023-04-26T14:58:04.871Z"
   },
   {
    "duration": 20,
    "start_time": "2023-04-26T14:58:04.879Z"
   },
   {
    "duration": 6,
    "start_time": "2023-04-26T14:58:04.901Z"
   },
   {
    "duration": 12185,
    "start_time": "2023-04-26T14:58:04.909Z"
   },
   {
    "duration": 1400,
    "start_time": "2023-04-26T14:58:17.099Z"
   },
   {
    "duration": 97,
    "start_time": "2023-04-26T14:58:18.500Z"
   },
   {
    "duration": 96,
    "start_time": "2023-04-26T14:58:18.602Z"
   },
   {
    "duration": 11,
    "start_time": "2023-04-26T14:58:18.700Z"
   },
   {
    "duration": 618,
    "start_time": "2023-04-26T14:58:18.713Z"
   },
   {
    "duration": 336,
    "start_time": "2023-04-26T14:58:19.333Z"
   },
   {
    "duration": 29,
    "start_time": "2023-04-26T14:58:19.671Z"
   },
   {
    "duration": 7,
    "start_time": "2023-04-26T14:58:19.702Z"
   },
   {
    "duration": 47,
    "start_time": "2023-04-26T14:58:19.710Z"
   },
   {
    "duration": 9,
    "start_time": "2023-04-26T15:00:30.958Z"
   },
   {
    "duration": 12,
    "start_time": "2023-04-26T15:01:24.589Z"
   },
   {
    "duration": 118,
    "start_time": "2023-04-26T15:38:24.246Z"
   },
   {
    "duration": 80137,
    "start_time": "2023-04-26T15:38:38.810Z"
   },
   {
    "duration": 88904,
    "start_time": "2023-04-26T15:40:23.282Z"
   },
   {
    "duration": 15,
    "start_time": "2023-04-26T15:50:09.428Z"
   },
   {
    "duration": 11,
    "start_time": "2023-04-26T15:50:20.524Z"
   },
   {
    "duration": 14,
    "start_time": "2023-04-26T15:51:14.985Z"
   },
   {
    "duration": 3,
    "start_time": "2023-04-26T15:51:48.968Z"
   },
   {
    "duration": 5,
    "start_time": "2023-04-26T15:52:01.638Z"
   },
   {
    "duration": 11,
    "start_time": "2023-04-26T15:52:33.973Z"
   },
   {
    "duration": 1373,
    "start_time": "2023-04-26T15:52:39.441Z"
   },
   {
    "duration": 1271,
    "start_time": "2023-04-26T15:53:57.952Z"
   },
   {
    "duration": 1288,
    "start_time": "2023-04-26T15:54:22.067Z"
   },
   {
    "duration": 47,
    "start_time": "2023-04-26T15:54:54.775Z"
   },
   {
    "duration": 6,
    "start_time": "2023-04-26T15:56:18.513Z"
   },
   {
    "duration": 8,
    "start_time": "2023-04-26T15:56:58.368Z"
   },
   {
    "duration": 10,
    "start_time": "2023-04-26T15:57:39.634Z"
   },
   {
    "duration": 12,
    "start_time": "2023-04-26T17:24:28.397Z"
   },
   {
    "duration": 11,
    "start_time": "2023-04-26T17:26:44.872Z"
   },
   {
    "duration": 1402,
    "start_time": "2023-04-26T17:27:07.297Z"
   },
   {
    "duration": 44,
    "start_time": "2023-04-26T17:27:08.702Z"
   },
   {
    "duration": 21,
    "start_time": "2023-04-26T17:27:08.748Z"
   },
   {
    "duration": 15,
    "start_time": "2023-04-26T17:27:08.771Z"
   },
   {
    "duration": 12,
    "start_time": "2023-04-26T17:27:08.789Z"
   },
   {
    "duration": 7,
    "start_time": "2023-04-26T17:27:08.802Z"
   },
   {
    "duration": 24,
    "start_time": "2023-04-26T17:27:08.811Z"
   },
   {
    "duration": 76,
    "start_time": "2023-04-26T17:27:08.838Z"
   },
   {
    "duration": 77,
    "start_time": "2023-04-26T17:27:08.916Z"
   },
   {
    "duration": 8,
    "start_time": "2023-04-26T17:27:08.996Z"
   },
   {
    "duration": 14,
    "start_time": "2023-04-26T17:27:09.006Z"
   },
   {
    "duration": 15,
    "start_time": "2023-04-26T17:27:09.022Z"
   },
   {
    "duration": 7,
    "start_time": "2023-04-26T17:27:09.039Z"
   },
   {
    "duration": 39,
    "start_time": "2023-04-26T17:27:09.050Z"
   },
   {
    "duration": 7,
    "start_time": "2023-04-26T17:27:09.092Z"
   },
   {
    "duration": 6,
    "start_time": "2023-04-26T17:27:09.101Z"
   },
   {
    "duration": 316,
    "start_time": "2023-04-26T17:27:09.109Z"
   },
   {
    "duration": 28,
    "start_time": "2023-04-26T17:27:09.427Z"
   },
   {
    "duration": 4,
    "start_time": "2023-04-26T17:27:09.457Z"
   },
   {
    "duration": 31,
    "start_time": "2023-04-26T17:27:09.463Z"
   },
   {
    "duration": 6,
    "start_time": "2023-04-26T17:27:09.496Z"
   },
   {
    "duration": 78502,
    "start_time": "2023-04-26T17:27:09.504Z"
   },
   {
    "duration": 566,
    "start_time": "2023-04-26T17:28:28.008Z"
   },
   {
    "duration": 4,
    "start_time": "2023-04-26T17:28:28.576Z"
   },
   {
    "duration": 10,
    "start_time": "2023-04-26T17:28:28.590Z"
   },
   {
    "duration": 7,
    "start_time": "2023-04-26T17:28:28.602Z"
   },
   {
    "duration": 11885,
    "start_time": "2023-04-26T17:28:28.610Z"
   },
   {
    "duration": 1497,
    "start_time": "2023-04-26T17:28:40.497Z"
   },
   {
    "duration": 9,
    "start_time": "2023-04-26T17:28:42.089Z"
   },
   {
    "duration": 10,
    "start_time": "2023-04-26T17:28:42.189Z"
   },
   {
    "duration": 5,
    "start_time": "2023-04-26T17:28:42.201Z"
   },
   {
    "duration": 335,
    "start_time": "2023-04-26T17:28:42.208Z"
   },
   {
    "duration": 323,
    "start_time": "2023-04-26T17:28:42.544Z"
   },
   {
    "duration": 25,
    "start_time": "2023-04-26T17:28:42.869Z"
   },
   {
    "duration": 10,
    "start_time": "2023-04-26T17:28:42.896Z"
   },
   {
    "duration": 88269,
    "start_time": "2023-04-26T17:28:42.908Z"
   },
   {
    "duration": 1281,
    "start_time": "2023-04-26T17:30:11.180Z"
   },
   {
    "duration": 9,
    "start_time": "2023-04-26T17:30:12.462Z"
   },
   {
    "duration": 135,
    "start_time": "2023-04-26T17:30:12.473Z"
   },
   {
    "duration": 0,
    "start_time": "2023-04-26T17:30:12.610Z"
   },
   {
    "duration": 16,
    "start_time": "2023-04-26T17:31:15.000Z"
   },
   {
    "duration": 13,
    "start_time": "2023-04-26T17:31:33.114Z"
   },
   {
    "duration": 801,
    "start_time": "2023-04-26T17:32:24.595Z"
   },
   {
    "duration": 1407,
    "start_time": "2023-04-26T17:33:33.084Z"
   },
   {
    "duration": 14,
    "start_time": "2023-04-26T17:35:24.678Z"
   },
   {
    "duration": 32,
    "start_time": "2023-04-26T18:06:40.392Z"
   },
   {
    "duration": 10,
    "start_time": "2023-04-26T18:06:46.626Z"
   },
   {
    "duration": 7,
    "start_time": "2023-04-26T18:15:11.767Z"
   },
   {
    "duration": 17,
    "start_time": "2023-04-26T18:17:38.187Z"
   },
   {
    "duration": 5,
    "start_time": "2023-04-26T18:19:02.163Z"
   },
   {
    "duration": 15,
    "start_time": "2023-04-26T18:19:15.035Z"
   },
   {
    "duration": 49,
    "start_time": "2023-04-26T18:19:40.362Z"
   },
   {
    "duration": 5,
    "start_time": "2023-04-26T18:20:21.154Z"
   },
   {
    "duration": 17,
    "start_time": "2023-04-26T18:20:28.926Z"
   },
   {
    "duration": 8,
    "start_time": "2023-04-26T18:22:46.707Z"
   },
   {
    "duration": 60,
    "start_time": "2023-04-26T18:22:49.833Z"
   },
   {
    "duration": 13,
    "start_time": "2023-04-26T18:23:07.909Z"
   },
   {
    "duration": 4,
    "start_time": "2023-04-26T18:24:05.323Z"
   },
   {
    "duration": 127,
    "start_time": "2023-04-26T18:24:27.536Z"
   },
   {
    "duration": 170,
    "start_time": "2023-04-26T18:25:28.924Z"
   },
   {
    "duration": 176,
    "start_time": "2023-04-26T18:26:25.482Z"
   },
   {
    "duration": 133,
    "start_time": "2023-04-26T18:27:06.758Z"
   },
   {
    "duration": 144,
    "start_time": "2023-04-26T18:28:11.177Z"
   },
   {
    "duration": 8,
    "start_time": "2023-04-26T18:29:43.936Z"
   },
   {
    "duration": 13,
    "start_time": "2023-04-26T18:29:45.711Z"
   },
   {
    "duration": 11,
    "start_time": "2023-04-26T18:29:51.358Z"
   },
   {
    "duration": 11,
    "start_time": "2023-04-26T18:29:52.147Z"
   },
   {
    "duration": 151,
    "start_time": "2023-04-26T18:29:54.174Z"
   },
   {
    "duration": 1494,
    "start_time": "2023-04-27T03:19:48.746Z"
   },
   {
    "duration": 106,
    "start_time": "2023-04-27T03:19:50.242Z"
   },
   {
    "duration": 18,
    "start_time": "2023-04-27T03:19:50.349Z"
   },
   {
    "duration": 20,
    "start_time": "2023-04-27T03:19:50.369Z"
   },
   {
    "duration": 13,
    "start_time": "2023-04-27T03:19:50.390Z"
   },
   {
    "duration": 8,
    "start_time": "2023-04-27T03:19:50.404Z"
   },
   {
    "duration": 32,
    "start_time": "2023-04-27T03:19:50.413Z"
   },
   {
    "duration": 48,
    "start_time": "2023-04-27T03:19:50.447Z"
   },
   {
    "duration": 50,
    "start_time": "2023-04-27T03:19:50.497Z"
   },
   {
    "duration": 6,
    "start_time": "2023-04-27T03:19:50.549Z"
   },
   {
    "duration": 27,
    "start_time": "2023-04-27T03:19:50.556Z"
   },
   {
    "duration": 12,
    "start_time": "2023-04-27T03:19:50.585Z"
   },
   {
    "duration": 12,
    "start_time": "2023-04-27T03:19:50.598Z"
   },
   {
    "duration": 12,
    "start_time": "2023-04-27T03:19:50.611Z"
   },
   {
    "duration": 18,
    "start_time": "2023-04-27T03:19:50.625Z"
   },
   {
    "duration": 17,
    "start_time": "2023-04-27T03:19:50.645Z"
   },
   {
    "duration": 342,
    "start_time": "2023-04-27T03:19:50.663Z"
   },
   {
    "duration": 27,
    "start_time": "2023-04-27T03:19:51.007Z"
   },
   {
    "duration": 10,
    "start_time": "2023-04-27T03:19:51.035Z"
   },
   {
    "duration": 52,
    "start_time": "2023-04-27T03:19:51.046Z"
   },
   {
    "duration": 34,
    "start_time": "2023-04-27T03:19:51.100Z"
   },
   {
    "duration": 76995,
    "start_time": "2023-04-27T03:19:51.135Z"
   },
   {
    "duration": 550,
    "start_time": "2023-04-27T03:21:08.132Z"
   },
   {
    "duration": 4,
    "start_time": "2023-04-27T03:21:08.684Z"
   },
   {
    "duration": 27,
    "start_time": "2023-04-27T03:21:08.690Z"
   },
   {
    "duration": 5,
    "start_time": "2023-04-27T03:21:08.719Z"
   },
   {
    "duration": 30463,
    "start_time": "2023-04-27T03:21:08.726Z"
   },
   {
    "duration": 1588,
    "start_time": "2023-04-27T03:21:39.193Z"
   },
   {
    "duration": 91,
    "start_time": "2023-04-27T03:21:40.795Z"
   },
   {
    "duration": 11,
    "start_time": "2023-04-27T03:21:40.890Z"
   },
   {
    "duration": 9,
    "start_time": "2023-04-27T03:21:40.902Z"
   },
   {
    "duration": 156,
    "start_time": "2023-04-27T03:21:40.913Z"
   },
   {
    "duration": 347,
    "start_time": "2023-04-27T03:21:41.070Z"
   },
   {
    "duration": 22,
    "start_time": "2023-04-27T03:21:41.419Z"
   },
   {
    "duration": 9,
    "start_time": "2023-04-27T03:21:41.443Z"
   },
   {
    "duration": 90149,
    "start_time": "2023-04-27T03:21:41.454Z"
   },
   {
    "duration": 1347,
    "start_time": "2023-04-27T03:23:11.604Z"
   },
   {
    "duration": 8,
    "start_time": "2023-04-27T03:23:12.953Z"
   },
   {
    "duration": 48,
    "start_time": "2023-04-27T03:23:12.963Z"
   },
   {
    "duration": 91,
    "start_time": "2023-04-27T03:23:13.090Z"
   },
   {
    "duration": 145,
    "start_time": "2023-04-27T03:23:13.190Z"
   },
   {
    "duration": 0,
    "start_time": "2023-04-27T03:23:13.337Z"
   },
   {
    "duration": 0,
    "start_time": "2023-04-27T03:23:13.338Z"
   },
   {
    "duration": 13,
    "start_time": "2023-04-27T03:24:16.631Z"
   },
   {
    "duration": 6,
    "start_time": "2023-04-27T03:24:18.460Z"
   },
   {
    "duration": 127,
    "start_time": "2023-04-27T03:24:22.117Z"
   },
   {
    "duration": 6,
    "start_time": "2023-04-27T03:26:06.026Z"
   },
   {
    "duration": 6,
    "start_time": "2023-04-27T03:26:06.691Z"
   },
   {
    "duration": 115,
    "start_time": "2023-04-27T03:26:49.230Z"
   },
   {
    "duration": 30,
    "start_time": "2023-04-27T03:29:27.467Z"
   },
   {
    "duration": 87,
    "start_time": "2023-04-27T03:29:43.235Z"
   },
   {
    "duration": 8,
    "start_time": "2023-04-27T03:29:44.092Z"
   },
   {
    "duration": 120,
    "start_time": "2023-04-27T03:30:34.803Z"
   },
   {
    "duration": 122,
    "start_time": "2023-04-27T03:31:19.222Z"
   },
   {
    "duration": 11,
    "start_time": "2023-04-27T03:31:31.223Z"
   },
   {
    "duration": 7,
    "start_time": "2023-04-27T03:31:31.824Z"
   },
   {
    "duration": 121,
    "start_time": "2023-04-27T03:31:34.707Z"
   },
   {
    "duration": 3,
    "start_time": "2023-04-27T04:21:53.716Z"
   },
   {
    "duration": 3,
    "start_time": "2023-04-27T04:27:12.806Z"
   },
   {
    "duration": 6,
    "start_time": "2023-04-27T04:28:53.104Z"
   },
   {
    "duration": 5,
    "start_time": "2023-04-27T04:29:43.687Z"
   },
   {
    "duration": 23,
    "start_time": "2023-04-27T05:13:30.160Z"
   },
   {
    "duration": 4,
    "start_time": "2023-04-27T05:15:16.620Z"
   },
   {
    "duration": 12,
    "start_time": "2023-04-27T05:15:26.399Z"
   },
   {
    "duration": 11,
    "start_time": "2023-04-27T05:17:09.242Z"
   },
   {
    "duration": 4,
    "start_time": "2023-04-27T05:17:17.495Z"
   },
   {
    "duration": 134,
    "start_time": "2023-04-27T06:13:31.253Z"
   },
   {
    "duration": 5,
    "start_time": "2023-04-27T06:14:04.592Z"
   },
   {
    "duration": 18,
    "start_time": "2023-04-27T06:15:51.168Z"
   },
   {
    "duration": 75,
    "start_time": "2023-04-27T06:44:31.344Z"
   },
   {
    "duration": 14,
    "start_time": "2023-04-27T06:44:54.895Z"
   },
   {
    "duration": 27,
    "start_time": "2023-04-27T06:45:24.170Z"
   },
   {
    "duration": 16,
    "start_time": "2023-04-27T06:47:45.709Z"
   },
   {
    "duration": 11,
    "start_time": "2023-04-27T06:48:28.455Z"
   },
   {
    "duration": 314,
    "start_time": "2023-04-27T07:32:52.536Z"
   },
   {
    "duration": 293,
    "start_time": "2023-04-27T07:33:05.356Z"
   },
   {
    "duration": 297,
    "start_time": "2023-04-27T07:33:39.455Z"
   },
   {
    "duration": 25,
    "start_time": "2023-04-27T07:38:58.945Z"
   },
   {
    "duration": 307,
    "start_time": "2023-04-27T07:40:32.686Z"
   },
   {
    "duration": 26,
    "start_time": "2023-04-27T07:40:43.047Z"
   },
   {
    "duration": 9,
    "start_time": "2023-04-27T07:40:46.853Z"
   },
   {
    "duration": 9,
    "start_time": "2023-04-27T07:40:55.091Z"
   },
   {
    "duration": 6,
    "start_time": "2023-04-27T07:45:40.288Z"
   },
   {
    "duration": 6,
    "start_time": "2023-04-27T07:45:47.526Z"
   },
   {
    "duration": 5,
    "start_time": "2023-04-27T07:46:15.215Z"
   },
   {
    "duration": 296,
    "start_time": "2023-04-27T07:47:33.787Z"
   },
   {
    "duration": 29,
    "start_time": "2023-04-27T07:47:34.592Z"
   },
   {
    "duration": 8,
    "start_time": "2023-04-27T07:47:35.326Z"
   },
   {
    "duration": 5,
    "start_time": "2023-04-27T07:47:36.034Z"
   },
   {
    "duration": 7,
    "start_time": "2023-04-27T07:47:37.254Z"
   },
   {
    "duration": 11,
    "start_time": "2023-04-27T08:17:33.606Z"
   },
   {
    "duration": 140,
    "start_time": "2023-04-27T08:19:36.969Z"
   },
   {
    "duration": 96101,
    "start_time": "2023-04-27T08:19:53.925Z"
   },
   {
    "duration": 1201,
    "start_time": "2023-04-27T08:24:18.256Z"
   },
   {
    "duration": 12,
    "start_time": "2023-04-27T08:26:09.400Z"
   },
   {
    "duration": 72,
    "start_time": "2023-04-27T08:27:03.614Z"
   },
   {
    "duration": 10,
    "start_time": "2023-04-27T08:28:35.830Z"
   },
   {
    "duration": 69,
    "start_time": "2023-04-27T08:28:42.212Z"
   },
   {
    "duration": 7,
    "start_time": "2023-04-27T08:28:42.930Z"
   },
   {
    "duration": 94,
    "start_time": "2023-04-27T09:45:56.811Z"
   },
   {
    "duration": 4,
    "start_time": "2023-04-27T10:21:47.357Z"
   },
   {
    "duration": 5,
    "start_time": "2023-04-27T10:24:49.492Z"
   },
   {
    "duration": 11,
    "start_time": "2023-04-27T10:28:01.407Z"
   },
   {
    "duration": 19,
    "start_time": "2023-04-27T10:28:08.011Z"
   },
   {
    "duration": 13,
    "start_time": "2023-04-27T10:29:35.012Z"
   },
   {
    "duration": 9,
    "start_time": "2023-04-27T10:31:02.619Z"
   },
   {
    "duration": 4,
    "start_time": "2023-04-27T10:31:35.014Z"
   },
   {
    "duration": 122,
    "start_time": "2023-04-27T10:33:13.678Z"
   },
   {
    "duration": 9,
    "start_time": "2023-04-27T10:35:44.617Z"
   },
   {
    "duration": 12,
    "start_time": "2023-04-27T10:37:13.017Z"
   },
   {
    "duration": 439,
    "start_time": "2023-04-27T11:38:45.865Z"
   },
   {
    "duration": 155,
    "start_time": "2023-04-27T11:44:04.852Z"
   },
   {
    "duration": 136,
    "start_time": "2023-04-27T12:17:02.141Z"
   },
   {
    "duration": 10,
    "start_time": "2023-04-27T12:17:15.365Z"
   },
   {
    "duration": 27,
    "start_time": "2023-04-27T12:17:49.567Z"
   },
   {
    "duration": 360,
    "start_time": "2023-04-27T12:17:58.689Z"
   },
   {
    "duration": 25,
    "start_time": "2023-04-27T12:18:00.842Z"
   },
   {
    "duration": 23,
    "start_time": "2023-04-27T12:18:40.390Z"
   },
   {
    "duration": 8,
    "start_time": "2023-04-27T12:18:45.564Z"
   },
   {
    "duration": 110983,
    "start_time": "2023-04-27T12:20:24.362Z"
   },
   {
    "duration": 1642,
    "start_time": "2023-04-27T12:22:26.825Z"
   },
   {
    "duration": 9,
    "start_time": "2023-04-27T12:22:32.391Z"
   },
   {
    "duration": 68,
    "start_time": "2023-04-27T12:22:41.589Z"
   },
   {
    "duration": 6,
    "start_time": "2023-04-27T12:22:42.657Z"
   },
   {
    "duration": 26,
    "start_time": "2023-04-27T12:22:51.992Z"
   },
   {
    "duration": 8,
    "start_time": "2023-04-27T12:22:54.227Z"
   },
   {
    "duration": 7,
    "start_time": "2023-04-27T12:22:54.830Z"
   },
   {
    "duration": 166,
    "start_time": "2023-04-27T12:23:00.942Z"
   },
   {
    "duration": 12,
    "start_time": "2023-04-27T12:41:00.387Z"
   },
   {
    "duration": 10,
    "start_time": "2023-04-27T12:41:46.711Z"
   },
   {
    "duration": 6,
    "start_time": "2023-04-27T12:42:52.833Z"
   },
   {
    "duration": 4,
    "start_time": "2023-04-27T12:47:44.631Z"
   },
   {
    "duration": 5,
    "start_time": "2023-04-27T12:47:45.851Z"
   },
   {
    "duration": 6,
    "start_time": "2023-04-27T12:48:52.662Z"
   },
   {
    "duration": 5,
    "start_time": "2023-04-27T12:52:47.318Z"
   },
   {
    "duration": 6,
    "start_time": "2023-04-27T12:53:26.106Z"
   },
   {
    "duration": 5,
    "start_time": "2023-04-27T12:53:48.660Z"
   },
   {
    "duration": 5,
    "start_time": "2023-04-27T12:54:14.297Z"
   },
   {
    "duration": 7,
    "start_time": "2023-04-27T12:56:19.823Z"
   },
   {
    "duration": 48685,
    "start_time": "2023-04-27T12:59:02.200Z"
   },
   {
    "duration": 49890,
    "start_time": "2023-04-27T13:10:20.609Z"
   },
   {
    "duration": 47,
    "start_time": "2023-04-28T06:07:48.714Z"
   },
   {
    "duration": 1467,
    "start_time": "2023-04-28T06:08:03.586Z"
   },
   {
    "duration": 90,
    "start_time": "2023-04-28T06:08:05.055Z"
   },
   {
    "duration": 17,
    "start_time": "2023-04-28T06:08:05.147Z"
   },
   {
    "duration": 36,
    "start_time": "2023-04-28T06:08:05.165Z"
   },
   {
    "duration": 5,
    "start_time": "2023-04-28T06:08:05.203Z"
   },
   {
    "duration": 14,
    "start_time": "2023-04-28T06:08:05.209Z"
   },
   {
    "duration": 24,
    "start_time": "2023-04-28T06:08:05.224Z"
   },
   {
    "duration": 57,
    "start_time": "2023-04-28T06:08:05.250Z"
   },
   {
    "duration": 65,
    "start_time": "2023-04-28T06:08:05.309Z"
   },
   {
    "duration": 6,
    "start_time": "2023-04-28T06:08:05.376Z"
   },
   {
    "duration": 18,
    "start_time": "2023-04-28T06:08:05.384Z"
   },
   {
    "duration": 18,
    "start_time": "2023-04-28T06:08:05.403Z"
   },
   {
    "duration": 12,
    "start_time": "2023-04-28T06:08:05.422Z"
   },
   {
    "duration": 20,
    "start_time": "2023-04-28T06:08:05.437Z"
   },
   {
    "duration": 9,
    "start_time": "2023-04-28T06:08:05.458Z"
   },
   {
    "duration": 20,
    "start_time": "2023-04-28T06:08:05.469Z"
   },
   {
    "duration": 311,
    "start_time": "2023-04-28T06:08:05.491Z"
   },
   {
    "duration": 28,
    "start_time": "2023-04-28T06:08:05.804Z"
   },
   {
    "duration": 4,
    "start_time": "2023-04-28T06:08:05.833Z"
   },
   {
    "duration": 12,
    "start_time": "2023-04-28T06:08:05.839Z"
   },
   {
    "duration": 22,
    "start_time": "2023-04-28T06:08:05.853Z"
   },
   {
    "duration": 71883,
    "start_time": "2023-04-28T06:08:05.876Z"
   },
   {
    "duration": 548,
    "start_time": "2023-04-28T06:09:17.761Z"
   },
   {
    "duration": 4,
    "start_time": "2023-04-28T06:09:18.311Z"
   },
   {
    "duration": 15,
    "start_time": "2023-04-28T06:09:18.316Z"
   },
   {
    "duration": 4,
    "start_time": "2023-04-28T06:09:18.332Z"
   },
   {
    "duration": 8242,
    "start_time": "2023-04-28T06:09:18.338Z"
   },
   {
    "duration": 907,
    "start_time": "2023-04-28T06:09:26.672Z"
   },
   {
    "duration": 96,
    "start_time": "2023-04-28T06:09:27.581Z"
   },
   {
    "duration": 100,
    "start_time": "2023-04-28T06:09:27.683Z"
   },
   {
    "duration": 9,
    "start_time": "2023-04-28T06:09:27.784Z"
   },
   {
    "duration": 125,
    "start_time": "2023-04-28T06:09:27.795Z"
   },
   {
    "duration": 298,
    "start_time": "2023-04-28T06:09:27.922Z"
   },
   {
    "duration": 20,
    "start_time": "2023-04-28T06:09:28.221Z"
   },
   {
    "duration": 7,
    "start_time": "2023-04-28T06:09:28.243Z"
   },
   {
    "duration": 21,
    "start_time": "2023-04-28T06:09:28.251Z"
   },
   {
    "duration": 5,
    "start_time": "2023-04-28T06:09:28.274Z"
   },
   {
    "duration": 117,
    "start_time": "2023-04-28T06:09:28.281Z"
   },
   {
    "duration": 78923,
    "start_time": "2023-04-28T06:09:28.399Z"
   },
   {
    "duration": 1143,
    "start_time": "2023-04-28T06:10:47.324Z"
   },
   {
    "duration": 8,
    "start_time": "2023-04-28T06:10:48.474Z"
   },
   {
    "duration": 69,
    "start_time": "2023-04-28T06:10:48.484Z"
   },
   {
    "duration": 18,
    "start_time": "2023-04-28T06:10:48.554Z"
   },
   {
    "duration": 112,
    "start_time": "2023-04-28T06:10:48.573Z"
   },
   {
    "duration": 86,
    "start_time": "2023-04-28T06:10:48.686Z"
   },
   {
    "duration": 10,
    "start_time": "2023-04-28T06:10:48.774Z"
   },
   {
    "duration": 102,
    "start_time": "2023-04-28T06:10:48.785Z"
   },
   {
    "duration": 84,
    "start_time": "2023-04-28T06:10:48.889Z"
   },
   {
    "duration": 197,
    "start_time": "2023-04-28T06:10:48.975Z"
   },
   {
    "duration": 4,
    "start_time": "2023-04-28T06:10:49.173Z"
   },
   {
    "duration": 30,
    "start_time": "2023-04-28T06:10:49.178Z"
   },
   {
    "duration": 55,
    "start_time": "2023-04-28T06:10:49.210Z"
   },
   {
    "duration": 104,
    "start_time": "2023-04-28T06:10:49.267Z"
   },
   {
    "duration": 99,
    "start_time": "2023-04-28T06:10:49.374Z"
   },
   {
    "duration": 97,
    "start_time": "2023-04-28T06:10:49.474Z"
   },
   {
    "duration": 496,
    "start_time": "2023-04-28T06:10:49.576Z"
   },
   {
    "duration": 29,
    "start_time": "2023-04-28T06:10:50.073Z"
   },
   {
    "duration": 117,
    "start_time": "2023-04-28T06:10:50.104Z"
   },
   {
    "duration": 30,
    "start_time": "2023-04-28T06:10:50.223Z"
   },
   {
    "duration": 27,
    "start_time": "2023-04-28T06:10:50.255Z"
   },
   {
    "duration": 109120,
    "start_time": "2023-04-28T06:10:50.284Z"
   },
   {
    "duration": 1584,
    "start_time": "2023-04-28T06:12:39.405Z"
   },
   {
    "duration": 7,
    "start_time": "2023-04-28T06:12:40.991Z"
   },
   {
    "duration": 73,
    "start_time": "2023-04-28T06:12:41.000Z"
   },
   {
    "duration": 6,
    "start_time": "2023-04-28T06:12:41.075Z"
   },
   {
    "duration": 31,
    "start_time": "2023-04-28T06:12:41.083Z"
   },
   {
    "duration": 22,
    "start_time": "2023-04-28T06:12:41.116Z"
   },
   {
    "duration": 3,
    "start_time": "2023-04-28T06:12:41.139Z"
   },
   {
    "duration": 39,
    "start_time": "2023-04-28T06:12:41.143Z"
   },
   {
    "duration": 91,
    "start_time": "2023-04-28T06:12:41.189Z"
   },
   {
    "duration": 92,
    "start_time": "2023-04-28T06:12:41.282Z"
   },
   {
    "duration": 253,
    "start_time": "2023-04-28T06:12:41.375Z"
   },
   {
    "duration": 11,
    "start_time": "2023-04-28T06:12:41.629Z"
   },
   {
    "duration": 7,
    "start_time": "2023-04-28T06:12:41.642Z"
   },
   {
    "duration": 5,
    "start_time": "2023-04-28T06:12:41.650Z"
   },
   {
    "duration": 32,
    "start_time": "2023-04-28T06:12:41.657Z"
   },
   {
    "duration": 101,
    "start_time": "2023-04-28T06:12:41.691Z"
   },
   {
    "duration": 0,
    "start_time": "2023-04-28T06:12:41.794Z"
   },
   {
    "duration": 0,
    "start_time": "2023-04-28T06:12:41.796Z"
   },
   {
    "duration": 0,
    "start_time": "2023-04-28T06:12:41.797Z"
   },
   {
    "duration": 47040,
    "start_time": "2023-04-28T06:16:14.017Z"
   },
   {
    "duration": 1543,
    "start_time": "2023-04-28T06:18:23.935Z"
   },
   {
    "duration": 7,
    "start_time": "2023-04-28T06:19:34.139Z"
   },
   {
    "duration": 66,
    "start_time": "2023-04-28T06:20:28.717Z"
   },
   {
    "duration": 6,
    "start_time": "2023-04-28T06:21:24.023Z"
   },
   {
    "duration": 1799,
    "start_time": "2023-04-28T06:22:20.574Z"
   },
   {
    "duration": 1743,
    "start_time": "2023-04-28T06:29:24.252Z"
   },
   {
    "duration": 1613,
    "start_time": "2023-04-28T06:29:46.462Z"
   },
   {
    "duration": 438,
    "start_time": "2023-04-28T06:30:09.149Z"
   },
   {
    "duration": 25,
    "start_time": "2023-04-28T06:30:34.564Z"
   },
   {
    "duration": 5,
    "start_time": "2023-04-28T06:30:52.806Z"
   },
   {
    "duration": 11,
    "start_time": "2023-04-28T06:30:54.999Z"
   },
   {
    "duration": 1517,
    "start_time": "2023-04-28T07:47:44.332Z"
   },
   {
    "duration": 9,
    "start_time": "2023-04-28T07:47:45.851Z"
   },
   {
    "duration": 103,
    "start_time": "2023-04-28T07:47:45.861Z"
   },
   {
    "duration": 5,
    "start_time": "2023-04-28T07:47:45.989Z"
   },
   {
    "duration": 46963,
    "start_time": "2023-04-28T07:48:13.177Z"
   },
   {
    "duration": 587,
    "start_time": "2023-04-28T07:51:23.351Z"
   },
   {
    "duration": 9,
    "start_time": "2023-04-28T07:51:30.486Z"
   },
   {
    "duration": 61,
    "start_time": "2023-04-28T07:51:33.542Z"
   },
   {
    "duration": 5,
    "start_time": "2023-04-28T07:51:34.383Z"
   },
   {
    "duration": 2,
    "start_time": "2023-04-28T09:06:45.128Z"
   },
   {
    "duration": 1073,
    "start_time": "2023-04-28T09:07:24.536Z"
   },
   {
    "duration": 1073,
    "start_time": "2023-04-28T09:08:53.089Z"
   },
   {
    "duration": 5,
    "start_time": "2023-04-28T09:10:37.959Z"
   },
   {
    "duration": 6,
    "start_time": "2023-04-28T09:11:32.335Z"
   },
   {
    "duration": 13,
    "start_time": "2023-04-28T09:12:16.135Z"
   },
   {
    "duration": 68,
    "start_time": "2023-04-28T09:17:32.939Z"
   },
   {
    "duration": 7,
    "start_time": "2023-04-28T09:19:21.344Z"
   },
   {
    "duration": 5,
    "start_time": "2023-04-28T09:19:24.507Z"
   },
   {
    "duration": 8,
    "start_time": "2023-04-28T09:19:49.252Z"
   },
   {
    "duration": 109,
    "start_time": "2023-04-28T09:21:08.288Z"
   },
   {
    "duration": 5,
    "start_time": "2023-04-28T09:30:18.955Z"
   },
   {
    "duration": 6,
    "start_time": "2023-04-28T09:31:11.722Z"
   },
   {
    "duration": 6,
    "start_time": "2023-04-28T09:31:37.736Z"
   },
   {
    "duration": 1293,
    "start_time": "2023-04-28T10:00:36.700Z"
   },
   {
    "duration": 39,
    "start_time": "2023-04-28T10:00:37.995Z"
   },
   {
    "duration": 14,
    "start_time": "2023-04-28T10:00:38.036Z"
   },
   {
    "duration": 28,
    "start_time": "2023-04-28T10:00:38.052Z"
   },
   {
    "duration": 18,
    "start_time": "2023-04-28T10:00:38.082Z"
   },
   {
    "duration": 15,
    "start_time": "2023-04-28T10:00:38.101Z"
   },
   {
    "duration": 27,
    "start_time": "2023-04-28T10:00:38.117Z"
   },
   {
    "duration": 50,
    "start_time": "2023-04-28T10:00:38.145Z"
   },
   {
    "duration": 48,
    "start_time": "2023-04-28T10:00:38.196Z"
   },
   {
    "duration": 6,
    "start_time": "2023-04-28T10:00:38.246Z"
   },
   {
    "duration": 19,
    "start_time": "2023-04-28T10:00:38.253Z"
   },
   {
    "duration": 10,
    "start_time": "2023-04-28T10:00:38.274Z"
   },
   {
    "duration": 16,
    "start_time": "2023-04-28T10:00:38.285Z"
   },
   {
    "duration": 4,
    "start_time": "2023-04-28T10:00:38.302Z"
   },
   {
    "duration": 12,
    "start_time": "2023-04-28T10:00:38.307Z"
   },
   {
    "duration": 7,
    "start_time": "2023-04-28T10:00:38.321Z"
   },
   {
    "duration": 302,
    "start_time": "2023-04-28T10:00:38.329Z"
   },
   {
    "duration": 27,
    "start_time": "2023-04-28T10:00:38.632Z"
   },
   {
    "duration": 13,
    "start_time": "2023-04-28T10:00:38.661Z"
   },
   {
    "duration": 28,
    "start_time": "2023-04-28T10:00:38.675Z"
   },
   {
    "duration": 11,
    "start_time": "2023-04-28T10:00:38.704Z"
   },
   {
    "duration": 70543,
    "start_time": "2023-04-28T10:00:38.717Z"
   },
   {
    "duration": 579,
    "start_time": "2023-04-28T10:01:49.261Z"
   },
   {
    "duration": 3,
    "start_time": "2023-04-28T10:01:49.842Z"
   },
   {
    "duration": 9,
    "start_time": "2023-04-28T10:01:49.847Z"
   },
   {
    "duration": 7,
    "start_time": "2023-04-28T10:01:49.873Z"
   },
   {
    "duration": 43,
    "start_time": "2023-04-28T10:01:49.882Z"
   },
   {
    "duration": 7,
    "start_time": "2023-04-28T10:01:49.974Z"
   },
   {
    "duration": 288,
    "start_time": "2023-04-28T10:01:50.073Z"
   },
   {
    "duration": 7,
    "start_time": "2023-04-28T10:01:50.363Z"
   },
   {
    "duration": 124,
    "start_time": "2023-04-28T10:01:50.372Z"
   },
   {
    "duration": 332,
    "start_time": "2023-04-28T10:01:50.498Z"
   },
   {
    "duration": 21,
    "start_time": "2023-04-28T10:01:50.831Z"
   },
   {
    "duration": 23,
    "start_time": "2023-04-28T10:01:50.853Z"
   },
   {
    "duration": 23,
    "start_time": "2023-04-28T10:01:50.878Z"
   },
   {
    "duration": 12,
    "start_time": "2023-04-28T10:01:50.903Z"
   },
   {
    "duration": 77794,
    "start_time": "2023-04-28T10:01:50.917Z"
   },
   {
    "duration": 1105,
    "start_time": "2023-04-28T10:03:08.713Z"
   },
   {
    "duration": 9,
    "start_time": "2023-04-28T10:03:09.819Z"
   },
   {
    "duration": 75,
    "start_time": "2023-04-28T10:03:09.829Z"
   },
   {
    "duration": 5,
    "start_time": "2023-04-28T10:03:09.906Z"
   },
   {
    "duration": 67,
    "start_time": "2023-04-28T10:03:09.913Z"
   },
   {
    "duration": 100,
    "start_time": "2023-04-28T10:03:09.981Z"
   },
   {
    "duration": 99,
    "start_time": "2023-04-28T10:03:10.082Z"
   },
   {
    "duration": 99,
    "start_time": "2023-04-28T10:03:10.182Z"
   },
   {
    "duration": 3,
    "start_time": "2023-04-28T10:03:10.373Z"
   },
   {
    "duration": 24,
    "start_time": "2023-04-28T10:03:10.378Z"
   },
   {
    "duration": 15,
    "start_time": "2023-04-28T10:03:10.403Z"
   },
   {
    "duration": 51,
    "start_time": "2023-04-28T10:03:10.419Z"
   },
   {
    "duration": 101,
    "start_time": "2023-04-28T10:03:10.472Z"
   },
   {
    "duration": 116,
    "start_time": "2023-04-28T10:03:10.574Z"
   },
   {
    "duration": 516,
    "start_time": "2023-04-28T10:03:10.692Z"
   },
   {
    "duration": 21,
    "start_time": "2023-04-28T10:03:11.210Z"
   },
   {
    "duration": 8,
    "start_time": "2023-04-28T10:03:11.232Z"
   },
   {
    "duration": 11,
    "start_time": "2023-04-28T10:03:11.242Z"
   },
   {
    "duration": 5,
    "start_time": "2023-04-28T10:03:11.255Z"
   },
   {
    "duration": 102454,
    "start_time": "2023-04-28T10:03:11.262Z"
   },
   {
    "duration": 1489,
    "start_time": "2023-04-28T10:04:53.718Z"
   },
   {
    "duration": 8,
    "start_time": "2023-04-28T10:04:55.209Z"
   },
   {
    "duration": 96,
    "start_time": "2023-04-28T10:04:55.218Z"
   },
   {
    "duration": 6,
    "start_time": "2023-04-28T10:04:55.315Z"
   },
   {
    "duration": 30,
    "start_time": "2023-04-28T10:04:55.322Z"
   },
   {
    "duration": 40,
    "start_time": "2023-04-28T10:04:55.354Z"
   },
   {
    "duration": 27,
    "start_time": "2023-04-28T10:04:55.396Z"
   },
   {
    "duration": 49,
    "start_time": "2023-04-28T10:04:55.424Z"
   },
   {
    "duration": 106,
    "start_time": "2023-04-28T10:04:55.475Z"
   },
   {
    "duration": 95,
    "start_time": "2023-04-28T10:04:55.583Z"
   },
   {
    "duration": 358,
    "start_time": "2023-04-28T10:04:55.680Z"
   },
   {
    "duration": 15,
    "start_time": "2023-04-28T10:04:56.039Z"
   },
   {
    "duration": 23,
    "start_time": "2023-04-28T10:04:56.056Z"
   },
   {
    "duration": 7,
    "start_time": "2023-04-28T10:04:56.082Z"
   },
   {
    "duration": 24,
    "start_time": "2023-04-28T10:04:56.091Z"
   },
   {
    "duration": 45435,
    "start_time": "2023-04-28T10:04:56.117Z"
   },
   {
    "duration": 587,
    "start_time": "2023-04-28T10:05:41.554Z"
   },
   {
    "duration": 9,
    "start_time": "2023-04-28T10:05:42.143Z"
   },
   {
    "duration": 76,
    "start_time": "2023-04-28T10:05:42.153Z"
   },
   {
    "duration": 5,
    "start_time": "2023-04-28T10:05:42.231Z"
   },
   {
    "duration": 1192,
    "start_time": "2023-04-28T10:05:42.237Z"
   },
   {
    "duration": 8,
    "start_time": "2023-04-28T10:05:43.430Z"
   },
   {
    "duration": 75,
    "start_time": "2023-04-28T10:05:43.440Z"
   },
   {
    "duration": 7,
    "start_time": "2023-04-28T10:05:43.517Z"
   },
   {
    "duration": 112,
    "start_time": "2023-04-28T10:05:43.529Z"
   },
   {
    "duration": 2901,
    "start_time": "2023-04-28T11:12:12.536Z"
   },
   {
    "duration": 60,
    "start_time": "2023-04-28T11:12:15.440Z"
   },
   {
    "duration": 18,
    "start_time": "2023-04-28T11:12:15.502Z"
   },
   {
    "duration": 13,
    "start_time": "2023-04-28T11:12:15.522Z"
   },
   {
    "duration": 5,
    "start_time": "2023-04-28T11:12:15.537Z"
   },
   {
    "duration": 7,
    "start_time": "2023-04-28T11:12:15.544Z"
   },
   {
    "duration": 35,
    "start_time": "2023-04-28T11:12:15.553Z"
   },
   {
    "duration": 54,
    "start_time": "2023-04-28T11:12:15.590Z"
   },
   {
    "duration": 78,
    "start_time": "2023-04-28T11:12:15.645Z"
   },
   {
    "duration": 7,
    "start_time": "2023-04-28T11:12:15.724Z"
   },
   {
    "duration": 38,
    "start_time": "2023-04-28T11:12:15.733Z"
   },
   {
    "duration": 14,
    "start_time": "2023-04-28T11:12:15.773Z"
   },
   {
    "duration": 12,
    "start_time": "2023-04-28T11:12:15.788Z"
   },
   {
    "duration": 13,
    "start_time": "2023-04-28T11:12:15.803Z"
   },
   {
    "duration": 15,
    "start_time": "2023-04-28T11:12:15.818Z"
   },
   {
    "duration": 16,
    "start_time": "2023-04-28T11:12:15.835Z"
   },
   {
    "duration": 309,
    "start_time": "2023-04-28T11:12:15.853Z"
   },
   {
    "duration": 37,
    "start_time": "2023-04-28T11:12:16.167Z"
   },
   {
    "duration": 5,
    "start_time": "2023-04-28T11:12:16.206Z"
   },
   {
    "duration": 10,
    "start_time": "2023-04-28T11:12:16.213Z"
   },
   {
    "duration": 6,
    "start_time": "2023-04-28T11:12:16.226Z"
   },
   {
    "duration": 76866,
    "start_time": "2023-04-28T11:12:16.233Z"
   },
   {
    "duration": 525,
    "start_time": "2023-04-28T11:13:33.101Z"
   },
   {
    "duration": 4,
    "start_time": "2023-04-28T11:13:33.628Z"
   },
   {
    "duration": 43,
    "start_time": "2023-04-28T11:13:33.634Z"
   },
   {
    "duration": 22,
    "start_time": "2023-04-28T11:13:33.679Z"
   },
   {
    "duration": 58,
    "start_time": "2023-04-28T11:13:33.702Z"
   },
   {
    "duration": 5,
    "start_time": "2023-04-28T11:13:33.761Z"
   },
   {
    "duration": 97,
    "start_time": "2023-04-28T11:13:33.768Z"
   },
   {
    "duration": 9,
    "start_time": "2023-04-28T11:13:33.867Z"
   },
   {
    "duration": 190,
    "start_time": "2023-04-28T11:13:33.878Z"
   },
   {
    "duration": 340,
    "start_time": "2023-04-28T11:13:34.072Z"
   },
   {
    "duration": 23,
    "start_time": "2023-04-28T11:13:34.414Z"
   },
   {
    "duration": 34,
    "start_time": "2023-04-28T11:13:34.439Z"
   },
   {
    "duration": 7,
    "start_time": "2023-04-28T11:13:34.478Z"
   },
   {
    "duration": 11,
    "start_time": "2023-04-28T11:13:34.488Z"
   },
   {
    "duration": 85533,
    "start_time": "2023-04-28T11:13:34.501Z"
   },
   {
    "duration": 1331,
    "start_time": "2023-04-28T11:15:00.035Z"
   },
   {
    "duration": 16,
    "start_time": "2023-04-28T11:15:01.373Z"
   },
   {
    "duration": 142,
    "start_time": "2023-04-28T11:15:01.391Z"
   },
   {
    "duration": 8,
    "start_time": "2023-04-28T11:15:01.538Z"
   },
   {
    "duration": 127,
    "start_time": "2023-04-28T11:15:01.548Z"
   },
   {
    "duration": 190,
    "start_time": "2023-04-28T11:15:01.679Z"
   },
   {
    "duration": 92,
    "start_time": "2023-04-28T11:15:01.871Z"
   },
   {
    "duration": 151,
    "start_time": "2023-04-28T11:15:01.965Z"
   },
   {
    "duration": 89,
    "start_time": "2023-04-28T11:15:02.118Z"
   },
   {
    "duration": 105,
    "start_time": "2023-04-28T11:15:02.210Z"
   },
   {
    "duration": 23,
    "start_time": "2023-04-28T11:15:02.317Z"
   },
   {
    "duration": 96,
    "start_time": "2023-04-28T11:15:02.342Z"
   },
   {
    "duration": 26,
    "start_time": "2023-04-28T11:15:02.440Z"
   },
   {
    "duration": 118,
    "start_time": "2023-04-28T11:15:02.469Z"
   },
   {
    "duration": 508,
    "start_time": "2023-04-28T11:15:02.656Z"
   },
   {
    "duration": 23,
    "start_time": "2023-04-28T11:15:03.170Z"
   },
   {
    "duration": 10,
    "start_time": "2023-04-28T11:15:03.196Z"
   },
   {
    "duration": 15,
    "start_time": "2023-04-28T11:15:03.208Z"
   },
   {
    "duration": 17,
    "start_time": "2023-04-28T11:15:03.225Z"
   },
   {
    "duration": 113588,
    "start_time": "2023-04-28T11:15:03.243Z"
   },
   {
    "duration": 1592,
    "start_time": "2023-04-28T11:16:56.832Z"
   },
   {
    "duration": 10,
    "start_time": "2023-04-28T11:16:58.426Z"
   },
   {
    "duration": 92,
    "start_time": "2023-04-28T11:16:58.438Z"
   },
   {
    "duration": 7,
    "start_time": "2023-04-28T11:16:58.532Z"
   },
   {
    "duration": 18,
    "start_time": "2023-04-28T11:16:58.541Z"
   },
   {
    "duration": 12,
    "start_time": "2023-04-28T11:16:58.567Z"
   },
   {
    "duration": 5,
    "start_time": "2023-04-28T11:16:58.581Z"
   },
   {
    "duration": 71,
    "start_time": "2023-04-28T11:16:58.588Z"
   },
   {
    "duration": 97,
    "start_time": "2023-04-28T11:16:58.661Z"
   },
   {
    "duration": 18,
    "start_time": "2023-04-28T11:16:58.760Z"
   },
   {
    "duration": 316,
    "start_time": "2023-04-28T11:16:58.780Z"
   },
   {
    "duration": 11,
    "start_time": "2023-04-28T11:16:59.098Z"
   },
   {
    "duration": 10,
    "start_time": "2023-04-28T11:16:59.111Z"
   },
   {
    "duration": 5,
    "start_time": "2023-04-28T11:16:59.123Z"
   },
   {
    "duration": 31,
    "start_time": "2023-04-28T11:16:59.130Z"
   },
   {
    "duration": 52037,
    "start_time": "2023-04-28T11:16:59.167Z"
   },
   {
    "duration": 644,
    "start_time": "2023-04-28T11:17:51.206Z"
   },
   {
    "duration": 15,
    "start_time": "2023-04-28T11:17:51.853Z"
   },
   {
    "duration": 95,
    "start_time": "2023-04-28T11:17:51.870Z"
   },
   {
    "duration": 6,
    "start_time": "2023-04-28T11:17:51.974Z"
   },
   {
    "duration": 1202,
    "start_time": "2023-04-28T11:17:51.982Z"
   },
   {
    "duration": 9,
    "start_time": "2023-04-28T11:17:53.186Z"
   },
   {
    "duration": 93,
    "start_time": "2023-04-28T11:17:53.196Z"
   },
   {
    "duration": 7,
    "start_time": "2023-04-28T11:17:53.291Z"
   },
   {
    "duration": 142,
    "start_time": "2023-04-28T11:17:53.300Z"
   },
   {
    "duration": 58,
    "start_time": "2023-04-28T14:04:09.760Z"
   },
   {
    "duration": 1664,
    "start_time": "2023-04-28T14:36:02.545Z"
   },
   {
    "duration": 161,
    "start_time": "2023-04-28T14:36:04.212Z"
   },
   {
    "duration": 23,
    "start_time": "2023-04-28T14:36:04.375Z"
   },
   {
    "duration": 14,
    "start_time": "2023-04-28T14:36:04.401Z"
   },
   {
    "duration": 7,
    "start_time": "2023-04-28T14:36:04.418Z"
   },
   {
    "duration": 6,
    "start_time": "2023-04-28T14:36:04.426Z"
   },
   {
    "duration": 24,
    "start_time": "2023-04-28T14:36:04.434Z"
   },
   {
    "duration": 72,
    "start_time": "2023-04-28T14:36:04.460Z"
   },
   {
    "duration": 7,
    "start_time": "2023-04-28T14:36:04.534Z"
   },
   {
    "duration": 21,
    "start_time": "2023-04-28T14:36:04.542Z"
   },
   {
    "duration": 18,
    "start_time": "2023-04-28T14:36:04.565Z"
   },
   {
    "duration": 12,
    "start_time": "2023-04-28T14:36:04.591Z"
   },
   {
    "duration": 16,
    "start_time": "2023-04-28T14:36:04.605Z"
   },
   {
    "duration": 12,
    "start_time": "2023-04-28T14:36:04.624Z"
   },
   {
    "duration": 21,
    "start_time": "2023-04-28T14:36:04.638Z"
   },
   {
    "duration": 169,
    "start_time": "2023-04-28T14:36:04.661Z"
   },
   {
    "duration": 0,
    "start_time": "2023-04-28T14:36:04.833Z"
   },
   {
    "duration": 0,
    "start_time": "2023-04-28T14:36:04.834Z"
   },
   {
    "duration": 0,
    "start_time": "2023-04-28T14:36:04.836Z"
   },
   {
    "duration": 0,
    "start_time": "2023-04-28T14:36:04.837Z"
   },
   {
    "duration": 0,
    "start_time": "2023-04-28T14:36:04.838Z"
   },
   {
    "duration": 0,
    "start_time": "2023-04-28T14:36:04.839Z"
   },
   {
    "duration": 0,
    "start_time": "2023-04-28T14:36:04.840Z"
   },
   {
    "duration": 0,
    "start_time": "2023-04-28T14:36:04.841Z"
   },
   {
    "duration": 0,
    "start_time": "2023-04-28T14:36:04.842Z"
   },
   {
    "duration": 0,
    "start_time": "2023-04-28T14:36:04.843Z"
   },
   {
    "duration": 0,
    "start_time": "2023-04-28T14:36:04.844Z"
   },
   {
    "duration": 0,
    "start_time": "2023-04-28T14:36:04.845Z"
   },
   {
    "duration": 0,
    "start_time": "2023-04-28T14:36:04.846Z"
   },
   {
    "duration": 0,
    "start_time": "2023-04-28T14:36:04.847Z"
   },
   {
    "duration": 0,
    "start_time": "2023-04-28T14:36:04.848Z"
   },
   {
    "duration": 0,
    "start_time": "2023-04-28T14:36:04.849Z"
   },
   {
    "duration": 0,
    "start_time": "2023-04-28T14:36:04.850Z"
   },
   {
    "duration": 0,
    "start_time": "2023-04-28T14:36:04.851Z"
   },
   {
    "duration": 0,
    "start_time": "2023-04-28T14:36:04.852Z"
   },
   {
    "duration": 0,
    "start_time": "2023-04-28T14:36:04.890Z"
   },
   {
    "duration": 0,
    "start_time": "2023-04-28T14:36:04.893Z"
   },
   {
    "duration": 0,
    "start_time": "2023-04-28T14:36:04.895Z"
   },
   {
    "duration": 0,
    "start_time": "2023-04-28T14:36:04.896Z"
   },
   {
    "duration": 0,
    "start_time": "2023-04-28T14:36:04.897Z"
   },
   {
    "duration": 0,
    "start_time": "2023-04-28T14:36:04.898Z"
   },
   {
    "duration": 0,
    "start_time": "2023-04-28T14:36:04.900Z"
   },
   {
    "duration": 0,
    "start_time": "2023-04-28T14:36:04.901Z"
   },
   {
    "duration": 0,
    "start_time": "2023-04-28T14:36:04.902Z"
   },
   {
    "duration": 1,
    "start_time": "2023-04-28T14:36:04.903Z"
   },
   {
    "duration": 0,
    "start_time": "2023-04-28T14:36:04.905Z"
   },
   {
    "duration": 0,
    "start_time": "2023-04-28T14:36:04.906Z"
   },
   {
    "duration": 0,
    "start_time": "2023-04-28T14:36:04.907Z"
   },
   {
    "duration": 0,
    "start_time": "2023-04-28T14:36:04.909Z"
   },
   {
    "duration": 0,
    "start_time": "2023-04-28T14:36:04.910Z"
   },
   {
    "duration": 0,
    "start_time": "2023-04-28T14:36:04.912Z"
   },
   {
    "duration": 0,
    "start_time": "2023-04-28T14:36:04.913Z"
   },
   {
    "duration": 0,
    "start_time": "2023-04-28T14:36:04.914Z"
   },
   {
    "duration": 0,
    "start_time": "2023-04-28T14:36:04.915Z"
   },
   {
    "duration": 0,
    "start_time": "2023-04-28T14:36:04.916Z"
   },
   {
    "duration": 0,
    "start_time": "2023-04-28T14:36:04.917Z"
   },
   {
    "duration": 0,
    "start_time": "2023-04-28T14:36:04.918Z"
   },
   {
    "duration": 0,
    "start_time": "2023-04-28T14:36:04.919Z"
   },
   {
    "duration": 0,
    "start_time": "2023-04-28T14:36:04.920Z"
   },
   {
    "duration": 0,
    "start_time": "2023-04-28T14:36:04.921Z"
   },
   {
    "duration": 0,
    "start_time": "2023-04-28T14:36:04.922Z"
   },
   {
    "duration": 0,
    "start_time": "2023-04-28T14:36:04.923Z"
   },
   {
    "duration": 0,
    "start_time": "2023-04-28T14:36:04.924Z"
   },
   {
    "duration": 0,
    "start_time": "2023-04-28T14:36:04.926Z"
   },
   {
    "duration": 0,
    "start_time": "2023-04-28T14:36:04.927Z"
   },
   {
    "duration": 0,
    "start_time": "2023-04-28T14:36:04.928Z"
   },
   {
    "duration": 0,
    "start_time": "2023-04-28T14:36:04.990Z"
   },
   {
    "duration": 0,
    "start_time": "2023-04-28T14:36:04.992Z"
   },
   {
    "duration": 0,
    "start_time": "2023-04-28T14:36:04.993Z"
   },
   {
    "duration": 0,
    "start_time": "2023-04-28T14:36:04.995Z"
   },
   {
    "duration": 0,
    "start_time": "2023-04-28T14:36:04.997Z"
   },
   {
    "duration": 0,
    "start_time": "2023-04-28T14:36:04.998Z"
   },
   {
    "duration": 0,
    "start_time": "2023-04-28T14:36:04.999Z"
   },
   {
    "duration": 0,
    "start_time": "2023-04-28T14:36:05.000Z"
   },
   {
    "duration": 0,
    "start_time": "2023-04-28T14:36:05.001Z"
   },
   {
    "duration": 0,
    "start_time": "2023-04-28T14:36:05.003Z"
   },
   {
    "duration": 0,
    "start_time": "2023-04-28T14:36:05.004Z"
   },
   {
    "duration": 0,
    "start_time": "2023-04-28T14:36:05.005Z"
   },
   {
    "duration": 0,
    "start_time": "2023-04-28T14:36:05.007Z"
   },
   {
    "duration": 0,
    "start_time": "2023-04-28T14:36:05.007Z"
   },
   {
    "duration": 0,
    "start_time": "2023-04-28T14:36:05.009Z"
   },
   {
    "duration": 0,
    "start_time": "2023-04-28T14:36:05.010Z"
   },
   {
    "duration": 4,
    "start_time": "2023-04-28T14:36:34.157Z"
   },
   {
    "duration": 42,
    "start_time": "2023-04-28T14:36:35.486Z"
   },
   {
    "duration": 14,
    "start_time": "2023-04-28T14:36:37.335Z"
   },
   {
    "duration": 14,
    "start_time": "2023-04-28T14:36:38.049Z"
   },
   {
    "duration": 4,
    "start_time": "2023-04-28T14:36:41.106Z"
   },
   {
    "duration": 5,
    "start_time": "2023-04-28T14:36:41.865Z"
   },
   {
    "duration": 23,
    "start_time": "2023-04-28T14:36:43.908Z"
   },
   {
    "duration": 9,
    "start_time": "2023-04-28T14:39:41.265Z"
   },
   {
    "duration": 7,
    "start_time": "2023-04-28T14:39:43.817Z"
   },
   {
    "duration": 7,
    "start_time": "2023-04-28T14:39:44.566Z"
   },
   {
    "duration": 10,
    "start_time": "2023-04-28T14:39:45.272Z"
   },
   {
    "duration": 11,
    "start_time": "2023-04-28T14:41:08.498Z"
   },
   {
    "duration": 15,
    "start_time": "2023-04-28T14:41:22.739Z"
   },
   {
    "duration": 16,
    "start_time": "2023-04-28T14:41:30.588Z"
   },
   {
    "duration": 15,
    "start_time": "2023-04-28T14:41:38.471Z"
   },
   {
    "duration": 22,
    "start_time": "2023-04-28T14:42:00.034Z"
   },
   {
    "duration": 37,
    "start_time": "2023-04-28T14:50:16.679Z"
   },
   {
    "duration": 32,
    "start_time": "2023-04-28T14:51:56.891Z"
   },
   {
    "duration": 24,
    "start_time": "2023-04-28T14:52:41.234Z"
   },
   {
    "duration": 15,
    "start_time": "2023-04-28T14:55:55.654Z"
   },
   {
    "duration": 11,
    "start_time": "2023-04-28T14:56:08.246Z"
   },
   {
    "duration": 11,
    "start_time": "2023-04-28T14:56:43.240Z"
   },
   {
    "duration": 10,
    "start_time": "2023-04-28T14:57:47.154Z"
   },
   {
    "duration": 10,
    "start_time": "2023-04-28T14:58:10.708Z"
   },
   {
    "duration": 1451,
    "start_time": "2023-04-28T15:07:55.611Z"
   },
   {
    "duration": 40,
    "start_time": "2023-04-28T15:07:57.065Z"
   },
   {
    "duration": 20,
    "start_time": "2023-04-28T15:07:57.107Z"
   },
   {
    "duration": 21,
    "start_time": "2023-04-28T15:07:57.129Z"
   },
   {
    "duration": 11,
    "start_time": "2023-04-28T15:07:57.152Z"
   },
   {
    "duration": 37,
    "start_time": "2023-04-28T15:07:57.165Z"
   },
   {
    "duration": 27,
    "start_time": "2023-04-28T15:07:57.204Z"
   },
   {
    "duration": 77,
    "start_time": "2023-04-28T15:07:57.233Z"
   },
   {
    "duration": 8,
    "start_time": "2023-04-28T15:07:57.312Z"
   },
   {
    "duration": 36,
    "start_time": "2023-04-28T15:07:57.321Z"
   },
   {
    "duration": 90,
    "start_time": "2023-04-28T15:07:57.358Z"
   },
   {
    "duration": 58,
    "start_time": "2023-04-28T15:07:57.450Z"
   },
   {
    "duration": 14,
    "start_time": "2023-04-28T15:07:57.510Z"
   },
   {
    "duration": 40,
    "start_time": "2023-04-28T15:07:57.528Z"
   },
   {
    "duration": 17,
    "start_time": "2023-04-28T15:07:57.570Z"
   },
   {
    "duration": 6,
    "start_time": "2023-04-28T15:07:57.589Z"
   },
   {
    "duration": 30,
    "start_time": "2023-04-28T15:07:57.597Z"
   },
   {
    "duration": 291,
    "start_time": "2023-04-28T15:07:57.629Z"
   },
   {
    "duration": 29,
    "start_time": "2023-04-28T15:07:57.922Z"
   },
   {
    "duration": 4,
    "start_time": "2023-04-28T15:07:57.953Z"
   },
   {
    "duration": 30,
    "start_time": "2023-04-28T15:07:57.959Z"
   },
   {
    "duration": 6,
    "start_time": "2023-04-28T15:07:57.991Z"
   },
   {
    "duration": 73134,
    "start_time": "2023-04-28T15:07:57.999Z"
   },
   {
    "duration": 521,
    "start_time": "2023-04-28T15:09:11.135Z"
   },
   {
    "duration": 6,
    "start_time": "2023-04-28T15:09:11.658Z"
   },
   {
    "duration": 26,
    "start_time": "2023-04-28T15:09:11.666Z"
   },
   {
    "duration": 7,
    "start_time": "2023-04-28T15:09:11.694Z"
   },
   {
    "duration": 88,
    "start_time": "2023-04-28T15:09:11.703Z"
   },
   {
    "duration": 5,
    "start_time": "2023-04-28T15:09:11.793Z"
   },
   {
    "duration": 106,
    "start_time": "2023-04-28T15:09:11.799Z"
   },
   {
    "duration": 7,
    "start_time": "2023-04-28T15:09:11.907Z"
   },
   {
    "duration": 163,
    "start_time": "2023-04-28T15:09:11.916Z"
   },
   {
    "duration": 290,
    "start_time": "2023-04-28T15:09:12.088Z"
   },
   {
    "duration": 19,
    "start_time": "2023-04-28T15:09:12.379Z"
   },
   {
    "duration": 10,
    "start_time": "2023-04-28T15:09:12.400Z"
   },
   {
    "duration": 5,
    "start_time": "2023-04-28T15:09:12.411Z"
   },
   {
    "duration": 12,
    "start_time": "2023-04-28T15:09:12.417Z"
   },
   {
    "duration": 81240,
    "start_time": "2023-04-28T15:09:12.431Z"
   },
   {
    "duration": 1154,
    "start_time": "2023-04-28T15:10:33.673Z"
   },
   {
    "duration": 10,
    "start_time": "2023-04-28T15:10:34.829Z"
   },
   {
    "duration": 102,
    "start_time": "2023-04-28T15:10:34.844Z"
   },
   {
    "duration": 8,
    "start_time": "2023-04-28T15:10:34.947Z"
   },
   {
    "duration": 37,
    "start_time": "2023-04-28T15:10:34.957Z"
   },
   {
    "duration": 102,
    "start_time": "2023-04-28T15:10:34.996Z"
   },
   {
    "duration": 95,
    "start_time": "2023-04-28T15:10:35.100Z"
   },
   {
    "duration": 94,
    "start_time": "2023-04-28T15:10:35.200Z"
   },
   {
    "duration": 108,
    "start_time": "2023-04-28T15:10:35.296Z"
   },
   {
    "duration": 28,
    "start_time": "2023-04-28T15:10:35.406Z"
   },
   {
    "duration": 4,
    "start_time": "2023-04-28T15:10:35.437Z"
   },
   {
    "duration": 47,
    "start_time": "2023-04-28T15:10:35.442Z"
   },
   {
    "duration": 99,
    "start_time": "2023-04-28T15:10:35.491Z"
   },
   {
    "duration": 104,
    "start_time": "2023-04-28T15:10:35.592Z"
   },
   {
    "duration": 538,
    "start_time": "2023-04-28T15:10:35.698Z"
   },
   {
    "duration": 23,
    "start_time": "2023-04-28T15:10:36.238Z"
   },
   {
    "duration": 9,
    "start_time": "2023-04-28T15:10:36.263Z"
   },
   {
    "duration": 13,
    "start_time": "2023-04-28T15:10:36.289Z"
   },
   {
    "duration": 19,
    "start_time": "2023-04-28T15:10:36.303Z"
   },
   {
    "duration": 108518,
    "start_time": "2023-04-28T15:10:36.324Z"
   },
   {
    "duration": 1569,
    "start_time": "2023-04-28T15:12:24.844Z"
   },
   {
    "duration": 9,
    "start_time": "2023-04-28T15:12:26.415Z"
   },
   {
    "duration": 99,
    "start_time": "2023-04-28T15:12:26.426Z"
   },
   {
    "duration": 6,
    "start_time": "2023-04-28T15:12:26.527Z"
   },
   {
    "duration": 16,
    "start_time": "2023-04-28T15:12:26.535Z"
   },
   {
    "duration": 19,
    "start_time": "2023-04-28T15:12:26.553Z"
   },
   {
    "duration": 3,
    "start_time": "2023-04-28T15:12:26.575Z"
   },
   {
    "duration": 20,
    "start_time": "2023-04-28T15:12:26.579Z"
   },
   {
    "duration": 92,
    "start_time": "2023-04-28T15:12:26.601Z"
   },
   {
    "duration": 101,
    "start_time": "2023-04-28T15:12:26.695Z"
   },
   {
    "duration": 223,
    "start_time": "2023-04-28T15:12:26.888Z"
   },
   {
    "duration": 12,
    "start_time": "2023-04-28T15:12:27.113Z"
   },
   {
    "duration": 9,
    "start_time": "2023-04-28T15:12:27.127Z"
   },
   {
    "duration": 6,
    "start_time": "2023-04-28T15:12:27.138Z"
   },
   {
    "duration": 6,
    "start_time": "2023-04-28T15:12:27.146Z"
   },
   {
    "duration": 50907,
    "start_time": "2023-04-28T15:12:27.153Z"
   },
   {
    "duration": 651,
    "start_time": "2023-04-28T15:13:18.062Z"
   },
   {
    "duration": 8,
    "start_time": "2023-04-28T15:13:18.715Z"
   },
   {
    "duration": 93,
    "start_time": "2023-04-28T15:13:18.725Z"
   },
   {
    "duration": 6,
    "start_time": "2023-04-28T15:13:18.820Z"
   },
   {
    "duration": 1138,
    "start_time": "2023-04-28T15:13:18.827Z"
   },
   {
    "duration": 9,
    "start_time": "2023-04-28T15:13:19.966Z"
   },
   {
    "duration": 92,
    "start_time": "2023-04-28T15:13:19.977Z"
   },
   {
    "duration": 7,
    "start_time": "2023-04-28T15:13:20.070Z"
   },
   {
    "duration": 149,
    "start_time": "2023-04-28T15:13:20.090Z"
   },
   {
    "duration": 329,
    "start_time": "2023-04-28T15:13:20.242Z"
   },
   {
    "duration": 276,
    "start_time": "2023-04-28T15:13:33.791Z"
   },
   {
    "duration": 4,
    "start_time": "2023-04-28T15:13:36.391Z"
   },
   {
    "duration": 5,
    "start_time": "2023-04-28T15:13:46.726Z"
   },
   {
    "duration": 9,
    "start_time": "2023-04-28T15:13:51.513Z"
   },
   {
    "duration": 7,
    "start_time": "2023-04-28T15:14:01.006Z"
   },
   {
    "duration": 29,
    "start_time": "2023-04-28T15:14:05.556Z"
   },
   {
    "duration": 5,
    "start_time": "2023-04-28T15:14:07.237Z"
   },
   {
    "duration": 10,
    "start_time": "2023-04-28T15:14:14.036Z"
   },
   {
    "duration": 6,
    "start_time": "2023-04-28T15:14:18.062Z"
   },
   {
    "duration": 19,
    "start_time": "2023-04-28T15:40:04.869Z"
   },
   {
    "duration": 20,
    "start_time": "2023-04-28T15:42:05.468Z"
   },
   {
    "duration": 11,
    "start_time": "2023-04-28T15:42:06.650Z"
   },
   {
    "duration": 6,
    "start_time": "2023-04-28T15:42:25.207Z"
   },
   {
    "duration": 6,
    "start_time": "2023-04-28T15:42:26.602Z"
   },
   {
    "duration": 113,
    "start_time": "2023-04-28T15:43:58.411Z"
   },
   {
    "duration": 1163,
    "start_time": "2023-04-28T15:44:05.298Z"
   },
   {
    "duration": 10,
    "start_time": "2023-04-28T15:44:14.105Z"
   },
   {
    "duration": 349,
    "start_time": "2023-04-28T16:24:52.983Z"
   },
   {
    "duration": 25,
    "start_time": "2023-04-28T16:25:00.026Z"
   },
   {
    "duration": 11,
    "start_time": "2023-04-28T16:25:01.176Z"
   },
   {
    "duration": 110709,
    "start_time": "2023-04-28T16:26:19.191Z"
   },
   {
    "duration": 1601,
    "start_time": "2023-04-28T16:28:09.903Z"
   },
   {
    "duration": 9,
    "start_time": "2023-04-28T16:28:11.506Z"
   },
   {
    "duration": 100,
    "start_time": "2023-04-28T16:28:11.517Z"
   },
   {
    "duration": 8,
    "start_time": "2023-04-28T16:28:11.619Z"
   },
   {
    "duration": 1555,
    "start_time": "2023-04-28T16:33:28.669Z"
   },
   {
    "duration": 10,
    "start_time": "2023-04-28T16:33:30.226Z"
   },
   {
    "duration": 84,
    "start_time": "2023-04-28T16:33:32.324Z"
   },
   {
    "duration": 7,
    "start_time": "2023-04-28T16:33:32.861Z"
   },
   {
    "duration": 1163,
    "start_time": "2023-04-28T17:04:36.379Z"
   },
   {
    "duration": 11,
    "start_time": "2023-04-28T17:04:37.544Z"
   },
   {
    "duration": 1483,
    "start_time": "2023-04-28T19:06:37.155Z"
   },
   {
    "duration": 42,
    "start_time": "2023-04-28T19:06:38.641Z"
   },
   {
    "duration": 23,
    "start_time": "2023-04-28T19:06:38.685Z"
   },
   {
    "duration": 16,
    "start_time": "2023-04-28T19:06:38.710Z"
   },
   {
    "duration": 5,
    "start_time": "2023-04-28T19:06:38.730Z"
   },
   {
    "duration": 17,
    "start_time": "2023-04-28T19:06:38.737Z"
   },
   {
    "duration": 31,
    "start_time": "2023-04-28T19:06:38.756Z"
   },
   {
    "duration": 60,
    "start_time": "2023-04-28T19:06:38.792Z"
   },
   {
    "duration": 8,
    "start_time": "2023-04-28T19:06:38.854Z"
   },
   {
    "duration": 37,
    "start_time": "2023-04-28T19:06:38.864Z"
   },
   {
    "duration": 9,
    "start_time": "2023-04-28T19:06:38.903Z"
   },
   {
    "duration": 24,
    "start_time": "2023-04-28T19:06:38.913Z"
   },
   {
    "duration": 8,
    "start_time": "2023-04-28T19:06:38.939Z"
   },
   {
    "duration": 4,
    "start_time": "2023-04-28T19:06:38.951Z"
   },
   {
    "duration": 10,
    "start_time": "2023-04-28T19:06:38.957Z"
   },
   {
    "duration": 23,
    "start_time": "2023-04-28T19:06:38.969Z"
   },
   {
    "duration": 30,
    "start_time": "2023-04-28T19:06:38.994Z"
   },
   {
    "duration": 309,
    "start_time": "2023-04-28T19:06:39.026Z"
   },
   {
    "duration": 29,
    "start_time": "2023-04-28T19:06:39.337Z"
   },
   {
    "duration": 25,
    "start_time": "2023-04-28T19:06:39.368Z"
   },
   {
    "duration": 16,
    "start_time": "2023-04-28T19:06:39.397Z"
   },
   {
    "duration": 7,
    "start_time": "2023-04-28T19:06:39.415Z"
   },
   {
    "duration": 76551,
    "start_time": "2023-04-28T19:06:39.423Z"
   },
   {
    "duration": 295,
    "start_time": "2023-04-28T19:07:55.976Z"
   },
   {
    "duration": 4,
    "start_time": "2023-04-28T19:07:56.274Z"
   },
   {
    "duration": 29,
    "start_time": "2023-04-28T19:07:56.280Z"
   },
   {
    "duration": 7,
    "start_time": "2023-04-28T19:07:56.311Z"
   },
   {
    "duration": 72,
    "start_time": "2023-04-28T19:07:56.320Z"
   },
   {
    "duration": 8,
    "start_time": "2023-04-28T19:07:56.395Z"
   },
   {
    "duration": 94,
    "start_time": "2023-04-28T19:07:56.406Z"
   },
   {
    "duration": 7,
    "start_time": "2023-04-28T19:07:56.508Z"
   },
   {
    "duration": 174,
    "start_time": "2023-04-28T19:07:56.517Z"
   },
   {
    "duration": 312,
    "start_time": "2023-04-28T19:07:56.693Z"
   },
   {
    "duration": 19,
    "start_time": "2023-04-28T19:07:57.006Z"
   },
   {
    "duration": 10,
    "start_time": "2023-04-28T19:07:57.027Z"
   },
   {
    "duration": 5,
    "start_time": "2023-04-28T19:07:57.039Z"
   },
   {
    "duration": 10,
    "start_time": "2023-04-28T19:07:57.046Z"
   },
   {
    "duration": 85899,
    "start_time": "2023-04-28T19:07:57.058Z"
   },
   {
    "duration": 1192,
    "start_time": "2023-04-28T19:09:22.959Z"
   },
   {
    "duration": 10,
    "start_time": "2023-04-28T19:09:24.152Z"
   },
   {
    "duration": 101,
    "start_time": "2023-04-28T19:09:24.167Z"
   },
   {
    "duration": 7,
    "start_time": "2023-04-28T19:09:24.269Z"
   },
   {
    "duration": 111,
    "start_time": "2023-04-28T19:09:24.277Z"
   },
   {
    "duration": 108,
    "start_time": "2023-04-28T19:09:24.395Z"
   },
   {
    "duration": 6,
    "start_time": "2023-04-28T19:09:24.504Z"
   },
   {
    "duration": 9,
    "start_time": "2023-04-28T19:09:24.512Z"
   },
   {
    "duration": 8,
    "start_time": "2023-04-28T19:09:24.594Z"
   },
   {
    "duration": 87,
    "start_time": "2023-04-28T19:09:24.611Z"
   },
   {
    "duration": 8,
    "start_time": "2023-04-28T19:09:24.700Z"
   },
   {
    "duration": 35,
    "start_time": "2023-04-28T19:09:24.711Z"
   },
   {
    "duration": 20,
    "start_time": "2023-04-28T19:09:24.793Z"
   },
   {
    "duration": 86,
    "start_time": "2023-04-28T19:09:24.814Z"
   },
   {
    "duration": 529,
    "start_time": "2023-04-28T19:09:24.901Z"
   },
   {
    "duration": 24,
    "start_time": "2023-04-28T19:09:25.432Z"
   },
   {
    "duration": 11,
    "start_time": "2023-04-28T19:09:25.458Z"
   },
   {
    "duration": 13,
    "start_time": "2023-04-28T19:09:25.491Z"
   },
   {
    "duration": 6,
    "start_time": "2023-04-28T19:09:25.507Z"
   },
   {
    "duration": 115345,
    "start_time": "2023-04-28T19:09:25.515Z"
   },
   {
    "duration": 1654,
    "start_time": "2023-04-28T19:11:20.862Z"
   },
   {
    "duration": 10,
    "start_time": "2023-04-28T19:11:22.518Z"
   },
   {
    "duration": 99,
    "start_time": "2023-04-28T19:11:22.530Z"
   },
   {
    "duration": 6,
    "start_time": "2023-04-28T19:11:22.631Z"
   },
   {
    "duration": 24,
    "start_time": "2023-04-28T19:11:22.639Z"
   },
   {
    "duration": 18,
    "start_time": "2023-04-28T19:11:22.664Z"
   },
   {
    "duration": 17,
    "start_time": "2023-04-28T19:11:22.684Z"
   },
   {
    "duration": 22,
    "start_time": "2023-04-28T19:11:22.703Z"
   },
   {
    "duration": 72,
    "start_time": "2023-04-28T19:11:22.731Z"
   },
   {
    "duration": 96,
    "start_time": "2023-04-28T19:11:22.804Z"
   },
   {
    "duration": 334,
    "start_time": "2023-04-28T19:11:22.903Z"
   },
   {
    "duration": 14,
    "start_time": "2023-04-28T19:11:23.240Z"
   },
   {
    "duration": 11,
    "start_time": "2023-04-28T19:11:23.255Z"
   },
   {
    "duration": 17,
    "start_time": "2023-04-28T19:11:23.268Z"
   },
   {
    "duration": 27,
    "start_time": "2023-04-28T19:11:23.287Z"
   },
   {
    "duration": 53615,
    "start_time": "2023-04-28T19:11:23.316Z"
   },
   {
    "duration": 693,
    "start_time": "2023-04-28T19:12:16.933Z"
   },
   {
    "duration": 11,
    "start_time": "2023-04-28T19:12:17.628Z"
   },
   {
    "duration": 100,
    "start_time": "2023-04-28T19:12:17.641Z"
   },
   {
    "duration": 6,
    "start_time": "2023-04-28T19:12:17.743Z"
   },
   {
    "duration": 1248,
    "start_time": "2023-04-28T19:12:17.751Z"
   },
   {
    "duration": 11,
    "start_time": "2023-04-28T19:12:19.001Z"
   },
   {
    "duration": 96,
    "start_time": "2023-04-28T19:12:19.014Z"
   },
   {
    "duration": 8,
    "start_time": "2023-04-28T19:12:19.112Z"
   },
   {
    "duration": 149,
    "start_time": "2023-04-28T19:12:19.121Z"
   },
   {
    "duration": 1655,
    "start_time": "2023-11-05T06:16:26.303Z"
   },
   {
    "duration": 92,
    "start_time": "2023-11-05T06:16:27.961Z"
   },
   {
    "duration": 20,
    "start_time": "2023-11-05T06:16:28.055Z"
   },
   {
    "duration": 14,
    "start_time": "2023-11-05T06:16:28.077Z"
   },
   {
    "duration": 5,
    "start_time": "2023-11-05T06:16:28.093Z"
   },
   {
    "duration": 9,
    "start_time": "2023-11-05T06:16:28.099Z"
   },
   {
    "duration": 25,
    "start_time": "2023-11-05T06:16:28.111Z"
   },
   {
    "duration": 63,
    "start_time": "2023-11-05T06:16:28.138Z"
   },
   {
    "duration": 10,
    "start_time": "2023-11-05T06:16:28.203Z"
   },
   {
    "duration": 15,
    "start_time": "2023-11-05T06:16:28.215Z"
   },
   {
    "duration": 11,
    "start_time": "2023-11-05T06:16:28.232Z"
   },
   {
    "duration": 14,
    "start_time": "2023-11-05T06:16:28.246Z"
   },
   {
    "duration": 42,
    "start_time": "2023-11-05T06:16:28.263Z"
   },
   {
    "duration": 5,
    "start_time": "2023-11-05T06:16:28.310Z"
   },
   {
    "duration": 5,
    "start_time": "2023-11-05T06:16:28.316Z"
   },
   {
    "duration": 8,
    "start_time": "2023-11-05T06:16:28.323Z"
   },
   {
    "duration": 27,
    "start_time": "2023-11-05T06:16:28.332Z"
   },
   {
    "duration": 335,
    "start_time": "2023-11-05T06:16:28.360Z"
   },
   {
    "duration": 27,
    "start_time": "2023-11-05T06:16:28.700Z"
   },
   {
    "duration": 4,
    "start_time": "2023-11-05T06:16:28.729Z"
   },
   {
    "duration": 19,
    "start_time": "2023-11-05T06:16:28.735Z"
   },
   {
    "duration": 6,
    "start_time": "2023-11-05T06:16:28.756Z"
   },
   {
    "duration": 67224,
    "start_time": "2023-11-05T06:16:28.763Z"
   },
   {
    "duration": 259,
    "start_time": "2023-11-05T06:17:35.988Z"
   },
   {
    "duration": 4,
    "start_time": "2023-11-05T06:17:36.248Z"
   },
   {
    "duration": 16,
    "start_time": "2023-11-05T06:17:36.254Z"
   },
   {
    "duration": 35,
    "start_time": "2023-11-05T06:17:36.272Z"
   },
   {
    "duration": 37,
    "start_time": "2023-11-05T06:17:36.309Z"
   },
   {
    "duration": 156,
    "start_time": "2023-11-05T06:17:36.348Z"
   },
   {
    "duration": 25,
    "start_time": "2023-11-05T06:17:36.505Z"
   },
   {
    "duration": 17,
    "start_time": "2023-11-05T06:17:36.532Z"
   },
   {
    "duration": 152,
    "start_time": "2023-11-05T06:17:36.551Z"
   },
   {
    "duration": 265,
    "start_time": "2023-11-05T06:17:36.704Z"
   },
   {
    "duration": 32,
    "start_time": "2023-11-05T06:17:36.971Z"
   },
   {
    "duration": 9,
    "start_time": "2023-11-05T06:17:37.004Z"
   },
   {
    "duration": 27,
    "start_time": "2023-11-05T06:17:37.014Z"
   },
   {
    "duration": 16,
    "start_time": "2023-11-05T06:17:37.042Z"
   },
   {
    "duration": 74187,
    "start_time": "2023-11-05T06:17:37.060Z"
   },
   {
    "duration": 1050,
    "start_time": "2023-11-05T06:18:51.249Z"
   },
   {
    "duration": 9,
    "start_time": "2023-11-05T06:18:52.300Z"
   },
   {
    "duration": 97,
    "start_time": "2023-11-05T06:18:52.314Z"
   },
   {
    "duration": 5,
    "start_time": "2023-11-05T06:18:52.413Z"
   },
   {
    "duration": 85,
    "start_time": "2023-11-05T06:18:52.420Z"
   },
   {
    "duration": 101,
    "start_time": "2023-11-05T06:18:52.507Z"
   },
   {
    "duration": 15,
    "start_time": "2023-11-05T06:18:52.609Z"
   },
   {
    "duration": 82,
    "start_time": "2023-11-05T06:18:52.626Z"
   },
   {
    "duration": 97,
    "start_time": "2023-11-05T06:18:52.710Z"
   },
   {
    "duration": 22,
    "start_time": "2023-11-05T06:18:52.809Z"
   },
   {
    "duration": 4,
    "start_time": "2023-11-05T06:18:52.832Z"
   },
   {
    "duration": 65,
    "start_time": "2023-11-05T06:18:52.837Z"
   },
   {
    "duration": 107,
    "start_time": "2023-11-05T06:18:52.904Z"
   },
   {
    "duration": 11,
    "start_time": "2023-11-05T06:18:53.102Z"
   },
   {
    "duration": 495,
    "start_time": "2023-11-05T06:18:53.115Z"
   },
   {
    "duration": 20,
    "start_time": "2023-11-05T06:18:53.612Z"
   },
   {
    "duration": 9,
    "start_time": "2023-11-05T06:18:53.634Z"
   },
   {
    "duration": 15,
    "start_time": "2023-11-05T06:18:53.644Z"
   },
   {
    "duration": 14,
    "start_time": "2023-11-05T06:18:53.661Z"
   },
   {
    "duration": 100552,
    "start_time": "2023-11-05T06:18:53.677Z"
   },
   {
    "duration": 1511,
    "start_time": "2023-11-05T06:20:34.231Z"
   },
   {
    "duration": 10,
    "start_time": "2023-11-05T06:20:35.744Z"
   },
   {
    "duration": 89,
    "start_time": "2023-11-05T06:20:35.755Z"
   },
   {
    "duration": 6,
    "start_time": "2023-11-05T06:20:35.846Z"
   },
   {
    "duration": 17,
    "start_time": "2023-11-05T06:20:35.853Z"
   },
   {
    "duration": 23,
    "start_time": "2023-11-05T06:20:35.872Z"
   },
   {
    "duration": 8,
    "start_time": "2023-11-05T06:20:35.897Z"
   },
   {
    "duration": 95,
    "start_time": "2023-11-05T06:20:35.906Z"
   },
   {
    "duration": 98,
    "start_time": "2023-11-05T06:20:36.004Z"
   },
   {
    "duration": 10,
    "start_time": "2023-11-05T06:20:36.104Z"
   },
   {
    "duration": 320,
    "start_time": "2023-11-05T06:20:36.116Z"
   },
   {
    "duration": 16,
    "start_time": "2023-11-05T06:20:36.438Z"
   },
   {
    "duration": 9,
    "start_time": "2023-11-05T06:20:36.456Z"
   },
   {
    "duration": 5,
    "start_time": "2023-11-05T06:20:36.467Z"
   },
   {
    "duration": 32,
    "start_time": "2023-11-05T06:20:36.474Z"
   },
   {
    "duration": 48319,
    "start_time": "2023-11-05T06:20:36.508Z"
   },
   {
    "duration": 707,
    "start_time": "2023-11-05T06:21:24.829Z"
   },
   {
    "duration": 9,
    "start_time": "2023-11-05T06:21:25.538Z"
   },
   {
    "duration": 100,
    "start_time": "2023-11-05T06:21:25.548Z"
   },
   {
    "duration": 6,
    "start_time": "2023-11-05T06:21:25.650Z"
   },
   {
    "duration": 1237,
    "start_time": "2023-11-05T06:21:25.657Z"
   },
   {
    "duration": 10,
    "start_time": "2023-11-05T06:21:26.896Z"
   },
   {
    "duration": 126,
    "start_time": "2023-11-05T06:21:26.907Z"
   },
   {
    "duration": 6,
    "start_time": "2023-11-05T06:21:27.035Z"
   },
   {
    "duration": 151,
    "start_time": "2023-11-05T06:21:27.043Z"
   }
  ],
  "kernelspec": {
   "display_name": "Python 3 (ipykernel)",
   "language": "python",
   "name": "python3"
  },
  "language_info": {
   "codemirror_mode": {
    "name": "ipython",
    "version": 3
   },
   "file_extension": ".py",
   "mimetype": "text/x-python",
   "name": "python",
   "nbconvert_exporter": "python",
   "pygments_lexer": "ipython3",
   "version": "3.9.13"
  },
  "toc": {
   "base_numbering": 1,
   "nav_menu": {},
   "number_sections": true,
   "sideBar": true,
   "skip_h1_title": true,
   "title_cell": "Содержание",
   "title_sidebar": "Contents",
   "toc_cell": true,
   "toc_position": {
    "height": "calc(100% - 180px)",
    "left": "10px",
    "top": "150px",
    "width": "397.797px"
   },
   "toc_section_display": true,
   "toc_window_display": true
  }
 },
 "nbformat": 4,
 "nbformat_minor": 2
}
